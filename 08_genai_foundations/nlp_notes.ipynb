{
 "cells": [
  {
   "cell_type": "markdown",
   "metadata": {},
   "source": [
    "# Fundamentals of language understanding\n",
    "\n",
    "### Converting word to features\n",
    "* one-hot encoding of tokens, bag of words (order omitted)\n",
    "* token index & embedding layer (replacing token index with embedded vector)\n",
    "* embedding matrix - tokens (rows) vs embedding dimension (cols)\n",
    "* multiple words -> sum/avg of the embeddings (embedding bag)\n",
    "\n",
    "### Document categorization\n",
    "* "
   ]
  }
 ],
 "metadata": {
  "language_info": {
   "name": "python"
  }
 },
 "nbformat": 4,
 "nbformat_minor": 2
}

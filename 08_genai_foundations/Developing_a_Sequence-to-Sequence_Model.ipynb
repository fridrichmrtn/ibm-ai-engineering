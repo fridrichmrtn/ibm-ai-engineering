{
 "cells": [
  {
   "cell_type": "markdown",
   "id": "21bd7395-1bec-4362-b251-728f0b2ffa5f",
   "metadata": {},
   "source": [
    "<p style=\"text-align:center\">\n",
    "    <a href=\"https://skills.network\" target=\"_blank\">\n",
    "    <img src=\"https://cf-courses-data.s3.us.cloud-object-storage.appdomain.cloud/assets/logos/SN_web_lightmode.png\" width=\"200\" alt=\"Skills Network Logo\">\n",
    "    </a>\n",
    "</p>\n"
   ]
  },
  {
   "cell_type": "markdown",
   "id": "4176b00f-cb2a-4931-a8a5-b9d38862cca0",
   "metadata": {},
   "source": [
    "# Sequence-to-Sequence RNN Models: Translation Task\n"
   ]
  },
  {
   "cell_type": "markdown",
   "id": "ac630504-30ab-4b65-a1aa-ee837a1f28e7",
   "metadata": {},
   "source": [
    "Estimated time needed: **60** minutes\n"
   ]
  },
  {
   "cell_type": "markdown",
   "id": "78830e52-78ad-4f1a-b84d-745329d93483",
   "metadata": {},
   "source": [
    "In this hands-on guide, you will explore the fundamentals of sequence-to-sequence models and learn how to implement an RNN-based model for a translation task using PyTorch.\n"
   ]
  },
  {
   "cell_type": "markdown",
   "id": "f8049322-ffc9-4292-b8a7-9afde03f2592",
   "metadata": {},
   "source": [
    "## __Table of Contents__\n",
    "\n",
    "<ol>\n",
    "    <li><a href=\"#Objectives\">Objectives</a></li>\n",
    "    <li>\n",
    "        <a href=\"#Setup\">Setup</a>\n",
    "        <ol>\n",
    "            <li><a href=\"#Installing-required-libraries\">Installing required libraries</a></li>\n",
    "            <li><a href=\"#Importing-required-libraries\">Importing required libraries</a></li>\n",
    "        </ol>\n",
    "    </li>\n",
    "    <li>\n",
    "        <a href=\"#Background\">Background</a>\n",
    "        <ol>\n",
    "            <li><a href=\"#History-of-sequence-to-sequence-models\">History of sequence-to-sequence models</a></li>\n",
    "            <li><a href=\"#Introduction-to-RNNs\">Introduction to RNNs</a></li>\n",
    "            <li><a href=\"#Sequence-to-sequence-architecture\">Sequence-to-sequence architecture</a></li>    \n",
    "        </ol>\n",
    "    <li><a href=\"#Encoder-implementation-in-PyTorch\">Encoder implementation in PyTorch</a></li>\n",
    "    <li><a href=\"#Decoder-implementation-in-PyTorch\">Decoder implementation in PyTorch</a></li>\n",
    "    <li><a href=\"#Sequence-to-sequence-model-implementation-in-PyTorch\">Sequence-to-sequence model implementation in PyTorch</a>\n",
    "    <li><a href=\"#Training-model-in-PyTorch\">Training model in PyTorch</a></li>\n",
    "    <li><a href=\"#Evaluating-model-in-PyTorch\">Evaluating model in PyTorch</a></li>\n",
    "    <li><a href=\"#Data-preprocessing\">Data preprocessing</a></li>\n",
    "    <li><a href=\"#Training-the-model\">Training the model</a></li>\n",
    "    <ol>\n",
    "        <li><a href=\"#Initializations\">Initializations</a></li>\n",
    "        <li><a href=\"#Training\">Training</a></li>\n",
    "    </ol>\n",
    "    <li><a href=\"#Model-inference\">Model inference</a></li>\n",
    "    <li><a href=\"#BLEU-score-metric-for-evaluation\">BLEU score metric for evaluation</a></li>\n",
    "    <li><a href=\"#Exercises\">Exercises</a></li>\n",
    "\n",
    "</ol>\n"
   ]
  },
  {
   "cell_type": "markdown",
   "id": "0e0a19e4-3abd-48e5-8072-a11c2934c6dd",
   "metadata": {},
   "source": [
    "## Objectives\n",
    "After completing this lab, you will be able to:\n",
    "\n",
    " - Comprehend recurrent neural networks (RNN) architecture\n",
    " - Create an Encoder-Decoder model for a translation task\n",
    " - Train and evaluate the model\n",
    " - Create a generator for the translation task\n",
    " - Explain concepts related to Perplexity and BLEU score and use them for evaluating translations\n"
   ]
  },
  {
   "cell_type": "markdown",
   "id": "c54b8713-6656-4e62-a907-26a2d7bf967a",
   "metadata": {},
   "source": [
    "----\n"
   ]
  },
  {
   "cell_type": "markdown",
   "id": "1f0b158a-3ed3-40d5-86ae-7c51c1a0517d",
   "metadata": {},
   "source": [
    "## Setup\n"
   ]
  },
  {
   "cell_type": "markdown",
   "id": "760fe0cf-6f3c-4dc1-aa8f-d6bd18c54f2e",
   "metadata": {},
   "source": [
    "### Installing required libraries\n",
    "\n",
    "<h2 style=\"color:red;\">After installing the libraries below please RESTART THE KERNEL and run all cells.</h2>\n"
   ]
  },
  {
   "cell_type": "code",
   "execution_count": 1,
   "id": "dfda2182-6d3c-4af1-b8f9-5f516696f0c6",
   "metadata": {},
   "outputs": [],
   "source": [
    "# !pip install torch==2.2.2\n",
    "# !pip install torchtext==0.17.2\n",
    "# !pip install portalocker==2.8.2\n",
    "# !pip install torchdata==0.7.1\n",
    "# !pip install pandas\n",
    "# !pip install matplotlib==3.9.0 scikit-learn==1.5.0\n",
    "# !pip install numpy==1.26.0\n",
    "# !pip install spacy\n",
    "# !pip install nltk"
   ]
  },
  {
   "cell_type": "markdown",
   "id": "74a65814-750d-40ea-9138-28cd9b41c9b4",
   "metadata": {},
   "source": [
    "The following required libraries are __not__ pre-installed in the Skills Network Labs environment. __You will need to run the following cell__ to install them:\n"
   ]
  },
  {
   "cell_type": "code",
   "execution_count": 2,
   "id": "5c202702-8ab4-4154-9616-65fa2b292c68",
   "metadata": {},
   "outputs": [],
   "source": [
    "# !pip install torchtext==0.15.1\n",
    "# !pip install torch==2.0.0\n",
    "# !pip install spacy==3.7.2\n",
    "# !pip install torchdata==0.6.0\n",
    "# !pip install portalocker>=2.0.0 #2.7.0\n",
    "# !pip install nltk==3.8.1\n",
    "# !pip install -U matplotlib\n",
    "\n"
   ]
  },
  {
   "cell_type": "code",
   "execution_count": 3,
   "id": "1b4c4d78-7c3b-4266-bfe7-093b8251e2db",
   "metadata": {},
   "outputs": [
    {
     "name": "stdout",
     "output_type": "stream",
     "text": [
      "Collecting en-core-web-sm==3.8.0\n",
      "  Downloading https://github.com/explosion/spacy-models/releases/download/en_core_web_sm-3.8.0/en_core_web_sm-3.8.0-py3-none-any.whl (12.8 MB)\n",
      "\u001b[2K     \u001b[90m━━━━━━━━━━━━━━━━━━━━━━━━━━━━━━━━━━━━━━━━\u001b[0m \u001b[32m12.8/12.8 MB\u001b[0m \u001b[31m7.4 MB/s\u001b[0m eta \u001b[36m0:00:00\u001b[0m00:01\u001b[0m00:01\u001b[0m\n",
      "\u001b[?25h\u001b[38;5;2m✔ Download and installation successful\u001b[0m\n",
      "You can now load the package via spacy.load('en_core_web_sm')\n",
      "Collecting de-core-news-sm==3.8.0\n",
      "  Downloading https://github.com/explosion/spacy-models/releases/download/de_core_news_sm-3.8.0/de_core_news_sm-3.8.0-py3-none-any.whl (14.6 MB)\n",
      "\u001b[2K     \u001b[90m━━━━━━━━━━━━━━━━━━━━━━━━━━━━━━━━━━━━━━━━\u001b[0m \u001b[32m14.6/14.6 MB\u001b[0m \u001b[31m9.5 MB/s\u001b[0m eta \u001b[36m0:00:00\u001b[0m:00:01\u001b[0m00:01\u001b[0m\n",
      "\u001b[?25h\u001b[38;5;2m✔ Download and installation successful\u001b[0m\n",
      "You can now load the package via spacy.load('de_core_news_sm')\n"
     ]
    }
   ],
   "source": [
    "!python -m spacy download en_core_web_sm\n",
    "!python -m spacy download de_core_news_sm"
   ]
  },
  {
   "cell_type": "markdown",
   "id": "2a6262c5-d2a6-461d-8e73-b1b269f1efaa",
   "metadata": {},
   "source": [
    "### Importing required libraries\n",
    "\n",
    "_It is recommended that you import all required libraries in one place (here):_\n"
   ]
  },
  {
   "cell_type": "code",
   "execution_count": 4,
   "id": "9751e600-0fa3-4d64-8605-945fb48bc6b0",
   "metadata": {},
   "outputs": [],
   "source": [
    "from torchtext.data.utils import get_tokenizer\n",
    "from torchtext.vocab import build_vocab_from_iterator\n",
    "from torchtext.datasets import multi30k, Multi30k\n",
    "from typing import Iterable, List\n",
    "from torch.nn.utils.rnn import pad_sequence\n",
    "from torch.utils.data import DataLoader\n",
    "from torchdata.datapipes.iter import IterableWrapper, Mapper\n",
    "import torchtext\n",
    "from torchtext.vocab import build_vocab_from_iterator\n",
    "from nltk.translate.bleu_score import sentence_bleu\n",
    "import torch\n",
    "import torch.nn as nn\n",
    "import torch.optim as optim\n",
    "\n",
    "\n",
    "import numpy as np\n",
    "import random\n",
    "import math\n",
    "import time\n",
    "from tqdm import tqdm\n",
    "import matplotlib.pyplot as plt\n",
    "\n",
    "\n",
    "# You can also use this section to suppress warnings generated by your code:\n",
    "def warn(*args, **kwargs):\n",
    "    pass\n",
    "import warnings\n",
    "warnings.warn = warn\n",
    "warnings.filterwarnings('ignore')"
   ]
  },
  {
   "cell_type": "markdown",
   "id": "faf8d232-2d32-451a-9675-6bd7aebc3a45",
   "metadata": {},
   "source": [
    "## Background\n",
    "\n",
    "Sequence-to-sequence (Seq2seq) models have revolutionized various natural language processing (NLP) tasks, such as machine translation, text summarization, and chatbots. These models employ Recurrent Neural Networks (RNNs) to process variable-length input sequences and generate variable-length output sequences.\n"
   ]
  },
  {
   "cell_type": "markdown",
   "id": "8a227916-788f-41a5-a2b9-f82dce169735",
   "metadata": {},
   "source": [
    "### History of sequence-to-sequence models\n",
    "\n",
    "Sequence-to-sequence models were introduced as an extension of traditional feedforward neural networks.\n",
    "Researchers realized the need for models that could handle variable-length input and output sequences, such as machine translation.\n",
    "The pioneering work of Sutskever et al. (2014) introduced the use of RNNs for seq2seq models.\n",
    "\n",
    "Here are some main objectives of seq2seq models:\n",
    "- Translation: Translating a sequence from one domain to another (e.g., English to French).\n",
    "- Question answering: Generating a natural language response given an input sentence (e.g., chatbots).\n",
    "- Summarization: Summarizing a long document into a shorter sequence of sentences.\n",
    "And many more applications that involve sequence generation.\n"
   ]
  },
  {
   "cell_type": "markdown",
   "id": "4ee7e220-b64e-47de-b0be-1e1f8fdedec4",
   "metadata": {},
   "source": [
    "### Introduction to RNNs\n",
    "\n",
    "RNNs are a class of neural networks designed to process sequential data.\n",
    "They maintain an internal memory($h_t$) to capture information from previous steps and use it for current predictions.\n",
    "RNNs have a recurrent connection that allows information to flow from one step to the next.\n",
    "Recurrent Neural Networks (RNNs) operate on sequences and utilize previous states to influence the current state. Here's the general formulation of a simple RNN:\n",
    "\n",
    "\n",
    "Given:\n",
    "\n",
    "-$ \\mathbf{x}_t $: input vector at time step $t$\n",
    "\n",
    "-$ \\mathbf{h}_{t-1} $: hidden state vector from the previous time step\n",
    "\n",
    "-$ \\mathbf{W}_x $ and $ \\mathbf{W}_h $: weight matrices for the input and hidden state, respectively\n",
    "\n",
    "-$ \\mathbf{b} $: bias vector\n",
    "\n",
    "-$\\sigma$: activation function (often a sigmoid or tanh)\n",
    "\n",
    "The update equations for the hidden state $ \\mathbf{h}_t $ and the output $ \\mathbf{y}_t $ are as follows:\n",
    "\n",
    "$$\n",
    "\\begin{align*}\n",
    "\\mathbf{h}_t &= \\sigma(\\mathbf{W}_x \\cdot \\mathbf{x}_t + \\mathbf{W}_h \\cdot \\mathbf{h}_{t-1} + \\mathbf{b})\n",
    "\\end{align*}\n",
    "$$\n",
    "\n",
    "It can be seen that the hidden state function depends on the previous hidden state as well as the input at time t, which is why it has a collective memory of previous time steps.\n",
    "\n",
    "For the output (if you're making a prediction at each time step):\n",
    "\n",
    "$$\n",
    "\\begin{align*}\n",
    "\\mathbf{y}_t &= \\text{softmax}(\\mathbf{W}_o \\cdot \\mathbf{h}_t + \\mathbf{b}_o)\n",
    "\\end{align*}\n",
    "$$\n",
    "\n",
    "Where:\n",
    "\n",
    "$ \\mathbf{W}_o $: weight matrix for the output AND $ \\mathbf{b}_o$: bias vector for the output\n",
    "\n",
    "\n",
    "\n",
    "Depending on the specific task, an RNN cell can either produce an output from $h_t$ or solely transfer it to the succeeding cell, serving as internal memory. While the architecture's ability to retain memory might seem elusive at first glance, let's elucidate this by implementing a simple RNN to handle the following data mechanism:\n",
    "\n",
    "![a title](https://cf-courses-data.s3.us.cloud-object-storage.appdomain.cloud/IBMSkillsNetwork-AI0205EN-SkillsNetwork/Screenshot%202023-10-19%20at%2011.29.23%E2%80%AFAM.png)\n",
    "\n",
    "\n",
    "The diagram showcases a state machine or transition model with three distinct states, depicted by the prominent purple circles. Each state is distinctly labeled with a value for $ h $: $ h = -1 $, $ h = 0 $, and $ h = 1 $.\n",
    "\n",
    "1. **State $ h = -1 $**:\n",
    "   - Maintains itself when $ x = 1 $ (illustrated by the yellow loop).\n",
    "   - Proceeds to the $ h = 0$ state upon receiving $ x = -1$ (highlighted by the red arrow).\n",
    "\n",
    "2. **State $ h = 0 $**:\n",
    "   - Moves to the $h = -1 $ state when $ x = 1$ (illustrated by the red arrow).\n",
    "   - Advances to the $ h = 1 $ state with $ x = -1$ (marked by the red arrow).\n",
    "\n",
    "3. **State $h = 1 $**:\n",
    "   - Sustains its position when $ x = -1 $ (indicated by the yellow loop).\n",
    "   - Transitions to the $ h = 0 $ state upon receiving $ x = 1 $ (signified by the red arrow).\n",
    "\n",
    "To encapsulate, the diagram effectively portrays transitions among three states based on the input $ x $. Contingent on the prevailing state and the input $ x $, the state machine either transitions to a different state or remains stationary.\n",
    "\n",
    "---\n"
   ]
  },
  {
   "cell_type": "markdown",
   "id": "cc9a6320-7407-4556-96ca-27c5a00d02c6",
   "metadata": {},
   "source": [
    "\n",
    "You can represent the previously mentioned state machine using the layer detailed below. Use $tanh$ as the $h$ value should fall between [-1, 1]. Note that you have excluded the output for simplification:\n",
    "\n",
    "$$\\begin{align*}\n",
    "W_{xh} & = -10.0 \\\\\\\\\\\\\\\\\\\\\\\\\\\\\\\\\n",
    "W_{hh} & = 10.0 \\\\\n",
    "b_h & = 0.0 \\\\\n",
    "x_t & = 1 \\\\\n",
    "h_{\\text{prev}} & = 0.0 \\\\\n",
    "h_t & = \\tanh(x_t \\cdot W_{xh} + h_{\\text{prev}} \\cdot W_{hh} + b_h)\n",
    "\\end{align*}$$\n"
   ]
  },
  {
   "cell_type": "code",
   "execution_count": 5,
   "id": "98b72620-5ad8-45c3-b77f-95e7d7bcbed1",
   "metadata": {},
   "outputs": [],
   "source": [
    " W_xh=torch.tensor(-10.0)\n",
    " W_hh=torch.tensor(10.0)\n",
    " b_h=torch.tensor(0.0)\n",
    " x_t=1\n",
    " h_prev=torch.tensor(-1)"
   ]
  },
  {
   "cell_type": "markdown",
   "id": "8397b454-36ac-46bd-a1d6-7f7e839b89a3",
   "metadata": {},
   "source": [
    "Consider the following sequence $x_t$ for  $t=0,1,..,7$,\n"
   ]
  },
  {
   "cell_type": "code",
   "execution_count": 6,
   "id": "7c34487b-ea31-4651-84eb-5a1d852736e9",
   "metadata": {},
   "outputs": [],
   "source": [
    "X=[1,1,-1,-1,1,1]"
   ]
  },
  {
   "cell_type": "markdown",
   "id": "89ec1181-99cb-407b-bfbc-b19b11578c7a",
   "metadata": {},
   "source": [
    "Assuming that you start from the intial state $h = 0$,  with the above input vector $x$, the state vector $h$ should look like this:\n"
   ]
  },
  {
   "cell_type": "code",
   "execution_count": 7,
   "id": "26f8f81d-1a47-44c6-b421-358d58d01ed3",
   "metadata": {},
   "outputs": [],
   "source": [
    "H=[-1,-1,0,1,0,-1]"
   ]
  },
  {
   "cell_type": "code",
   "execution_count": 8,
   "id": "03477928-2497-48d3-aa4b-e1c5b4017ac0",
   "metadata": {},
   "outputs": [
    {
     "name": "stdout",
     "output_type": "stream",
     "text": [
      "t= 1\n",
      "h_t-1 -1\n",
      "x_t 1\n",
      "h_t -1.0\n",
      "\n",
      "\n",
      "t= 2\n",
      "h_t-1 -1.0\n",
      "x_t 1\n",
      "h_t -1.0\n",
      "\n",
      "\n",
      "t= 3\n",
      "h_t-1 -1.0\n",
      "x_t -1\n",
      "h_t 0.0\n",
      "\n",
      "\n",
      "t= 4\n",
      "h_t-1 0.0\n",
      "x_t -1\n",
      "h_t 1.0\n",
      "\n",
      "\n",
      "t= 5\n",
      "h_t-1 1.0\n",
      "x_t 1\n",
      "h_t 0.0\n",
      "\n",
      "\n",
      "t= 6\n",
      "h_t-1 0.0\n",
      "x_t 1\n",
      "h_t -1.0\n",
      "\n",
      "\n"
     ]
    }
   ],
   "source": [
    "# Initialize an empty list to store the predicted state values\n",
    "H_hat = []\n",
    "# Loop through each data point in the input sequence X\n",
    "t=1\n",
    "for x in X:\n",
    "    # Assign the current data point to x_t\n",
    "    print(\"t=\",t)\n",
    "    x_t = x\n",
    "    # Print the value of the previous state (h at time t-1)\n",
    "    print(\"h_t-1\", h_prev.item())\n",
    "\n",
    "    # Compute the current state (h at time t) using the RNN formula with tanh activation\n",
    "    h_t = torch.tanh(x_t * W_xh + h_prev * W_hh + b_h)\n",
    "\n",
    "    # Update h_prev to the current state value for the next iteration\n",
    "    h_prev = h_t\n",
    "\n",
    "    # Print the current input value (x at time t)\n",
    "    print(\"x_t\", x_t)\n",
    "\n",
    "    # Print the computed state value (h at time t)\n",
    "    print(\"h_t\", h_t.item())\n",
    "    print(\"\\n\")\n",
    "\n",
    "    # Append the current state value to the H_hat list after converting it to integer\n",
    "    H_hat.append(int(h_t.item()))\n",
    "    t+=1\n"
   ]
  },
  {
   "cell_type": "markdown",
   "id": "aaec6885-76b6-4346-97b2-14be75d57914",
   "metadata": {},
   "source": [
    "\n",
    "\n",
    "You can evaluate the accuracy of the predicted state ```H_hat``` by comparing it to the actual state ```H```. In RNNs, the state $ h_t $ is utilized to predict an output sequence $y_t $ based on the given input sequence $ x_t $.\n"
   ]
  },
  {
   "cell_type": "code",
   "execution_count": 9,
   "id": "4f9b9b28-8793-491b-9c12-d766eba791b1",
   "metadata": {},
   "outputs": [
    {
     "data": {
      "text/plain": [
       "[-1, -1, 0, 1, 0, -1]"
      ]
     },
     "execution_count": 9,
     "metadata": {},
     "output_type": "execute_result"
    }
   ],
   "source": [
    "H_hat"
   ]
  },
  {
   "cell_type": "code",
   "execution_count": 10,
   "id": "50326ff2-f462-49e5-a78b-c3a0a2d4622a",
   "metadata": {},
   "outputs": [
    {
     "data": {
      "text/plain": [
       "[-1, -1, 0, 1, 0, -1]"
      ]
     },
     "execution_count": 10,
     "metadata": {},
     "output_type": "execute_result"
    }
   ],
   "source": [
    "H"
   ]
  },
  {
   "cell_type": "markdown",
   "id": "5b8b9568-3169-4c41-9a01-cc94a2b68439",
   "metadata": {},
   "source": [
    "While you have pre-defined the $W_{xh}$ and $W_{hh}$  and $b_h$, in practice these values need to be identified through training on data.\n"
   ]
  },
  {
   "cell_type": "markdown",
   "id": "fcb55f5b-cc03-416b-8afa-52e1aea2586e",
   "metadata": {},
   "source": [
    "In practice, modifications and enhancements, such as Long Short-Term Memory (LSTM) and Gated Recurrent Units (GRU), are often used to address issues like the vanishing gradient problem in basic RNNs.\n"
   ]
  },
  {
   "cell_type": "markdown",
   "id": "6040bea8-22fd-4917-aca9-9d7946b00209",
   "metadata": {},
   "source": [
    "An LSTM cell has three main components: an input gate, a forget gate, and an output gate.\n",
    "- The **input gate** controls how much new information should be stored in the cell's memory. It looks at the current input and the previous hidden state and decides which parts of the new input to remember.\n",
    "- The **forget gate** determines what information should be discarded or forgotten from the cell's memory. It considers the current input and the previous hidden state and decides which parts of the previous memory are no longer relevant.\n",
    "- The **output gate** determines what information should be outputted from the cell. It looks at the current input and the previous hidden state and decides which parts of the cell's memory to include in the output.\n",
    "\n",
    "The key idea behind LSTM cells is that they have a separate memory state that can selectively retain or forget information over time. This helps them handle long-range dependencies and remember important information from earlier steps in a sequence.\n"
   ]
  },
  {
   "cell_type": "markdown",
   "id": "bbedc132-3162-458a-8525-dfdfe52a1a59",
   "metadata": {},
   "source": [
    "### Sequence-to-sequence architecture\n",
    "\n",
    "Seq2seq models have an Encoder-Decoder structure. The encoder encodes the input sequence into a fixed-dimensional representation, often called the context vector($h_t$). The decoder generates the output sequence based on the encoded context vector.\n"
   ]
  },
  {
   "cell_type": "markdown",
   "id": "64dad1d5-bcbb-47f3-bb5c-0157352c528e",
   "metadata": {},
   "source": [
    "Let's look closer into the encoder and decoder boxes in the video below. Translation is a typical sequence-to-sequence task. The input is a sequence of words in the original language(\"I love to travel\"), while output is its translation in the destination language(\"J'adore voyager\"). As shown in the video, input is fed into the decoder part, one word after another. Each RNN cell receives a word($x_t$) and has an internal memory($h_t$). After processing the input and $h_t$, RNN cell passes an updated context vector($h_{t+1}$) to the next RNN cell. When the end of sentence is reached, the context vector is passed to the decoder part. Decoder cells are also RNN cells that receive context vector and generate the output word by word. Each RNN receives the generated word as well as the updated context vector from its previous cell and generates the next word($y_t$). This architecture allows for generating text without length restrictions.\n"
   ]
  },
  {
   "cell_type": "markdown",
   "id": "1196ac60-7660-439b-8608-dae45ce49204",
   "metadata": {},
   "source": [
    "<video width=\"640\" height=\"480\"\n",
    "src=\"https://cf-courses-data.s3.us.cloud-object-storage.appdomain.cloud/IBMSkillsNetwork-AI0205EN-SkillsNetwork/Translation_RNN.mp4\"\n",
    "controls>\n",
    "</video>\n"
   ]
  },
  {
   "cell_type": "markdown",
   "id": "47f1a550-465e-4fcc-bb40-77d948b90dd3",
   "metadata": {},
   "source": [
    "## Encoder implementation in PyTorch\n",
    "\n",
    "To implement the encoder part using Pytorch, you will create the sub-class of the torch.nn.Module class and define the __init__() and __forward__() method.\n",
    "\n",
    "Let's first define the parameters that are used in __init__() function:\n",
    "- The `vocab_len` is nothing but the number of unique words present in the vocabulary. After pre-processing the data, you can count the number of unique words in your vocabulary and use that count here. This will be the dimension of the model input.\n",
    "- The embedding_dim is the output dimension of the embedding vector you need. A good practice is to use 256-512 for sample demo app like you are building here.\n",
    "- LSTM can indeed be stacked, allowing for multiple layers. In the initial implementation, you will use only one layer. However, to accommodate future flexibility, you will pass the parameter `n_layers` to specify the number of layers in the LSTM.\n",
    "- `hid_dim` is the dimensionality of the hidden and cell states.\n",
    "- `dropout` is the amount of dropout to use. This is a regularization parameter to prevent overfitting.\n",
    "\n",
    "Now, let's look into the layers:\n",
    "- The Embedding layer takes the input data and outputs the embedding vector, hence the dimension of those needs to be defined as `vocab_len` and `embedding_dim`.\n",
    "- The LSTM Layer takes the `embedding_dim` as the input data and creates total 3 outputs: `hidden`, `cell` and `output`. Here you need to define the number of neurons you need in LSTM, which is defined using the `hid_dim`.\n",
    "\n",
    "\n",
    "In the __forward__() function, the Embedding layer is defined that utilizes the `vocab_len` to internally convert the input_batch into a one-hot representation. Next, the LSTM layer receives the embedded input and outputs three vectors: Output, Hidden and cell. As for the encoder, you don't require the output vector from the LSTM as you only pass the context vector(`hidden`+`cell`) to the decoder block. Therefore, forward() only returns hidden and cell.\n",
    "\n",
    "Note: When using an LSTM, you have an additional cell state. However, if you were using a GRU, you would only have the hidden state.\n"
   ]
  },
  {
   "cell_type": "code",
   "execution_count": 11,
   "id": "71ec60a5-912a-481b-a203-34fcd4a9f55e",
   "metadata": {},
   "outputs": [],
   "source": [
    "class Encoder(nn.Module):\n",
    "    def __init__(self, vocab_len, emb_dim, hid_dim, n_layers, dropout_prob):\n",
    "        super().__init__()\n",
    "\n",
    "        self.hid_dim = hid_dim\n",
    "        self.n_layers = n_layers\n",
    "\n",
    "        self.embedding = nn.Embedding(vocab_len, emb_dim)\n",
    "\n",
    "        self.lstm = nn.LSTM(emb_dim, hid_dim, n_layers, dropout = dropout_prob)\n",
    "        self.dropout = nn.Dropout(dropout_prob)\n",
    "\n",
    "    def forward(self, input_batch):\n",
    "        #input_batch = [src len, batch size]\n",
    "        embed = self.dropout(self.embedding(input_batch))\n",
    "        embed = embed.to(device)\n",
    "        #outputs = [src len, batch size, hid dim * n directions]\n",
    "        #hidden = [n layers * n directions, batch size, hid dim]\n",
    "        #cell = [n layers * n directions, batch size, hid dim]\n",
    "        outputs, (hidden, cell) = self.lstm(embed)\n",
    "\n",
    "        return hidden, cell\n"
   ]
  },
  {
   "cell_type": "markdown",
   "id": "4a12bc55-e24b-417c-99cd-18b3629c7a1c",
   "metadata": {},
   "source": [
    "Now you are ready to create an encoder instance to see how it works:\n"
   ]
  },
  {
   "cell_type": "code",
   "execution_count": 12,
   "id": "47f002f6-87b4-45ff-b5fe-44325d29750f",
   "metadata": {},
   "outputs": [],
   "source": [
    "vocab_len = 8\n",
    "emb_dim = 10\n",
    "hid_dim=8\n",
    "n_layers=1\n",
    "dropout_prob=0.5\n",
    "device = torch.device('cuda' if torch.cuda.is_available() else 'cpu')\n",
    "\n",
    "encoder_t = Encoder(vocab_len, emb_dim, hid_dim, n_layers, dropout_prob).to(device)"
   ]
  },
  {
   "cell_type": "markdown",
   "id": "1780dd26-d3eb-4b35-b591-5a89d8fed70b",
   "metadata": {},
   "source": [
    "Let's see a simple example where the encoder forward method transforms the `src` sentence into a `hidden` and `cell` states. tensor([[0],[3],[4],[2],[1]]) is equal to `src` = 0,3,4,2,1 in which each number represents a token in the `src` vocabulary. For instance, 0:`<bos>`,3:\"Das\", 4:\"ist\",2:\"schön\", 1:`<eos>`. Note that here you have batch size of 1.\n"
   ]
  },
  {
   "cell_type": "code",
   "execution_count": 13,
   "id": "7255ff46-a624-4731-a9ce-3c9976889080",
   "metadata": {},
   "outputs": [
    {
     "name": "stdout",
     "output_type": "stream",
     "text": [
      "Shape of input(src) tensor: torch.Size([5, 1])\n",
      "Hidden tensor from encoder: tensor([[[-0.1352,  0.0256,  0.2750,  0.0314, -0.2293,  0.0532,  0.0506,\n",
      "           0.1933]]], device='cuda:0', grad_fn=<CudnnRnnBackward0>) \n",
      "Cell tensor from encoder: tensor([[[-0.2446,  0.0387,  0.6152,  0.0839, -0.3795,  0.0944,  0.0855,\n",
      "           0.3952]]], device='cuda:0', grad_fn=<CudnnRnnBackward0>)\n"
     ]
    }
   ],
   "source": [
    "src_batch = torch.tensor([[0,3,4,2,1]])\n",
    "# you need to transpose the input tensor as the encoder LSTM is in Sequence_first mode by default\n",
    "src_batch = src_batch.t().to(device)\n",
    "print(\"Shape of input(src) tensor:\", src_batch.shape)\n",
    "hidden_t , cell_t = encoder_t(src_batch)\n",
    "print(\"Hidden tensor from encoder:\",hidden_t ,\"\\nCell tensor from encoder:\", cell_t)"
   ]
  },
  {
   "cell_type": "markdown",
   "id": "0599cd98-28eb-4dc9-9cee-4dda4ab0cb8f",
   "metadata": {},
   "source": [
    "The encoder takes the entire source sequence as input, which consists of a sequence of words or tokens. The encoder LSTM processes the entire input sequence and updates its hidden states at each time step. The hidden states of the LSTM network act as a form of memory and capture the contextual information of the input sequence. After processing the entire input sequence, the final hidden state of the encoder LSTM captures the summarized representation of the input sequence's context. This final hidden state is sometimes referred to as the \"context vector\".\n"
   ]
  },
  {
   "cell_type": "markdown",
   "id": "e25a464f-c7cd-4350-b865-ece4c57658bb",
   "metadata": {},
   "source": [
    "## Decoder implementation in PyTorch\n",
    "\n",
    "To have a better understanding of the internal mechanism of the decoder part, let's take a closer look into it:\n"
   ]
  },
  {
   "cell_type": "markdown",
   "id": "289454a9-9b5f-4322-9ffe-79d6c1a6d48d",
   "metadata": {},
   "source": [
    "<video width=\"640\" height=\"480\"\n",
    "       src=\"https://cf-courses-data.s3.us.cloud-object-storage.appdomain.cloud/IBMSkillsNetwork-AI0205EN-SkillsNetwork/decoder_RNN.mp4\"\n",
    "       controls>\n",
    "</video>\n"
   ]
  },
  {
   "cell_type": "markdown",
   "id": "74c1b052-c356-4996-ab02-4a6a665d77e2",
   "metadata": {},
   "source": [
    "The decoder class inherits from nn.Module, which is a base class for all neural network modules in PyTorch.\n",
    "The constructor (__init__ method) initializes the parameters and layers of the decoder.\n",
    "- `output_dim` is the number of possible output values(target vocab length).\n",
    "- `emb_dim` is the dimensionality of the embedding layer.\n",
    "- `hid_dim` is the dimensionality of the hidden state in the LSTM.\n",
    "- `n_layers` is the number of layers in the LSTM.\n",
    "- `dropout` is the dropout probability.\n",
    "\n",
    "The decoder contains the following layers:\n",
    "- `embedding`: An embedding layer that maps the output values to dense vectors of size emb_dim.\n",
    "- `lstm`: An LSTM layer that takes the embedded input and produces hidden states of size hid_dim.\n",
    "-  `fc_out`: A linear layer that maps the LSTM output to the output dimension output_dim.\n",
    "- `softmax`: A log-softmax activation function applied to the output to obtain a probability distribution over the output values.\n",
    "- `dropout`: A dropout layer that applies dropout to the embedded input.\n"
   ]
  },
  {
   "cell_type": "code",
   "execution_count": 14,
   "id": "07510a38-d6fe-4ba3-9d66-64ba8f0bc339",
   "metadata": {},
   "outputs": [],
   "source": [
    "class Decoder(nn.Module):\n",
    "    def __init__(self, output_dim, emb_dim, hid_dim, n_layers, dropout):\n",
    "        super().__init__()\n",
    "\n",
    "        self.output_dim = output_dim\n",
    "        self.hid_dim = hid_dim\n",
    "        self.n_layers = n_layers\n",
    "\n",
    "\n",
    "        self.embedding = nn.Embedding(output_dim, emb_dim)\n",
    "        self.lstm = nn.LSTM(emb_dim, hid_dim, n_layers, dropout = dropout)\n",
    "        self.fc_out = nn.Linear(hid_dim, output_dim)\n",
    "        self.softmax = nn.LogSoftmax(dim=1)\n",
    "        self.dropout = nn.Dropout(dropout)\n",
    "\n",
    "    def forward(self, input, hidden, cell):\n",
    "\n",
    "\n",
    "        #input = [batch size]\n",
    "\n",
    "        #hidden = [n layers * n directions, batch size, hid dim]\n",
    "        #cell = [n layers * n directions, batch size, hid dim]\n",
    "\n",
    "        #n directions in the decoder will both always be 1, therefore:\n",
    "        #hidden = [n layers, batch size, hid dim]\n",
    "        #context = [n layers, batch size, hid dim]\n",
    "\n",
    "        input = input.unsqueeze(0)\n",
    "        #input = [1, batch size]\n",
    "\n",
    "        embedded = self.dropout(self.embedding(input))\n",
    "        #embedded = [1, batch size, emb dim]\n",
    "\n",
    "        output, (hidden, cell) = self.lstm(embedded, (hidden, cell))\n",
    "        #output = [seq len, batch size, hid dim * n directions]\n",
    "        #hidden = [n layers * n directions, batch size, hid dim]\n",
    "        #cell = [n layers * n directions, batch size, hid dim]\n",
    "\n",
    "        #seq len and n directions will always be 1 in the decoder, therefore:\n",
    "        #output = [1, batch size, hid dim]\n",
    "        #hidden = [n layers, batch size, hid dim]\n",
    "        #cell = [n layers, batch size, hid dim]\n",
    "        prediction_logit = self.fc_out(output.squeeze(0))\n",
    "        prediction = self.softmax(prediction_logit)\n",
    "        #prediction = [batch size, output dim]\n",
    "\n",
    "\n",
    "        return prediction, hidden, cell"
   ]
  },
  {
   "cell_type": "markdown",
   "id": "d0bc69ee-5e53-4054-a0a3-6eae96ce3205",
   "metadata": {},
   "source": [
    "You can create a decoder instance. The output dimension is set as the target vocab length.\n"
   ]
  },
  {
   "cell_type": "code",
   "execution_count": 15,
   "id": "c829b233-ed0f-4f6e-af34-c9417d32aad7",
   "metadata": {},
   "outputs": [],
   "source": [
    "output_dim = 6\n",
    "emb_dim=10\n",
    "hid_dim = 8\n",
    "n_layers=1\n",
    "dropout=0.5\n",
    "decoder_t = Decoder(output_dim, emb_dim, hid_dim, n_layers, dropout).to(device)"
   ]
  },
  {
   "cell_type": "markdown",
   "id": "c1a99e37-a948-4d55-a7fe-6a64a59c954c",
   "metadata": {},
   "source": [
    "Now that you have instances of both encoder and decoder, you are ready to connect them (the red box in the diagram below). First, let's see how you can pass the Hidden and Cell (the pink cell within the red box) from encoder (the green boxes container) to decoder (the orange boxes container). Looking at the diagram, you can see that the decoder also receives an input which is the previous word that it has predicted. For the first decoder cell, this input is `<bos>` token. Each decoder cell outputs a prediction and updates the cell and state to pass to the next decoder cell. prediction is a probability distribution over possible target tokens (length of target vocab).\n",
    "\n",
    "![connection](https://cf-courses-data.s3.us.cloud-object-storage.appdomain.cloud/IBMSkillsNetwork-AI0205EN-SkillsNetwork/ED_connection.JPG)\n"
   ]
  },
  {
   "cell_type": "code",
   "execution_count": 16,
   "id": "56fb92ea-2973-4ca5-986f-70294b56069d",
   "metadata": {},
   "outputs": [
    {
     "name": "stdout",
     "output_type": "stream",
     "text": [
      "Prediction: tensor([[-1.7195, -1.7786, -1.9618, -1.7613, -1.5106, -2.1305]],\n",
      "       device='cuda:0', grad_fn=<LogSoftmaxBackward0>) \n",
      "Hidden: tensor([[[ 0.0346, -0.0096, -0.0520, -0.1092, -0.1700, -0.0855, -0.0027,\n",
      "          -0.0754]]], device='cuda:0', grad_fn=<CudnnRnnBackward0>) \n",
      "Cell: tensor([[[ 0.1648, -0.0115, -0.1112, -0.2404, -0.3958, -0.0972, -0.0068,\n",
      "          -0.2728]]], device='cuda:0', grad_fn=<CudnnRnnBackward0>)\n"
     ]
    }
   ],
   "source": [
    "input_t = torch.tensor([0]).to(device) #<bos>\n",
    "input_t.shape\n",
    "prediction, hidden, cell = decoder_t(input_t, hidden_t , cell_t)\n",
    "print(\"Prediction:\", prediction, '\\nHidden:',hidden,'\\nCell:', cell)"
   ]
  },
  {
   "cell_type": "markdown",
   "id": "d0471ebf-4cb4-49fb-b5d9-6016758006c6",
   "metadata": {},
   "source": [
    "# Encoder-decoder connection\n"
   ]
  },
  {
   "cell_type": "markdown",
   "id": "845ce2ac-52bb-4f0f-858f-11a2e78f0a2a",
   "metadata": {},
   "source": [
    "Alright! You learned how to create encoder and decoder modules and how to pass input to them. Now you need to create the connection so that the model can process (`src`,`trg`) pairs and generate the translation. suppose that `trg` is tensor ([[0],[2],[3],[5],[1]]) which is equal to sequence 0,2,3,5,1 in which each number represents a token in the target vocabulary. For instance, 0:`<bos>`,2:\"this\", 3:\"is\",5:\"beautiful\", 1:`<eos>`.\n"
   ]
  },
  {
   "cell_type": "code",
   "execution_count": 17,
   "id": "ca38d28d-f850-4e50-9876-4ddef29e71d9",
   "metadata": {},
   "outputs": [
    {
     "name": "stdout",
     "output_type": "stream",
     "text": [
      "tensor([[[ 0.0000,  0.0000,  0.0000,  0.0000,  0.0000,  0.0000]],\n",
      "\n",
      "        [[-1.7034, -1.7699, -1.9927, -1.7470, -1.5362, -2.1058]],\n",
      "\n",
      "        [[-1.6329, -1.7996, -2.1140, -1.6973, -1.5652, -2.0692]],\n",
      "\n",
      "        [[-1.7244, -1.7986, -2.0358, -1.7083, -1.5092, -2.0926]],\n",
      "\n",
      "        [[-1.6880, -1.7889, -2.0896, -1.7929, -1.4614, -2.0727]]],\n",
      "       device='cuda:0', grad_fn=<CopySlices>) torch.Size([5, 1, 6])\n"
     ]
    }
   ],
   "source": [
    "\n",
    "#trg = [trg len, batch size]\n",
    "#teacher_forcing_ratio is probability to use teacher forcing\n",
    "#e.g. if teacher_forcing_ratio is 0.75 you use ground-truth inputs 75% of the time\n",
    "teacher_forcing_ratio = 0.5\n",
    "trg = torch.tensor([[0],[2],[3],[5],[1]]).to(device)\n",
    "\n",
    "\n",
    "batch_size = trg.shape[1]\n",
    "trg_len = trg.shape[0]\n",
    "trg_vocab_size = decoder_t.output_dim\n",
    "\n",
    "#tensor to store decoder outputs\n",
    "outputs_t = torch.zeros(trg_len, batch_size, trg_vocab_size).to(device)\n",
    "\n",
    "#send to device\n",
    "\n",
    "hidden_t = hidden_t.to(device)\n",
    "cell_t = cell_t.to(device)\n",
    "\n",
    "\n",
    "#first input to the decoder is the <bos> tokens\n",
    "input = trg[0,:]\n",
    "\n",
    "\n",
    "for t in range(1, trg_len):\n",
    "\n",
    "    #you loop through the trg len and generate tokens\n",
    "    #decoder receives previous generated token, cell and hidden\n",
    "    # decoder outputs it prediction(probablity distribution for the next token) and updates hidden and cell\n",
    "    output_t, hidden_t, cell_t = decoder_t(input, hidden_t, cell_t)\n",
    "\n",
    "    #place predictions in a tensor holding predictions for each token\n",
    "    outputs_t[t] = output_t\n",
    "\n",
    "    #decide if you are going to use teacher forcing or not\n",
    "    teacher_force = random.random() < teacher_forcing_ratio\n",
    "\n",
    "    #get the highest predicted token from your predictions\n",
    "    top1 = output_t.argmax(1)\n",
    "\n",
    "\n",
    "    #if teacher forcing, use actual next token as next input\n",
    "    #if not, use predicted token\n",
    "    #input = trg[t] if teacher_force else top1\n",
    "    input = trg[t] if teacher_force else top1\n",
    "\n",
    "print(outputs_t,outputs_t.shape )"
   ]
  },
  {
   "cell_type": "markdown",
   "id": "be3d7fef-7370-4989-8355-e877ef8caf2b",
   "metadata": {},
   "source": [
    "The size of output tensor is (trg_len, batch_size, trg_vocab_size). This is because for each `trg` token (length of `trg`) the model outputs a probability distribution over all possible tokens(trg vocab length). Therefore, to generate the predicted tokens or translation of the `src` sentence, you need to get the maximum probability for each token:\n"
   ]
  },
  {
   "cell_type": "code",
   "execution_count": 18,
   "id": "0f6551f7-3e8b-4b6f-838e-2c16e123f7f4",
   "metadata": {},
   "outputs": [
    {
     "name": "stdout",
     "output_type": "stream",
     "text": [
      "tensor([[0],\n",
      "        [4],\n",
      "        [4],\n",
      "        [4],\n",
      "        [4]], device='cuda:0')\n"
     ]
    }
   ],
   "source": [
    "# Note that you need to get the argmax from the second dimension as **outputs** is an array of **output** tensors\n",
    "pred_tokens = outputs_t.argmax(2)\n",
    "print(pred_tokens)"
   ]
  },
  {
   "cell_type": "markdown",
   "id": "8b4fee50-3d84-4c70-95be-3e31d17a8380",
   "metadata": {},
   "source": [
    "It is no surprise that the translation is not correct (trg = tensor([[0],[2],[3],[5],[1]]) as the model has not yet gone through any training.\n"
   ]
  },
  {
   "cell_type": "markdown",
   "id": "a44a0d52-6b5c-4910-8323-fd700d7b6c78",
   "metadata": {},
   "source": [
    "Let's put together all the code for connecting the encoder and decoder in a seq2seq class for better usability.\n"
   ]
  },
  {
   "cell_type": "markdown",
   "id": "824940fc-6713-49a2-8257-2371ed39646f",
   "metadata": {},
   "source": [
    "## Sequence-to-sequence model implementation in PyTorch\n",
    "Let's connect encoder and decoder components to create the seq2seq model.\n",
    "\n",
    "You define the seq2seq class that inherits from nn.Module, which is the base class for all neural network modules in PyTorch.\n",
    "Inputs are:\n",
    "- `encoder` and `decoder` are instances of the encoder and decoder networks that you have already defined.\n",
    "- `device` specifies the device (e.g., CPU or GPU) on which the computations will be performed.\n",
    "- `trg_vocab` represents the vocabulary of the target language. It is used to determine the size of the output vocabulary.\n",
    "\n",
    "**forward** method defines the forward pass of the seq2seq model. It takes three arguments: `src`, `trg`, and `teacher_forcing_ratio`.:\n",
    "\n",
    "- `src` represents the source sequences, and `trg` represents the target sequences.\n",
    "- `teacher_forcing_ratio` is a probability that determines whether teacher forcing will be used during training only. Teacher forcing is a technique where the true target sequence is fed as input to the decoder at each time step, instead of using the predicted output from the previous time step.\n",
    "\n",
    "The **forward** method initializes some variables needed for the forward pass, such as `batch_size`, `trg_len`, and `trg_vocab_size`. It also creates an empty tensor called `outputs` to store the decoder outputs for each time step.\n",
    "\n",
    "The `hidden` and `cell` states of the encoder are obtained by calling the encoder (src) method. These states are then used as the initial states for the decoder.\n",
    "\n",
    "The input to the decoder at the first time step is the <bos> token of the target sequences.\n",
    "\n",
    "The decoder is iterated over for each time step in the target sequences (`for t in range(1, trg_len)`). The input, along with the previous hidden and cell states, is passed to the decoder, and it produces an output tensor. The `output` tensor is stored in the `outputs` tensor.\n",
    "\n",
    "At each time step, there is a decision made whether to use teacher forcing or not based on the teacher_forcing_ratio probability. If teacher forcing is used, the true next token from the target sequences (`trg[t]`) is used as the input for the next time step. Otherwise, the predicted token from the previous time step (`top1 = output.argmax(1)`) is used.\n",
    "\n",
    "Finally, the `outputs` tensor containing the predicted outputs for each time step is returned.\n"
   ]
  },
  {
   "cell_type": "code",
   "execution_count": 19,
   "id": "11cd3e1e-1d73-4e6b-9b14-facb9af3f302",
   "metadata": {},
   "outputs": [],
   "source": [
    "class Seq2Seq(nn.Module):\n",
    "    def __init__(self, encoder, decoder, device,trg_vocab):\n",
    "        super().__init__()\n",
    "\n",
    "        self.encoder = encoder\n",
    "        self.decoder = decoder\n",
    "        self.device = device\n",
    "        self.trg_vocab = trg_vocab\n",
    "\n",
    "        assert encoder.hid_dim == decoder.hid_dim, \\\n",
    "            \"Hidden dimensions of encoder and decoder must be equal!\"\n",
    "        assert encoder.n_layers == decoder.n_layers, \\\n",
    "            \"Encoder and decoder must have equal number of layers!\"\n",
    "\n",
    "    def forward(self, src, trg, teacher_forcing_ratio = 0.5):\n",
    "        #src = [src len, batch size]\n",
    "        #trg = [trg len, batch size]\n",
    "        #teacher_forcing_ratio is probability to use teacher forcing\n",
    "        #e.g. if teacher_forcing_ratio is 0.75 you use ground-truth inputs 75% of the time\n",
    "\n",
    "\n",
    "        batch_size = trg.shape[1]\n",
    "        trg_len = trg.shape[0]\n",
    "        trg_vocab_size = self.decoder.output_dim\n",
    "\n",
    "        #tensor to store decoder outputs\n",
    "        outputs = torch.zeros(trg_len, batch_size, trg_vocab_size).to(self.device)\n",
    "\n",
    "        #last hidden state of the encoder is used as the initial hidden state of the decoder\n",
    "        hidden, cell = self.encoder(src)\n",
    "        hidden = hidden.to(device)\n",
    "        cell = cell.to(device)\n",
    "\n",
    "\n",
    "        #first input to the decoder is the <bos> tokens\n",
    "        input = trg[0,:]\n",
    "\n",
    "        for t in range(1, trg_len):\n",
    "\n",
    "            #insert input token embedding, previous hidden and previous cell states\n",
    "            #receive output tensor (predictions) and new hidden and cell states\n",
    "            output, hidden, cell = self.decoder(input, hidden, cell)\n",
    "\n",
    "            #place predictions in a tensor holding predictions for each token\n",
    "            outputs[t] = output\n",
    "\n",
    "            #decide if you are going to use teacher forcing or not\n",
    "            teacher_force = random.random() < teacher_forcing_ratio\n",
    "\n",
    "            #get the highest predicted token from your predictions\n",
    "            top1 = output.argmax(1)\n",
    "\n",
    "\n",
    "            #if teacher forcing, use actual next token as next input\n",
    "            #if not, use predicted token\n",
    "            #input = trg[t] if teacher_force else top1\n",
    "            input = trg[t] if teacher_force else top1\n",
    "\n",
    "\n",
    "        return outputs"
   ]
  },
  {
   "cell_type": "markdown",
   "id": "f8a7d34e-597a-4037-aa62-e57fe0e49163",
   "metadata": {},
   "source": [
    "## Training model in PyTorch\n",
    "Now that the model is defined, you define a train function the seq2seq model. Let's go through the code and understand its components:\n",
    "\n",
    "1. `train(model, iterator, optimizer, criterion, clip)` takes five arguments:\n",
    "\n",
    "   - `model` is the model that will be trained.\n",
    "   - `iterator` is an iterable object that provides the training data in batches.\n",
    "   - `optimizer` is the optimization algorithm used to update the model's parameters.\n",
    "   - `criterion` is the loss function that measures the model's performance.\n",
    "   - `clip` is a value used to clip the gradients to prevent them from becoming too large during backpropagation.\n",
    "\n",
    "2. The function starts by setting the model to training mode with `model.train()`. This is necessary to enable certain layers (e.g., dropout) that behave differently during training and evaluation.\n",
    "\n",
    "3. It initializes a variable `epoch_loss` to keep track of the accumulated loss during the epoch.\n",
    "\n",
    "4. The function iterates over the training data provided by the `iterator`. Each iteration retrieves a batch of input sequences (`src`) and target sequences (`trg`).\n",
    "\n",
    "5. The input sequences (`src`) and target sequences (`trg`) are moved to the appropriate device (e.g., GPU) using `src = src.to(device)` and `trg = trg.to(device)`.\n",
    "\n",
    "6. The gradients of the model's parameters are cleared using `optimizer.zero_grad()` to prepare for the new batch.\n",
    "\n",
    "7. The model is then called with `output = model(src, trg)` to obtain the model's predictions for the target sequences.\n",
    "\n",
    "8. The `output` tensor has dimensions `[trg len, batch size, output dim]`. To calculate the loss, the tensor is reshaped to `[trg len - 1, batch size, output dim]` to remove the initial `<bos>` token, which is not used for calculating the loss.\n",
    "\n",
    "9. The target sequences (`trg`) are also reshaped to `[trg len - 1]` by removing the initial `<bos>` token and making it a contiguous tensor. This matches the shape of the reshaped `output` tensor.\n",
    "\n",
    "10. The loss between the reshaped `output` and `trg` tensors is calculated using the specified `criterion`.\n",
    "\n",
    "11. The gradients of the loss with respect to the model's parameters are computed using `loss.backward()`.\n",
    "\n",
    "12. The gradients are then clipped to a maximum value specified by `clip` using `torch.nn.utils.clip_grad_norm_(model.parameters(), clip)`. This prevents the gradients from becoming too large, which can cause issues during optimization.\n",
    "\n",
    "13. The optimizer's `step()` method is called to update the model's parameters using the computed gradients.\n",
    "\n",
    "14. The current batch loss (`loss.item()`) is added to the `epoch_loss` variable.\n",
    "\n",
    "15. After all the batches have been processed, the function returns the average loss per batch for the entire epoch, calculated as `epoch_loss / len(list(iterator))`.\n"
   ]
  },
  {
   "cell_type": "code",
   "execution_count": 20,
   "id": "f7d44eea-fd0c-4cde-8af1-adbe9ca31fe0",
   "metadata": {},
   "outputs": [],
   "source": [
    "def train(model, iterator, optimizer, criterion, clip):\n",
    "\n",
    "    model.train()\n",
    "\n",
    "    epoch_loss = 0\n",
    "\n",
    "    # Wrap iterator with tqdm for progress logging\n",
    "    train_iterator = tqdm(iterator, desc=\"Training\", leave=False)\n",
    "\n",
    "    for i, (src,trg) in enumerate(iterator):\n",
    "\n",
    "        src = src.to(device)\n",
    "        trg = trg.to(device)\n",
    "        optimizer.zero_grad()\n",
    "\n",
    "        output = model(src, trg)\n",
    "\n",
    "        #trg = [trg len, batch size]\n",
    "        #output = [trg len, batch size, output dim]\n",
    "\n",
    "        output_dim = output.shape[-1]\n",
    "\n",
    "        output = output[1:].view(-1, output_dim)\n",
    "\n",
    "        trg = trg[1:].contiguous().view(-1)\n",
    "\n",
    "        #trg = [(trg len - 1) * batch size]\n",
    "        #output = [(trg len - 1) * batch size, output dim]\n",
    "\n",
    "        loss = criterion(output, trg)\n",
    "\n",
    "        loss.backward()\n",
    "\n",
    "        torch.nn.utils.clip_grad_norm_(model.parameters(), clip)\n",
    "\n",
    "        optimizer.step()\n",
    "\n",
    "        # Update tqdm progress bar with the current loss\n",
    "        train_iterator.set_postfix(loss=loss.item())\n",
    "\n",
    "        epoch_loss += loss.item()\n",
    "\n",
    "\n",
    "    return epoch_loss / len(list(iterator))"
   ]
  },
  {
   "cell_type": "markdown",
   "id": "7b7efafb-d9cc-43b5-a5de-d4e92d6a9a0c",
   "metadata": {},
   "source": [
    "## Evaluating model in PyTorch\n",
    "You also need to define a function to evaluate the model. Let's go through the code and understand its components:\n",
    "\n",
    "1. `evaluate(model, iterator, criterion)` takes three arguments:\n",
    "   - `model` is the neural network model that will be evaluated.\n",
    "   - `iterator` is an iterable object that provides the evaluation data in batches.\n",
    "   - `criterion` is the loss function that measures the model's performance.\n",
    "* Note that evaluate function do not perform any optimization on the model.\n",
    "\n",
    "2. The function starts by setting the model to evaluation mode with `model.eval()`.\n",
    "\n",
    "3. It initializes a variable `epoch_loss` to keep track of the accumulated loss during the evaluation.\n",
    "\n",
    "4. The function enters a `with torch.no_grad()` block, which ensures that no gradients are computed during the evaluation. This saves memory and speeds up the evaluation process since gradients are not needed for parameter updates.\n",
    "\n",
    "5. The function iterates over the evaluation data provided by the `iterator`. Each iteration retrieves a batch of input sequences (`src`) and target sequences (`trg`).\n",
    "\n",
    "6. The input sequences (`src`) and target sequences (`trg`) are moved to the appropriate device (e.g., GPU) using `src = src.to(device)` and `trg = trg.to(device)`.\n",
    "\n",
    "7. The model is then called with `output = model(src, trg, 0)` to obtain the model's predictions for the target sequences. The third argument `0` is passed to indicate that teacher forcing is turned off during evaluation.  During evaluation, teacher forcing is typically turned off to evaluate the model's ability to generate sequences based on its own predictions.\n",
    "\n",
    "8. The `output` tensor has dimensions `[trg len, batch size, output dim]`. To calculate the loss, the tensor is reshaped to `[trg len - 1, batch size, output dim]` to remove the initial `<bos>` (beginning of sequence) token, which is not used for calculating the loss.\n",
    "\n",
    "9. The target sequences (`trg`) are also reshaped to `[trg len - 1]` by removing the initial `<bos>` token and making it a contiguous tensor. This matches the shape of the reshaped `output` tensor.\n",
    "\n",
    "10. The loss between the reshaped `output` and `trg` tensors is calculated using the specified `criterion`.\n",
    "\n",
    "11. The current batch loss (`loss.item()`) is added to the `epoch_loss` variable.\n",
    "\n",
    "12. After all the batches have been processed, the function returns the average loss per batch for the entire evaluation, calculated as `epoch_loss / len(list(iterator))`.\n"
   ]
  },
  {
   "cell_type": "code",
   "execution_count": 21,
   "id": "1674068b-3089-47b9-a098-ae65ffe862e8",
   "metadata": {},
   "outputs": [],
   "source": [
    "def evaluate(model, iterator, criterion):\n",
    "\n",
    "    model.eval()\n",
    "\n",
    "    epoch_loss = 0\n",
    "\n",
    "    # Wrap iterator with tqdm for progress logging\n",
    "    valid_iterator = tqdm(iterator, desc=\"Training\", leave=False)\n",
    "\n",
    "    with torch.no_grad():\n",
    "\n",
    "        for i, (src,trg) in enumerate(iterator):\n",
    "\n",
    "            src = src.to(device)\n",
    "            trg = trg.to(device)\n",
    "\n",
    "            output = model(src, trg, 0) #turn off teacher forcing\n",
    "\n",
    "            #trg = [trg len, batch size]\n",
    "            #output = [trg len, batch size, output dim]\n",
    "\n",
    "            output_dim = output.shape[-1]\n",
    "\n",
    "            output = output[1:].view(-1, output_dim)\n",
    "\n",
    "            trg = trg[1:].contiguous().view(-1)\n",
    "\n",
    "\n",
    "            #trg = [(trg len - 1) * batch size]\n",
    "            #output = [(trg len - 1) * batch size, output dim]\n",
    "\n",
    "            loss = criterion(output, trg)\n",
    "            # Update tqdm progress bar with the current loss\n",
    "            valid_iterator.set_postfix(loss=loss.item())\n",
    "\n",
    "            epoch_loss += loss.item()\n",
    "\n",
    "    return epoch_loss / len(list(iterator))"
   ]
  },
  {
   "cell_type": "markdown",
   "id": "4815170d-97b1-47cd-a147-59a537e78d2b",
   "metadata": {},
   "source": [
    "## Data preprocessing\n"
   ]
  },
  {
   "cell_type": "markdown",
   "id": "badc8662-8551-4913-b952-a524dc5b3c40",
   "metadata": {},
   "source": [
    "In this section, you will fetch a language translation dataset called Multi30k, collate it (tokenization, numericalization, and adding BOS/EOS and padding) and create iterable batches of src and trg tensors.\n",
    "\n",
    "This leverages the predefined collate_fn to efficiently curate and ready batches for training the transformer model. The primary aim is to delve deeper into the intricacies of the RNN encoder and decoder components.\n"
   ]
  },
  {
   "cell_type": "markdown",
   "id": "04eb9413-5fcd-41ce-8ceb-5fcb79594155",
   "metadata": {},
   "source": [
    "A \"Multi30K_de_en_dataloader.py\" file has been created that contains all the transformation processes on data. Here, you only download the file:\n"
   ]
  },
  {
   "cell_type": "code",
   "execution_count": 22,
   "id": "4993ced5-a9b4-46b6-afe5-a806ddb331bc",
   "metadata": {},
   "outputs": [
    {
     "name": "stdout",
     "output_type": "stream",
     "text": [
      "--2025-03-03 13:41:31--  https://cf-courses-data.s3.us.cloud-object-storage.appdomain.cloud/IBMSkillsNetwork-AI0205EN-SkillsNetwork/Multi30K_de_en_dataloader.py\n",
      "Resolving cf-courses-data.s3.us.cloud-object-storage.appdomain.cloud (cf-courses-data.s3.us.cloud-object-storage.appdomain.cloud)... 169.63.118.104\n",
      "Connecting to cf-courses-data.s3.us.cloud-object-storage.appdomain.cloud (cf-courses-data.s3.us.cloud-object-storage.appdomain.cloud)|169.63.118.104|:443... connected.\n",
      "HTTP request sent, awaiting response... 200 OK\n",
      "Length: 4890 (4.8K) [application/x-python]\n",
      "Saving to: ‘Multi30K_de_en_dataloader.py.1’\n",
      "\n",
      "Multi30K_de_en_data 100%[===================>]   4.78K  --.-KB/s    in 0s      \n",
      "\n",
      "2025-03-03 13:41:32 (998 MB/s) - ‘Multi30K_de_en_dataloader.py.1’ saved [4890/4890]\n",
      "\n"
     ]
    }
   ],
   "source": [
    "!wget 'https://cf-courses-data.s3.us.cloud-object-storage.appdomain.cloud/IBMSkillsNetwork-AI0205EN-SkillsNetwork/Multi30K_de_en_dataloader.py'"
   ]
  },
  {
   "cell_type": "markdown",
   "id": "26a33400-6194-4bc3-a81b-e54435b838be",
   "metadata": {},
   "source": [
    "Let's run it:\n"
   ]
  },
  {
   "cell_type": "code",
   "execution_count": 23,
   "id": "946c84ae-69d0-44de-bb07-bd7c0322721e",
   "metadata": {},
   "outputs": [],
   "source": [
    "%run Multi30K_de_en_dataloader.py"
   ]
  },
  {
   "cell_type": "markdown",
   "id": "531f48d3-bb4a-4c19-a962-a1d8d687cb1a",
   "metadata": {},
   "source": [
    "There you go! You only need to call the function `get_translation_dataloaders(batch_size = N,flip=True)` with an arbitrary batch size `N` and setting flip to True in order for the LSTM encoder receive input sequence in reversed order. This can help the training.\n"
   ]
  },
  {
   "cell_type": "code",
   "execution_count": 24,
   "id": "5440f9ac-7ad5-4360-930e-9c88393d03a7",
   "metadata": {},
   "outputs": [],
   "source": [
    "train_dataloader, valid_dataloader = get_translation_dataloaders(batch_size = 4)#,flip=True)"
   ]
  },
  {
   "cell_type": "markdown",
   "id": "cb301daa-0d6c-468d-8921-3ae56959e59a",
   "metadata": {},
   "source": [
    "You can check the `src` and `trg` tensors:\n"
   ]
  },
  {
   "cell_type": "code",
   "execution_count": 25,
   "id": "a10867e5-73bd-48b9-86b0-e0611f2950d7",
   "metadata": {},
   "outputs": [
    {
     "data": {
      "text/plain": [
       "(tensor([[    2,     2,     2,     2],\n",
       "         [    3,  5510,  5510, 12642],\n",
       "         [    1,     3,     3,     8],\n",
       "         [    1,     1,     1,  1701],\n",
       "         [    1,     1,     1,     3]], device='cuda:0'),\n",
       " tensor([[   2,    2,    2,    2],\n",
       "         [   3, 6650,  216,    6],\n",
       "         [   1, 4623,  110, 3398],\n",
       "         [   1,  259, 3913,  202],\n",
       "         [   1,  172, 1650,  109],\n",
       "         [   1, 9953, 3823,   37],\n",
       "         [   1,  115,   71,    3],\n",
       "         [   1,  692, 2808,    1],\n",
       "         [   1, 3428, 2187,    1],\n",
       "         [   1,    5,    5,    1],\n",
       "         [   1,    3,    3,    1]], device='cuda:0'))"
      ]
     },
     "execution_count": 25,
     "metadata": {},
     "output_type": "execute_result"
    }
   ],
   "source": [
    "src, trg = next(iter(train_dataloader))\n",
    "src,trg"
   ]
  },
  {
   "cell_type": "markdown",
   "id": "4c8245fa-2aec-404d-9e35-155c2d287c41",
   "metadata": {},
   "source": [
    "You can also get the english and german strings using `index_to_eng` and `index_to_german` functions provided in the .py file:\n"
   ]
  },
  {
   "cell_type": "code",
   "execution_count": 26,
   "id": "65d550a5-14b8-4ad6-999e-0061da49a72d",
   "metadata": {},
   "outputs": [
    {
     "name": "stdout",
     "output_type": "stream",
     "text": [
      "________________\n",
      "german\n",
      "<bos> Personen mit schwarzen Hüten in der Innenstadt . <eos>\n",
      "<bos> Eine Gruppe Menschen protestiert in einer Stadt . <eos>\n",
      "<bos> Eine Gruppe teilt ihre politischen Ansichten mit . <eos>\n",
      "<bos> Mehrere Personen sitzen an einem felsigen Strand . <eos>\n",
      "________________\n",
      "english\n",
      "<bos> People in black hats gathered together downtown . <eos> <pad> <pad> <pad>\n",
      "<bos> A group of people protesting in a city . <eos> <pad> <pad>\n",
      "<bos> A group is letting their political opinion be known . <eos> <pad>\n",
      "<bos> A group of people are sitting on a rocky beach . <eos>\n",
      "________________\n",
      "german\n",
      "<bos> Zwei sitzende Personen mit Hüten und Sonnenbrillen . <eos>\n",
      "<bos> Ein kleiner Junge mit Hut beim Angeln . <eos>\n",
      "<bos> Diese zwei Frauen haben Spaß im Giorgio's . <eos>\n",
      "<bos> Zwei kleine Kinder schlafen auf dem Sofa . <eos>\n",
      "________________\n",
      "english\n",
      "<bos> Two people sitting in hats and shades . <eos> <pad> <pad> <pad>\n",
      "<bos> A young boy in a hat is fishing by himself . <eos>\n",
      "<bos> These two women is at Giorgio 's having fun . <eos> <pad>\n",
      "<bos> Two young children are asleep on a couch . <eos> <pad> <pad>\n",
      "________________\n",
      "german\n",
      "<bos> Zwei junge Mädchen marschieren in einem Umzug . <eos>\n",
      "<bos> Eine Frau läuft vor einer gestreiften Wand . <eos>\n",
      "<bos> Ein Mann fährt Jet-Ski auf dem Ozean . <eos>\n",
      "<bos> Die städtischen Straßenbahnen an einem sonnigen Tag . <eos>\n",
      "________________\n",
      "english\n",
      "<bos> Two young girls walk in a parade . <eos> <pad> <pad> <pad> <pad>\n",
      "<bos> A woman is running in front of a striped wall . <eos> <pad>\n",
      "<bos> A man rides a jet ski across the ocean . <eos> <pad> <pad>\n",
      "<bos> The urban trolly 's of a city on a sunny day . <eos>\n"
     ]
    }
   ],
   "source": [
    "data_itr = iter(train_dataloader)\n",
    "# moving forward in the dataset to reach sequences of longer length for illustration purpose. (Remember the dataset is sorted on sequence len for optimal padding)\n",
    "for n in range(1000):\n",
    "    german, english= next(data_itr)\n",
    "\n",
    "for n in range(3):\n",
    "    german, english=next(data_itr)\n",
    "    german=german.T\n",
    "    english=english.T\n",
    "    print(\"________________\")\n",
    "    print(\"german\")\n",
    "    for g in german:\n",
    "        print(index_to_german(g))\n",
    "    print(\"________________\")\n",
    "    print(\"english\")\n",
    "    for e in english:\n",
    "        print(index_to_eng(e))\n"
   ]
  },
  {
   "cell_type": "markdown",
   "id": "bbbaa633-3baf-4695-9ad4-2b813d3148d0",
   "metadata": {},
   "source": [
    "* Note: When working with PyTorch tensors that represent data, it's important to understand the conventions around representing sequences. In most cases, the rows (the first dimension) in a PyTorch tensor represent individual samples, while the columns (the second dimension) represent features or time steps in the case of sequences. When dealing with sequences in PyTorch, it's common to use functions like `pad_sequence` to ensure that all sequences have the same length. Surprisingly, the padding operation is applied along the second dimension (columns), even though sequences are typically represented in the first dimension (rows). This can be confusing at first due to the way batches of sequences are represented. In many sequence-related tasks in PyTorch, especially when working with recurrent models like RNNs, LSTMs, and GRUs, batches of sequences are usually represented with the shape [sequence_length, batch_size, feature_size], where `sequence_length` refers to the length of the longest sequence within the batch(here it is equevalent to `src_len` or `trg_len`). If you check the src tensor above, you can see that the first word of of all sentences are in the first line, the second word of all sentences are in the second line, etc. That is why the first dimension is the length of the sequence.\n",
    "\n",
    "    When you use `pad_sequence`, it adds padding to the sequences in a batch so that they all have the same length, matching the length of the longest sequence. Since sequences are represented in the first dimension, the padding is applied along that dimension. As a result, the output tensor from `pad_sequence` will have the format [sequence_length, batch_size]. (Check the output for `src` and `trg` from the above cell.) This convention is commonly used because models like LSTMs expect the data to be in this format. However, if you're accustomed to working with more traditional tabular data in PyTorch, it can initially cause confusion. It's important to be aware of this convention to avoid potential errors and understand how to properly prepare and format sequence data for your models.\n"
   ]
  },
  {
   "cell_type": "markdown",
   "id": "4ad84958-91e0-4ed3-a224-6cdf83fb2d6a",
   "metadata": {},
   "source": [
    "# Training the model\n"
   ]
  },
  {
   "cell_type": "markdown",
   "id": "b70ca0e1-d79c-4ec0-8a2b-39404efc87e1",
   "metadata": {},
   "source": [
    "> **Note:** **Please be aware that training the model using CPUs can be a time-consuming process. If you don't have access to GPUs, you can jump to \"Loading the saved model\" and proceed with loading the pre-trained model using the provided code. The model has been trained for five epochs and saved for your convenience and is available for download in \"Loading the saved model\" section.**\n"
   ]
  },
  {
   "cell_type": "markdown",
   "id": "284e66c2-9fd5-4ad6-9e40-9d55c4c4604e",
   "metadata": {},
   "source": [
    "### Initializations\n"
   ]
  },
  {
   "cell_type": "markdown",
   "id": "11ef113d-edf5-4eb5-a948-0ef89f5662f5",
   "metadata": {},
   "source": [
    "This code sets the random seed for various libraries and modules. This is done to make the results reproducible:\n"
   ]
  },
  {
   "cell_type": "code",
   "execution_count": 27,
   "id": "ebb53a6d-fec4-407a-a5f4-1616f196f5fa",
   "metadata": {},
   "outputs": [],
   "source": [
    "SEED = 1234\n",
    "random.seed(SEED)\n",
    "np.random.seed(SEED)\n",
    "torch.manual_seed(SEED)\n",
    "torch.cuda.manual_seed(SEED)\n",
    "torch.backends.cudnn.deterministic = True"
   ]
  },
  {
   "cell_type": "markdown",
   "id": "a204d0b6-20d9-4b11-a9c0-2fa3a5ec4e14",
   "metadata": {},
   "source": [
    "### Training\n",
    "Now, define an instance of the model:\n",
    "\n",
    "- `enc = Encoder(INPUT_DIM, ENC_EMB_DIM, HID_DIM, N_LAYERS, ENC_DROPOUT)`: This line creates an instance of the `Encoder` class, which represents the encoder component of the Seq2Seq model. The `Encoder` class takes the input dimension, embedding dimension, hidden dimension, number of layers, and dropout probability as arguments.\n",
    "\n",
    "- `dec = Decoder(OUTPUT_DIM, DEC_EMB_DIM, HID_DIM, N_LAYERS, DEC_DROPOUT)`: This line creates an instance of the `Decoder` class, which represents the decoder component of the Seq2Seq model. The `Decoder` class takes the output dimension, embedding dimension, hidden dimension, number of layers, and dropout probability as arguments.\n",
    "\n",
    "- `model = Seq2Seq(enc, dec, device,trg_vocab = vocab_transform['en']).to(device)`: This line creates an instance of the `Seq2Seq` class, which represents the entire Seq2Seq model. The `Seq2Seq` class takes the encoder, decoder, and device (e.g., CPU or GPU) as arguments. It combines the encoder and decoder to form the complete Seq2Seq architecture.\n"
   ]
  },
  {
   "cell_type": "code",
   "execution_count": 28,
   "id": "ffc3ef3c-5c1a-4297-aa48-959658e5f1cb",
   "metadata": {},
   "outputs": [],
   "source": [
    "INPUT_DIM = len(vocab_transform['de'])\n",
    "OUTPUT_DIM = len(vocab_transform['en'])\n",
    "ENC_EMB_DIM = 128 #256\n",
    "DEC_EMB_DIM = 128 #256\n",
    "HID_DIM = 256 #512\n",
    "N_LAYERS = 1 #2\n",
    "ENC_DROPOUT = 0.3 #0.5\n",
    "DEC_DROPOUT = 0.3 #0.5\n",
    "\n",
    "enc = Encoder(INPUT_DIM, ENC_EMB_DIM, HID_DIM, N_LAYERS, ENC_DROPOUT)\n",
    "dec = Decoder(OUTPUT_DIM, DEC_EMB_DIM, HID_DIM, N_LAYERS, DEC_DROPOUT)\n",
    "\n",
    "model = Seq2Seq(enc, dec, device,trg_vocab = vocab_transform['en']).to(device)"
   ]
  },
  {
   "cell_type": "markdown",
   "id": "1f07fa8f-631c-44e5-9c9c-61a73af478db",
   "metadata": {},
   "source": [
    "`def init_weights(m)`defines a function named `init_weights` that takes a module `m` as input. The purpose of this function is to initialize the weights of the neural network module.\n",
    "\n",
    "The next line `for name, param in m.named_parameters():` starts a loop that iterates over the named parameters of the module `m`. Each parameter is accessed as `param` and its corresponding name is accessed as `name`.\n",
    "\n",
    "`nn.init.uniform_(param.data, -0.08, 0.08)`initializes the parameter's data with values drawn from a uniform distribution between `-0.08` and `0.08`. The `nn.init.uniform_` function is provided by the PyTorch library and is used to initialize the weights of neural network parameters.\n",
    "\n",
    "Finally, `model.apply(init_weights)` applies the `init_weights` function to the `model` instance. This ensures that the weights of all the parameters in the model are initialized using the specified uniform distribution.\n"
   ]
  },
  {
   "cell_type": "code",
   "execution_count": 29,
   "id": "70e257fe-9848-48de-b27b-684090b00161",
   "metadata": {},
   "outputs": [
    {
     "data": {
      "text/plain": [
       "Seq2Seq(\n",
       "  (encoder): Encoder(\n",
       "    (embedding): Embedding(19214, 128)\n",
       "    (lstm): LSTM(128, 256, dropout=0.3)\n",
       "    (dropout): Dropout(p=0.3, inplace=False)\n",
       "  )\n",
       "  (decoder): Decoder(\n",
       "    (embedding): Embedding(10837, 128)\n",
       "    (lstm): LSTM(128, 256, dropout=0.3)\n",
       "    (fc_out): Linear(in_features=256, out_features=10837, bias=True)\n",
       "    (softmax): LogSoftmax(dim=1)\n",
       "    (dropout): Dropout(p=0.3, inplace=False)\n",
       "  )\n",
       "  (trg_vocab): Vocab()\n",
       ")"
      ]
     },
     "execution_count": 29,
     "metadata": {},
     "output_type": "execute_result"
    }
   ],
   "source": [
    "def init_weights(m):\n",
    "    for name, param in m.named_parameters():\n",
    "        nn.init.uniform_(param.data, -0.08, 0.08)\n",
    "\n",
    "model.apply(init_weights)"
   ]
  },
  {
   "cell_type": "markdown",
   "id": "42353dfe-f2bd-4f4a-9304-e8a41775181f",
   "metadata": {},
   "source": [
    "This code defines a function `count_parameters` that counts the number of trainable parameters in a given model. It then prints the count of trainable parameters in a formatted string.\n"
   ]
  },
  {
   "cell_type": "code",
   "execution_count": 30,
   "id": "c8800728-f15e-49bd-a0ad-85414a84345b",
   "metadata": {},
   "outputs": [
    {
     "name": "stdout",
     "output_type": "stream",
     "text": [
      "The model has 7,422,165 trainable parameters\n"
     ]
    }
   ],
   "source": [
    "def count_parameters(model):\n",
    "    return sum(p.numel() for p in model.parameters() if p.requires_grad)\n",
    "\n",
    "print(f'The model has {count_parameters(model):,} trainable parameters')"
   ]
  },
  {
   "cell_type": "markdown",
   "id": "bfa9cbaf-71eb-4620-9705-07185984145a",
   "metadata": {},
   "source": [
    "The following cell sets up the optimizer and loss function for training the model.\n",
    "\n",
    "1. `optimizer = optim.Adam(model.parameters())`: This line creates an instance of the Adam optimizer and passes the model's parameters (`model.parameters()`) as the parameters to be optimized. The Adam optimizer is a popular optimization algorithm commonly used for training deep neural networks. It adjusts the model's parameters based on the gradients computed during backpropagation to minimize the loss function.\n",
    "\n",
    "2. `PAD_IDX = vocab_transform['en'].get_stoi()['<pad>']`: This line retrieves the index of the `<pad>` token in the target vocabulary.\n",
    "\n",
    "3. `criterion = nn.CrossEntropyLoss(ignore_index=PAD_IDX)`: This line creates an instance of the CrossEntropyLoss criterion. The CrossEntropyLoss is a commonly used loss function for multi-class classification tasks. In this case, it is used for training the model to predict the next word in the translated sequence. The `ignore_index` parameter is set to `PAD_IDX`, which indicates that the loss should be ignored for any predictions where the target is the padding token. This is useful to exclude padding tokens from contributing to the loss during training.\n"
   ]
  },
  {
   "cell_type": "code",
   "execution_count": 31,
   "id": "f27f2d23-f82b-42e4-8604-9b38674f4053",
   "metadata": {},
   "outputs": [],
   "source": [
    "optimizer = optim.Adam(model.parameters())\n",
    "\n",
    "PAD_IDX = vocab_transform['en'].get_stoi()['<pad>']\n",
    "\n",
    "criterion = nn.CrossEntropyLoss(ignore_index = PAD_IDX)"
   ]
  },
  {
   "cell_type": "markdown",
   "id": "affb3c43-dbfa-4e5a-b01e-3a8936ff6fa9",
   "metadata": {},
   "source": [
    "The following helper function provides a convenient way to calculate the elapsed time in minutes and seconds given the start and end times. It will be used to measure the time taken for each epoch during training or any other time-related calculations.\n"
   ]
  },
  {
   "cell_type": "code",
   "execution_count": 32,
   "id": "aea15c61-2c8e-425a-bc67-add6ea10305f",
   "metadata": {},
   "outputs": [],
   "source": [
    "def epoch_time(start_time, end_time):\n",
    "    elapsed_time = end_time - start_time\n",
    "    elapsed_mins = int(elapsed_time / 60)\n",
    "    elapsed_secs = int(elapsed_time - (elapsed_mins * 60))\n",
    "    return elapsed_mins, elapsed_secs"
   ]
  },
  {
   "cell_type": "markdown",
   "id": "b919da0f-4e59-4e82-a30b-bea410a6cd7b",
   "metadata": {},
   "source": [
    "Let's start the training epochs:\n",
    "\n",
    "You can uncomment and execute this code in the labs supporting `CUDA` environment.\n"
   ]
  },
  {
   "cell_type": "code",
   "execution_count": 33,
   "id": "4be394c7-e997-41b0-a119-97c93128b5ac",
   "metadata": {},
   "outputs": [
    {
     "name": "stderr",
     "output_type": "stream",
     "text": [
      "                                                             \r"
     ]
    },
    {
     "name": "stdout",
     "output_type": "stream",
     "text": [
      "Epoch: 01 | Time: 1m 57s\n",
      "\tTrain Loss: 4.380 | Train PPL:  79.809\n",
      "\t Val. Loss: 5.283 |  Val. PPL: 196.948\n"
     ]
    },
    {
     "name": "stderr",
     "output_type": "stream",
     "text": [
      "                                                             \r"
     ]
    },
    {
     "name": "stdout",
     "output_type": "stream",
     "text": [
      "Epoch: 02 | Time: 2m 4s\n",
      "\tTrain Loss: 3.644 | Train PPL:  38.257\n",
      "\t Val. Loss: 4.814 |  Val. PPL: 123.222\n"
     ]
    },
    {
     "name": "stderr",
     "output_type": "stream",
     "text": [
      "                                                             \r"
     ]
    },
    {
     "name": "stdout",
     "output_type": "stream",
     "text": [
      "Epoch: 03 | Time: 2m 0s\n",
      "\tTrain Loss: 3.248 | Train PPL:  25.741\n",
      "\t Val. Loss: 4.566 |  Val. PPL:  96.172\n"
     ]
    },
    {
     "name": "stderr",
     "output_type": "stream",
     "text": [
      "                                                              \r"
     ]
    },
    {
     "name": "stdout",
     "output_type": "stream",
     "text": [
      "Epoch: 04 | Time: 1m 54s\n",
      "\tTrain Loss: 2.949 | Train PPL:  19.086\n",
      "\t Val. Loss: 4.440 |  Val. PPL:  84.773\n"
     ]
    },
    {
     "name": "stderr",
     "output_type": "stream",
     "text": [
      "                                                              \r"
     ]
    },
    {
     "name": "stdout",
     "output_type": "stream",
     "text": [
      "Epoch: 05 | Time: 1m 58s\n",
      "\tTrain Loss: 2.713 | Train PPL:  15.082\n",
      "\t Val. Loss: 4.368 |  Val. PPL:  78.864\n"
     ]
    }
   ],
   "source": [
    "torch.cuda.empty_cache()\n",
    "\n",
    "N_EPOCHS = 5 #run the training for at least 5 epochs\n",
    "CLIP = 1\n",
    "\n",
    "best_valid_loss = float('inf')\n",
    "best_train_loss = float('inf')\n",
    "train_losses = []\n",
    "valid_losses = []\n",
    "\n",
    "train_PPLs = []\n",
    "valid_PPLs = []\n",
    "\n",
    "for epoch in range(N_EPOCHS):\n",
    "\n",
    "    start_time = time.time()\n",
    "\n",
    "    train_loss = train(model, train_dataloader, optimizer, criterion, CLIP)\n",
    "    train_ppl = math.exp(train_loss)\n",
    "    valid_loss = evaluate(model, valid_dataloader, criterion)\n",
    "    valid_ppl = math.exp(valid_loss)\n",
    "\n",
    "\n",
    "    end_time = time.time()\n",
    "\n",
    "    epoch_mins, epoch_secs = epoch_time(start_time, end_time)\n",
    "\n",
    "\n",
    "    if valid_loss < best_valid_loss:\n",
    "\n",
    "        best_valid_loss = valid_loss\n",
    "        torch.save(model.state_dict(), 'RNN-TR-model.pt')\n",
    "\n",
    "    train_losses.append(train_loss)\n",
    "    train_PPLs.append(train_ppl)\n",
    "    valid_losses.append(valid_loss)\n",
    "    valid_PPLs.append(valid_ppl)\n",
    "\n",
    "    print(f'Epoch: {epoch+1:02} | Time: {epoch_mins}m {epoch_secs}s')\n",
    "    print(f'\\tTrain Loss: {train_loss:.3f} | Train PPL: {train_ppl:7.3f}')\n",
    "    print(f'\\t Val. Loss: {valid_loss:.3f} |  Val. PPL: {valid_ppl:7.3f}')\n"
   ]
  },
  {
   "cell_type": "markdown",
   "id": "1a179ac0-2a31-48b5-bf68-735a2de0537b",
   "metadata": {},
   "source": [
    "Let's visualize the model train and validation losses over the training epochs:\n"
   ]
  },
  {
   "cell_type": "code",
   "execution_count": 34,
   "id": "e7e15eea-354d-40fb-89c3-7cce2e426612",
   "metadata": {},
   "outputs": [
    {
     "data": {
      "image/png": "[encoded data removed]",
      "text/plain": [
       "<Figure size 1000x600 with 2 Axes>"
      ]
     },
     "metadata": {},
     "output_type": "display_data"
    }
   ],
   "source": [
    "import matplotlib.pyplot as plt\n",
    "\n",
    "# Create a list of epoch numbers\n",
    "epochs = [epoch+1 for epoch in range(N_EPOCHS)]\n",
    "\n",
    "# Create the figure and axes\n",
    "fig, ax1 = plt.subplots(figsize=(10, 6))\n",
    "ax2 = ax1.twinx()\n",
    "\n",
    "# Plotting the training and validation loss\n",
    "ax1.plot(epochs, train_losses, label='Train Loss', color='blue')\n",
    "ax1.plot(epochs, valid_losses, label='Validation Loss', color='orange')\n",
    "ax1.set_xlabel('Epochs')\n",
    "ax1.set_ylabel('Loss')\n",
    "ax1.set_title('Training and Validation Loss/PPL')\n",
    "\n",
    "# Plotting the training and validation perplexity\n",
    "ax2.plot(epochs, train_PPLs, label='Train PPL', color='green')\n",
    "ax2.plot(epochs, valid_PPLs, label='Validation PPL', color='red')\n",
    "ax2.set_ylabel('Perplexity')\n",
    "\n",
    "# Adjust the y-axis scaling for PPL plot\n",
    "ax2.set_ylim(bottom=min(min(train_PPLs), min(valid_PPLs)) - 10, top=max(max(train_PPLs), max(valid_PPLs)) + 10)\n",
    "\n",
    "# Set the legend\n",
    "lines1, labels1 = ax1.get_legend_handles_labels()\n",
    "lines2, labels2 = ax2.get_legend_handles_labels()\n",
    "lines = lines1 + lines2\n",
    "labels = labels1 + labels2\n",
    "ax1.legend(lines, labels, loc='upper right')\n",
    "\n",
    "\n",
    "# Show the plot\n",
    "plt.show()\n"
   ]
  },
  {
   "cell_type": "markdown",
   "id": "6abf2926-ca0c-4b90-b6c8-aed90165549d",
   "metadata": {},
   "source": [
    "It can be seen that the loss and perplexity are decreasing as model gets trained. The validation loss starts to stabilize and then grow at Epoch 9, which suggests you do not need to continue training the model to avoid overtraining.\n"
   ]
  },
  {
   "cell_type": "markdown",
   "id": "4104133d-f0ea-4ec6-b145-f7f98bf0b7f0",
   "metadata": {},
   "source": [
    "## Loading the saved model\n",
    "If you want to skip training and load the pre-trained model that is provided, go ahead and uncomment the following cell:\n"
   ]
  },
  {
   "cell_type": "code",
   "execution_count": 35,
   "id": "ef0e1ed7-d541-415a-808f-4f23d351c25f",
   "metadata": {},
   "outputs": [
    {
     "data": {
      "text/plain": [
       "<All keys matched successfully>"
      ]
     },
     "execution_count": 35,
     "metadata": {},
     "output_type": "execute_result"
    }
   ],
   "source": [
    "#!wget 'https://cf-courses-data.s3.us.cloud-object-storage.appdomain.cloud/IBMSkillsNetwork-AI0201EN-Coursera/RNN-TR-model.pt'\n",
    "model.load_state_dict(torch.load('RNN-TR-model.pt',map_location=torch.device('cpu')))"
   ]
  },
  {
   "cell_type": "markdown",
   "id": "4f659218-325a-4cf0-8883-d9e1007e1472",
   "metadata": {},
   "source": [
    "## Model inference\n",
    "\n",
    "\n",
    "Next, create a generator function that generates translations for input source sentences:\n"
   ]
  },
  {
   "cell_type": "code",
   "execution_count": 36,
   "id": "0e415f76-e8ac-4029-9ce6-d68e607dc286",
   "metadata": {},
   "outputs": [],
   "source": [
    "import torch.nn.functional as F\n",
    "\n",
    "def generate_translation(model, src_sentence, src_vocab, trg_vocab, max_len=50):\n",
    "    model.eval()  # Set the model to evaluation mode\n",
    "\n",
    "    with torch.no_grad():\n",
    "        src_tensor = text_transform[SRC_LANGUAGE](src_sentence).view(-1, 1).to(device)\n",
    "\n",
    "        # Pass the source tensor through the encoder\n",
    "        hidden, cell = model.encoder(src_tensor)\n",
    "\n",
    "        # Create a tensor to store the generated translation\n",
    "        # get_stoi() maps tokens to indices\n",
    "        trg_indexes = [trg_vocab.get_stoi()['<bos>']]  # Start with <bos> token\n",
    "\n",
    "        # Convert the initial token to a PyTorch tensor\n",
    "        trg_tensor = torch.LongTensor(trg_indexes).unsqueeze(1)  # Add batch dimension\n",
    "\n",
    "        # Move the tensor to the same device as the model\n",
    "        trg_tensor = trg_tensor.to(model.device)\n",
    "\n",
    "\n",
    "        # Generate the translation\n",
    "        for _ in range(max_len):\n",
    "\n",
    "            # Pass the target tensor and the previous hidden and cell states through the decoder\n",
    "            output, hidden, cell = model.decoder(trg_tensor[-1], hidden, cell)\n",
    "\n",
    "            # Get the predicted next token\n",
    "            pred_token = output.argmax(1)[-1].item()\n",
    "\n",
    "            # Append the predicted token to the translation\n",
    "            trg_indexes.append(pred_token)\n",
    "\n",
    "\n",
    "            # If the predicted token is the <eos> token, stop generating\n",
    "            if pred_token == trg_vocab.get_stoi()['<eos>']:\n",
    "                break\n",
    "\n",
    "            # Convert the predicted token to a PyTorch tensor\n",
    "            trg_tensor = torch.LongTensor(trg_indexes).unsqueeze(1)  # Add batch dimension\n",
    "\n",
    "            # Move the tensor to the same device as the model\n",
    "            trg_tensor = trg_tensor.to(model.device)\n",
    "\n",
    "        # Convert the generated tokens to text\n",
    "        # get_itos() maps indices to tokens\n",
    "        trg_tokens = [trg_vocab.get_itos()[i] for i in trg_indexes]\n",
    "\n",
    "        # Remove the <sos> and <eos> from the translation\n",
    "        if trg_tokens[0] == '<bos>':\n",
    "            trg_tokens = trg_tokens[1:]\n",
    "        if trg_tokens[-1] == '<eos>':\n",
    "            trg_tokens = trg_tokens[:-1]\n",
    "\n",
    "        # Return the translation list as a string\n",
    "\n",
    "        translation = \" \".join(trg_tokens)\n",
    "\n",
    "        return translation"
   ]
  },
  {
   "cell_type": "markdown",
   "id": "aa878e18-6b03-466d-a116-4682ae5fbf7c",
   "metadata": {},
   "source": [
    "Now, you can check the model's output for a sample sentence:\n"
   ]
  },
  {
   "cell_type": "code",
   "execution_count": 37,
   "id": "fd34904c-82b3-4803-b370-464f3ee31dce",
   "metadata": {},
   "outputs": [
    {
     "name": "stdout",
     "output_type": "stream",
     "text": [
      "An Asian man is on the sidewalk of a building .\n"
     ]
    }
   ],
   "source": [
    "# model.load_state_dict(torch.load('RNN-TR-model.pt'))\n",
    "\n",
    "# Actual translation: Asian man sweeping the walkway.\n",
    "src_sentence = 'Ein asiatischer Mann kehrt den Gehweg.'\n",
    "\n",
    "\n",
    "generated_translation = generate_translation(model, src_sentence=src_sentence, src_vocab=vocab_transform['de'], trg_vocab=vocab_transform['en'], max_len=12)\n",
    "#generated_translation = \" \".join(generated_translation_list).replace(\"<bos>\", \"\").replace(\"<eos>\", \"\")\n",
    "print(generated_translation)\n"
   ]
  },
  {
   "cell_type": "markdown",
   "id": "3003312a-055e-4b94-9c9d-7ac2a8e3ff8f",
   "metadata": {},
   "source": [
    "Fantastic! You have created a translation model that can generate german-english translations pretty accurate, huh?\n",
    "\n",
    "You can play with the model parameters and hyperparameters to improve the model performance.\n"
   ]
  },
  {
   "cell_type": "markdown",
   "id": "ecdba067-ff93-4d89-9a3b-20cdf5d05a2a",
   "metadata": {},
   "source": [
    "## BLEU score metric for evaluation\n",
    "While peplexity serves as a general metric to evaluate the performance of language model in predicting the correct next token, BLEU score is helpful in evaluating the quality of the final generated translation.\n",
    "Validating the results using BLEU score is helpful when there is more than a single valid translation for a sentence as you can include many translation versions in the reference list and compare the generated translation with different versions of translations.\n",
    "\n",
    "The BLEU (Bilingual Evaluation Understudy) score is a metric commonly used to evaluate the quality of machine-generated translations by comparing them to one or more reference translations. It measures the similarity between the generated translation and the reference translations based on n-gram matching.\n",
    "\n",
    "The BLEU score is calculated using the following formulas:\n",
    "\n",
    "1. **Precision**:\n",
    "   - Precision measures the proportion of n-grams in the generated translation that appear in the reference translations.\n",
    "   - Precision is calculated for each n-gram order (1 to N) and then combined using a geometric mean.\n",
    "   - The precision for a particular n-gram order is calculated as:\n",
    "   \n",
    "   $$\\text{Precision}_n(t) = \\frac{\\text{CountClip}_n(t)}{\\text{Count}_n(t)}$$\n",
    "   \n",
    "   where:\n",
    "     - $\\text{CountClip}_n(t)$ is the count of n-grams in the generated translation that appear in any reference translation, clipped by the maximum count of that n-gram in any single reference translation.\n",
    "     - $\\text{Count}_n(t)$ is the count of n-grams in the generated translation.\n",
    "\n",
    "2. . **Brevity penalty**:\n",
    "   - The brevity penalty accounts for the fact that shorter translations tend to have higher precision scores.\n",
    "   - It encourages translations that are closer in length to the reference translations.\n",
    "   - The brevity penalty is calculated as:\n",
    "   \n",
    "  $$\\text{BP} = \\begin{cases} 1 & \\text{if } c > r \\\\\\\\\\\\\\\\\\\\\\\\\\\\\\\\ e^{(1 - \\frac{r}{c})} & \\text{if } c \\leq r \\end{cases}$$\n",
    "   \n",
    "   where:\n",
    "     - $c$ is the total length of the generated translation.\n",
    "     - $r$ is the total length of the reference translations.\n",
    "\n",
    "3. **BLEU score**:\n",
    "   - The BLEU score is the geometric mean of the precisions, weighted by the brevity penalty.\n",
    "   - It is calculated as:\n",
    "   \n",
    "   $$\\text{BLEU} = \\text{BP} \\cdot \\exp(\\sum_{n=1}^{N}w_n \\log(\\text{Precision}_n(t)))$$\n",
    "   \n",
    "   where:\n",
    "     - $N$ is the maximum n-gram order.\n",
    "     - $w_n$ is the weight assigned to the precision at n-gram order $n$, commonly set as $\\frac{1}{N}$ for equal weights.\n"
   ]
  },
  {
   "cell_type": "code",
   "execution_count": 38,
   "id": "b4fff8b1-057f-47d2-b5e7-9710d2daca98",
   "metadata": {},
   "outputs": [],
   "source": [
    "def calculate_bleu_score(generated_translation, reference_translations):\n",
    "    # Convert the generated translations and reference translations into the expected format for sentence_bleu\n",
    "    references = [reference.split() for reference in reference_translations]\n",
    "    hypothesis = generated_translation.split()\n",
    "\n",
    "    # Calculate the BLEU score\n",
    "    bleu_score = sentence_bleu(references, hypothesis)\n",
    "\n",
    "    return bleu_score"
   ]
  },
  {
   "cell_type": "markdown",
   "id": "55d2d72e-fb74-42b7-a96f-add8773973ba",
   "metadata": {},
   "source": [
    "Let's calculate the BLEU score for a sample sentence:\n"
   ]
  },
  {
   "cell_type": "code",
   "execution_count": 39,
   "id": "47a66a90-485e-48c2-8834-126e324c847b",
   "metadata": {},
   "outputs": [
    {
     "name": "stdout",
     "output_type": "stream",
     "text": [
      "BLEU Score: 0.28997844147152074\n"
     ]
    }
   ],
   "source": [
    "reference_translations = [\n",
    "    \"Asian man sweeping the walkway .\",\n",
    "    \"An asian man sweeping the walkway .\",\n",
    "    \"An Asian man sweeps the sidewalk .\",\n",
    "    \"An Asian man is sweeping the sidewalk .\",\n",
    "    \"An asian man is sweeping the walkway .\",\n",
    "    \"Asian man sweeping the sidewalk .\"\n",
    "]\n",
    "\n",
    "bleu_score = calculate_bleu_score(generated_translation, reference_translations)\n",
    "print(\"BLEU Score:\", bleu_score)"
   ]
  },
  {
   "cell_type": "markdown",
   "id": "a290e73e-c4e2-45f0-8009-45e63d21ca27",
   "metadata": {},
   "source": [
    "# Exercises\n"
   ]
  },
  {
   "cell_type": "markdown",
   "id": "018f22f0-ff95-43b3-aaa6-336b425ca5bc",
   "metadata": {},
   "source": [
    "### Exercise 1 - Translate a German sentence to English.\n"
   ]
  },
  {
   "cell_type": "code",
   "execution_count": 43,
   "id": "3dbfaa34-2d38-4f33-b37a-9ebddc1d5b77",
   "metadata": {},
   "outputs": [
    {
     "name": "stdout",
     "output_type": "stream",
     "text": [
      "People walking down the street street .\n"
     ]
    }
   ],
   "source": [
    "# Define the German text to be translated\n",
    "german_text = \"Menschen gehen auf der Straße\"\n",
    "\n",
    "generated_translation = generate_translation(model, src_sentence=german_text, src_vocab=vocab_transform['de'], trg_vocab=vocab_transform['en'], max_len=12)\n",
    "#generated_translation = \" \".join(generated_translation_list).replace(\"<bos>\", \"\").replace(\"<eos>\", \"\")\n",
    "print(generated_translation)"
   ]
  },
  {
   "cell_type": "markdown",
   "id": "718f4d0d-c355-40bb-95b9-dd09e847208f",
   "metadata": {},
   "source": [
    "<details>\n",
    "    <summary>Click here for Solution</summary>\n",
    "\n",
    "```python\n",
    "german_text = \"Menschen gehen auf der Straße\"\n",
    "\n",
    "# The function should be defined to accept the text, the model, source and target vocabularies, and the device as parameters.\n",
    "english_translation = generate_translation(\n",
    "    model, \n",
    "    src_sentence=german_text, \n",
    "    src_vocab=vocab_transform['de'], \n",
    "    trg_vocab=vocab_transform['en'], \n",
    "    max_len=50\n",
    ")\n",
    "\n",
    "# Display the original and translated text\n",
    "print(f\"Original German text: {german_text}\")\n",
    "print(f\"Translated English text: {english_translation}\")\n",
    "```\n",
    "\n",
    "</details>\n"
   ]
  },
  {
   "cell_type": "markdown",
   "id": "48c75bcb-a878-4273-be04-74907cdf441f",
   "metadata": {},
   "source": [
    "## Authors\n"
   ]
  },
  {
   "cell_type": "markdown",
   "id": "fe5324f8-14c7-4800-8df7-9c44e03e2678",
   "metadata": {},
   "source": [
    "[Fateme Akbari](https://www.linkedin.com/in/fatemeakbari/) is a PhD candidate in Information Systems at McMaster University with demonstrated research experience in Machine Learning and NLP.\n"
   ]
  },
  {
   "cell_type": "markdown",
   "id": "596b1500-8416-428b-b32f-09d2c91d98f6",
   "metadata": {},
   "source": [
    "```{## Change log}\n",
    "```\n"
   ]
  },
  {
   "cell_type": "markdown",
   "id": "1b980cc6-7bbe-4ebc-afa4-962abbca725f",
   "metadata": {},
   "source": [
    "```{|Date (YYYY-MM-DD)|Version|Changed By|Change Description||-|-|-|-||2020-07-17|0.1|Sam|Create Lab Template|}\n",
    "```\n"
   ]
  },
  {
   "cell_type": "markdown",
   "id": "2972860a-cf8e-4233-83ab-098d5ee308fa",
   "metadata": {},
   "source": [
    "© Copyright IBM Corporation. All rights reserved.\n"
   ]
  }
 ],
 "metadata": {
  "kernelspec": {
   "display_name": ".ai-env",
   "language": "python",
   "name": "python3"
  },
  "language_info": {
   "codemirror_mode": {
    "name": "ipython",
    "version": 3
   },
   "file_extension": ".py",
   "mimetype": "text/x-python",
   "name": "python",
   "nbconvert_exporter": "python",
   "pygments_lexer": "ipython3",
   "version": "3.12.3"
  },
  "prev_pub_hash": "d0fb0ebb6eac7732ead76afaa45519aa23f3d77685e2dbdba0c275fea38df645"
 },
 "nbformat": 4,
 "nbformat_minor": 4
}

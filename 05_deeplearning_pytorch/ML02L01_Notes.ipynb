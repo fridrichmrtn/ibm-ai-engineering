{
 "cells": [
  {
   "cell_type": "markdown",
   "metadata": {},
   "source": [
    "# Softmax\n",
    "\n",
    "## Softmax Function\n",
    "* generalization of sigmoid function to multi-class problems (linear separation of the classes in the last layer)\n",
    "* $\\frac{e^{z_i}}{\\sum_{k=1}^{K} e^{z_k}}$, where $K$ denotes the number of classes, we pick class with the highest proba"
   ]
  }
 ],
 "metadata": {
  "kernelspec": {
   "display_name": ".dl-env",
   "language": "python",
   "name": "python3"
  },
  "language_info": {
   "name": "python",
   "version": "3.12.3"
  }
 },
 "nbformat": 4,
 "nbformat_minor": 2
}

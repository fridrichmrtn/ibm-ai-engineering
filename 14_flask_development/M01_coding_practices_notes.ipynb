{
 "cells": [
  {
   "cell_type": "markdown",
   "id": "d7637a54",
   "metadata": {},
   "source": [
    "# Coding Practices & Code Packaging\n",
    "\n",
    "## Application development lifecycle\n",
    "\n",
    "### Lifecycle\n",
    "\n",
    "* requirement gathering\n",
    "    * requirements from users (ease of use), business (pricing), and technical (browsers compatibility)\n",
    "    * includes constrains\n",
    "\n",
    "* analysis\n",
    "    * requirements -> analysis -> verify and revise\n",
    "\n",
    "* design\n",
    "    * analysis -> design -> verify and revise\n",
    "    * design documents (track changes)\n",
    "\n",
    "* code and test\n",
    "    * requirements & design -> coding -> testing  -> revise -> hand-over to testing\n",
    "    * testing here mostly unit testing\n",
    "\n",
    "* user and system testing\n",
    "        * user test\n",
    "        * system test\n",
    "            * integration\n",
    "            * system test\n",
    "\n",
    "* production\n",
    "    * final, tested programs => promoted to production\n",
    "\n",
    "* maintenance\n",
    "    * upgrade & new features (all previous stages need to be included)\n",
    "\n",
    "### Multiple files in development\n",
    "\n",
    "* requirements for features may vary\n",
    "* separate func across files, for better maintenance, and adding new features"
   ]
  },
  {
   "cell_type": "markdown",
   "id": "75d04537",
   "metadata": {
    "vscode": {
     "languageId": "plaintext"
    }
   },
   "source": [
    "## Web Apps and APIs\n",
    "\n",
    "* standards for API architectures\n",
    "    * Representation State Transfer (REST)\n",
    "    * Simple Object Access Protocol (SOAP)\n",
    "\n",
    "* APIs help with\n",
    "    * connectivity between apps,\n",
    "    * supports CRUD,\n",
    "    * works with PUT, POST, DELETE, GET,\n",
    "    and is customizable.\n",
    "\n",
    "* webapp is based on APIs connecting user's browser, front-end and back-end."
   ]
  },
  {
   "cell_type": "markdown",
   "id": "f6ec908c",
   "metadata": {},
   "source": [
    "## Python style guide\n",
    "\n",
    "* code must be readable, need for standards and conventions, PEP8\n",
    "* key guidelines\n",
    "    * space for indentation (differently interpreted across IDEs)\n",
    "        * 4 spaces for indentation    \n",
    "    * blank lines between functions & classes\n",
    "    * use spaces around operators and separators such as comma\n",
    "    * function separation\n",
    "    * naming functions and files with lowercase and underscores (snake_case)\n",
    "        * in python packages, underscores are generally discouraged\n",
    "    * naming classes using capitalized words (CamelCase)\n",
    "    * constants are capitalized letters and underscores (CAPITAL_SNAKE_CASE)\n",
    "\n",
    "* static code analysis\n",
    "    * code evaluation against the standards without evaluation (programming errors, formatting errors, etc)"
   ]
  },
  {
   "cell_type": "markdown",
   "id": "b77866e2",
   "metadata": {},
   "source": [
    "## Unit testing\n",
    "\n",
    "* method of validation if code is working as designed\n",
    "* development\n",
    "    * code developed -> unit tested locally -> CI/CD server -> if fails test there, report obtained\n",
    "    * if tests are passed, code is propagated further"
   ]
  },
  {
   "cell_type": "code",
   "execution_count": 11,
   "id": "28e0a0d3",
   "metadata": {},
   "outputs": [
    {
     "name": "stderr",
     "output_type": "stream",
     "text": [
      "test_add (__main__.TestMathFunctions.test_add) ... ok\n",
      "test_double (__main__.TestMathFunctions.test_double) ... ok\n",
      "test_square (__main__.TestMathFunctions.test_square) ... ok\n",
      "\n",
      "----------------------------------------------------------------------\n",
      "Ran 3 tests in 0.002s\n",
      "\n",
      "OK\n"
     ]
    }
   ],
   "source": [
    "def square(x):\n",
    "    return x * x\n",
    "\n",
    "def double(x):\n",
    "    return x + x\n",
    "\n",
    "def add(x, y):\n",
    "    return x + y\n",
    "\n",
    "import unittest\n",
    "\n",
    "class TestMathFunctions(unittest.TestCase):\n",
    "\n",
    "    def test_square(self):\n",
    "        self.assertEqual(square(2), 4)\n",
    "        self.assertEqual(square(-3), 9)\n",
    "        self.assertNotEqual(square(-3), -9)\n",
    "\n",
    "    def test_double(self):\n",
    "        self.assertEqual(double(3), 6)\n",
    "        self.assertEqual(double(-1), -2)\n",
    "\n",
    "    def test_add(self):\n",
    "        self.assertEqual(add(2, 3), 5)\n",
    "        self.assertEqual(add(-1, 1), 0)\n",
    "        self.assertEqual(add(\"hello\", \"world\"), \"helloworld\")\n",
    "        self.assertNotEqual(add(-2, -2), 0)\n",
    "        \n",
    "if __name__ == '__main__':\n",
    "    unittest.main(argv=[''], verbosity=2, exit=False)"
   ]
  },
  {
   "cell_type": "markdown",
   "id": "e030f602",
   "metadata": {},
   "source": [
    "## Packaging\n",
    "\n",
    "* module (.py file, if in same dir funcs and objects can be imported directly)\n",
    "* package (collection of modules in a directory, `__init__.py` in the root)\n",
    "* library (collection of packages)\n",
    "\n",
    "* package creation\n",
    "    * directory & empty `__init__.py`\n",
    "    * modules\n",
    "    * fill `__init__.py` with modules needed in the package\n",
    "    * verify the package `import myproject`"
   ]
  }
 ],
 "metadata": {
  "kernelspec": {
   "display_name": ".dev-env",
   "language": "python",
   "name": "python3"
  },
  "language_info": {
   "codemirror_mode": {
    "name": "ipython",
    "version": 3
   },
   "file_extension": ".py",
   "mimetype": "text/x-python",
   "name": "python",
   "nbconvert_exporter": "python",
   "pygments_lexer": "ipython3",
   "version": "3.12.3"
  }
 },
 "nbformat": 4,
 "nbformat_minor": 5
}

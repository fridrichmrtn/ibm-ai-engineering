{
 "cells": [
  {
   "cell_type": "markdown",
   "id": "34caa30e-b4cb-4eaf-a9ed-55c8a44f790b",
   "metadata": {},
   "source": [
    "<p style=\"text-align:center\">\n",
    "    <a href=\"https://skills.network\" target=\"_blank\">\n",
    "    <img src=\"https://cf-courses-data.s3.us.cloud-object-storage.appdomain.cloud/assets/logos/SN_web_lightmode.png\" width=\"200\" alt=\"Skills Network Logo\">\n",
    "    </a>\n",
    "</p>\n"
   ]
  },
  {
   "cell_type": "markdown",
   "id": "da1dae89-4ba8-478b-ba81-8575aa016448",
   "metadata": {},
   "source": [
    "# **Pretraining BERT Models**\n"
   ]
  },
  {
   "cell_type": "markdown",
   "id": "3f47da47-26d5-4399-8ca5-8631e536ea0f",
   "metadata": {},
   "source": [
    "Estimated time needed: **60** minutes\n"
   ]
  },
  {
   "cell_type": "markdown",
   "id": "8bc03967-209e-4b03-9c64-952780cd4ccb",
   "metadata": {},
   "source": [
    "In this hands-on lab, you will learn how to build a BERT model from scratch using PyTorch.\n"
   ]
  },
  {
   "cell_type": "markdown",
   "id": "5ac8df89-523e-4f90-b9ee-74d1aa261350",
   "metadata": {},
   "source": [
    "## __Table of contents__\n",
    "\n",
    "<ol>\n",
    "    <li><a href=\"#Objectives\">Objectives</a></li>\n",
    "    <li>\n",
    "        <a href=\"#Setup\">Setup</a>\n",
    "        <ol>\n",
    "            <li><a href=\"#Installing-required-libraries\">Installing required libraries</a></li>\n",
    "            <li><a href=\"#Importing-required-libraries\">Importing required libraries</a></li>\n",
    "        </ol>\n",
    "    </li>\n",
    "    <li>\n",
    "        <a href=\"#Background\">Background</a>\n",
    "        <ol>\n",
    "            <li><a href=\"#Introduction-to-pretraining\">Introduction to pretraining</a></li>\n",
    "            <li><a href=\"#Pretraining-objectives\">Pretraining objectives</a></li>\n",
    "            <li><a href=\"#Pretraining-a-BERT-model\">Pretraining a BERT model</a></li>\n",
    "        </ol>\n",
    "    </li>\n",
    "    <li><a href=\"#Loading-data\">Loading data</a></li>\n",
    "    <li><a href=\"#Model-creation\">Model creation</a></li>\n",
    "    <li><a href=\"#Evaluation\">Evaluation</a></li>\n",
    "    <li><a href=\"#Training\">Training</a></li>\n",
    "    <li><a href=\"#Inference\">Inference</a></li>\n",
    "    <li>\n",
    "        <a href=\"#Exercises\">Exercises</a>\n",
    "        <ol>\n",
    "            <li><a href=\"#Exercise-1:-Next-Sentence-Prediction-(NSP)-with-BERT\">Exercise 1: Next Sentence Prediction (NSP) with BERT</a></li>\n",
    "            <li><a href=\"#Exercise-2:-Masked-Language-Modeling-(MLM)-with-BERT\">Exercise 2: Masked Language Modeling (MLM) with BERT</a></li>\n",
    "        </ol>\n",
    "    </li>\n",
    "</ol>\n"
   ]
  },
  {
   "cell_type": "markdown",
   "id": "f455a0f4-22ff-4da2-b782-521497aee468",
   "metadata": {},
   "source": [
    "## Objectives\n",
    "\n",
    "In this interactive guide, you will delve into the core components of encoder models, with a spotlight on 'Baby BERT', a streamlined variant of the BERT model. This notebook aims to:\n",
    "\n",
    "- **Demystify tokenization**: Introduce the critical first step in processing text for Natural Language Processing (NLP) — tokenization. We'll learn how to convert raw text into a format that's amenable to machine processing.\n",
    "- **Decode encoder models**: Shed light on the structure and function of encoder models, particularly how they capture and process the complexities of language.\n",
    "- **Pretraining dynamics**: Walk through the pretraining phase of 'Baby BERT' on a bespoke dataset, showcasing how language models are equipped to understand context and meaning.\n",
    "- **Task-specific proficiency**: Assess 'Baby BERT's capabilities in handling sentence sequencing and word prediction challenges through Next Sentence Prediction (NSP) and Masked Language Modeling (MLM).\n",
    "- **Performance analysis**: Evaluate how well our model performs these tasks, providing insights into its linguistic comprehension and ability to predict accurately.\n"
   ]
  },
  {
   "cell_type": "markdown",
   "id": "819462ff-aba4-4914-b1db-76cc5fef7f83",
   "metadata": {},
   "source": [
    "## Setup\n"
   ]
  },
  {
   "cell_type": "markdown",
   "id": "828e8d70-6868-41b0-a84d-56961e0e8226",
   "metadata": {},
   "source": [
    "### Installing required libraries\n",
    "The following required libraries are __not__ pre-installed in the Skills Network Labs environment. __You will need to run the following cell__ to install them:\n",
    "> Note: After executing the 'pip install' cell restart the kernel and execute the subsequent cells.\n"
   ]
  },
  {
   "cell_type": "code",
   "execution_count": 1,
   "id": "9582241b-4873-4310-98b2-a45bedb5ab5b",
   "metadata": {},
   "outputs": [],
   "source": [
    "#!pip install 'pandas==2.2.1'\n",
    "#!pip install 'portalocker>=2.0.0'\n",
    "#!pip install 'torchtext==0.16.2'\n",
    "#!pip install 'pandas==2.2.1'\n",
    "#!pip install transformers\n",
    "#!pip install matplotlib"
   ]
  },
  {
   "cell_type": "markdown",
   "id": "eb14aba5-349b-4524-9c49-b1f189a798ae",
   "metadata": {},
   "source": [
    "### Importing required libraries\n",
    "\n",
    "_It is recommended you import all required libraries in one place (here):_\n"
   ]
  },
  {
   "cell_type": "code",
   "execution_count": 2,
   "id": "19d03398-88b3-4dd7-a1be-2f196ddea167",
   "metadata": {},
   "outputs": [],
   "source": [
    "import torch\n",
    "from torch.utils.data import DataLoader\n",
    "from torch import Tensor\n",
    "from torch.nn.utils.rnn import pad_sequence\n",
    "from torch.utils.data import Dataset, DataLoader\n",
    "import torch.nn as nn\n",
    "from torch.nn import Transformer\n",
    "from transformers import BertTokenizer\n",
    "from torch.optim import Adam\n",
    "from torch.nn import CrossEntropyLoss\n",
    "from torchtext.vocab import Vocab,build_vocab_from_iterator\n",
    "from torchtext.data.utils import get_tokenizer\n",
    "from torchtext.datasets import IMDB\n",
    "import random\n",
    "from itertools import chain\n",
    "import pandas as pd\n",
    "from copy import deepcopy\n",
    "import csv\n",
    "import json\n",
    "import math\n",
    "from tqdm import tqdm\n",
    "import matplotlib.pyplot as plt\n",
    "from transformers import get_linear_schedule_with_warmup\n",
    "\n",
    "# You can also use this section to suppress warnings generated by your code:\n",
    "def warn(*args, **kwargs):\n",
    "    pass\n",
    "import warnings\n",
    "warnings.warn = warn\n",
    "warnings.filterwarnings('ignore')\n"
   ]
  },
  {
   "cell_type": "markdown",
   "id": "4a449a02-02da-4d59-b7cb-4cb4114435f7",
   "metadata": {},
   "source": [
    "## Background\n",
    "### Introduction to pretraining\n"
   ]
  },
  {
   "cell_type": "markdown",
   "id": "fc9db3ff-9e33-4270-b58f-7994543502eb",
   "metadata": {},
   "source": [
    "Pretraining involves training a model on a large corpus of unlabeled text to capture general language patterns and semantic relationships. Pretrained models can then be fine-tuned on specific downstream NLP tasks, such as sentiment analysis, question answering, or machine translation.\n",
    "\n",
    "The motivation behind pretraining transformers is to address the limitations of traditional approaches that require significant amounts of labeled data for each specific task. Pretraining leverages the abundance of unlabeled text data available on the internet and facilitates transfer learning, where knowledge learned from one task can be transferred to aid in solving other related tasks.\n",
    "\n",
    "Pretraining objectives play a crucial role in training transformers. For example, masked language modeling (MLM) involves randomly masking some words in a sentence and training the model to predict the masked words based on the surrounding context. This objective helps the model learn contextual understanding and fill in missing information. Another objective called next sentence prediction (NSP) involves predicting whether two sentences are consecutive or randomly chosen from the corpus, enabling the model to learn sentence-level relationships.\n",
    "\n",
    "In the next sections of this lab, you will delve deeper into pretraining objectives. By the end of this lab, you will have a solid understanding of pretraining tasks for BERT models.\n"
   ]
  },
  {
   "cell_type": "markdown",
   "id": "85c390ef-5bd1-4f26-86c8-fcc96e8a56a0",
   "metadata": {},
   "source": [
    "### Pretraining objectives\n",
    "\n",
    "Pretraining objectives are crucial components of the pretraining process for transformers. These objectives define the tasks that the model is trained on during the pretraining phase, allowing it to learn meaningful contextual representations of language. Two commonly used pretraining objectives are masked language modeling (MLM) and next sentence prediction (NSP).\n",
    "\n",
    "1. Masked Language Modeling (MLM):\n",
    "   Masked language modeling involves randomly masking some words in a sentence and training the model to predict the masked words based on the context provided by the surrounding words(i.e., words that appear either before or after the masked word). The objective is to enable the model to learn contextual understanding and fill in missing information.\n",
    "\n",
    "   Here's how MLM works:\n",
    "   - Given an input sentence, a certain percentage of the words are randomly chosen and replaced with a special [MASK] token.\n",
    "   - The model's task is to predict the original words that were masked, given the context of the surrounding words.\n",
    "   - During training, the model learns to understand the relationship between the masked words and the rest of the sentence, effectively capturing the contextual information.\n",
    "\n",
    "2. Next Sentence Prediction (NSP):\n",
    "   Next sentence prediction involves training the model to predict whether two sentences are consecutive in the original text or randomly chosen from the corpus. This objective helps the model learn sentence-level relationships and understand the coherence between sentences.\n",
    "\n",
    "   Here's how NSP works:\n",
    "   - Given a pair of sentences, the model is trained to predict whether the second sentence follows the first sentence in the original text or if it is randomly selected from the corpus.\n",
    "   - The model learns to capture the relationships between sentences and understand the flow of information in the text.\n",
    "\n",
    "   NSP is particularly useful for tasks that involve understanding the relationship between multiple sentences, such as question answering or document classification. By training the model to predict the coherence of sentence pairs, it learns to capture the semantic connections between them.\n",
    "\n",
    "It's important to note that different pretrained models may use variations or combinations of these objectives, depending on the specific architecture and training setup.\n"
   ]
  },
  {
   "cell_type": "markdown",
   "id": "d99bddf4-4f66-45a0-b756-69dd3fba6dd1",
   "metadata": {},
   "source": [
    "### Pretraining a BERT model\n",
    "Pretraining a BERT(Bidirectional Encoder Representations from Transformers) model is a complex and time-consuming process that requires a large corpus of unlabeled text data and significant computational resources. However, you provide with a simplified exercise to demonstrate the steps involved in pretraining a BERT model using the Masked Language Modeling (MLM) as well as the Next Sentence Prediction (NSP) objectives.\n",
    "\n",
    "You will be instructed to:\n",
    "- Create train and test dataloaders from dataset\n",
    "- Pretrain BERT using an MLM task\n",
    "- Pretrain BERT using an NSP task\n",
    "- Evaluate the trained model\n"
   ]
  },
  {
   "cell_type": "markdown",
   "id": "98ef1f21-e1e9-4a6e-b5a6-63925eeff6a5",
   "metadata": {},
   "source": [
    "## Loading data\n",
    "Let's load the CSV files created in the data preparation lab.\n"
   ]
  },
  {
   "cell_type": "code",
   "execution_count": 3,
   "id": "0d6dd99f-41ba-40cc-b810-df5774eb957e",
   "metadata": {},
   "outputs": [],
   "source": [
    "%%bash\n",
    "# Remove any earlier instance of the dataset loaded\n",
    "if [ -d \"bert_dataset\" ]; then\n",
    "    rm -rf bert_dataset\n",
    "fi"
   ]
  },
  {
   "cell_type": "code",
   "execution_count": 4,
   "id": "dd5f6cd4-9f47-4c53-ae45-95f1f2c90254",
   "metadata": {},
   "outputs": [
    {
     "name": "stdout",
     "output_type": "stream",
     "text": [
      "--2025-03-10 11:04:10--  https://cf-courses-data.s3.us.cloud-object-storage.appdomain.cloud/bZaoQD52DcMpE7-kxwAG8A.zip\n",
      "Resolving cf-courses-data.s3.us.cloud-object-storage.appdomain.cloud (cf-courses-data.s3.us.cloud-object-storage.appdomain.cloud)... 169.63.118.104\n",
      "Connecting to cf-courses-data.s3.us.cloud-object-storage.appdomain.cloud (cf-courses-data.s3.us.cloud-object-storage.appdomain.cloud)|169.63.118.104|:443... connected.\n",
      "HTTP request sent, awaiting response... 200 OK\n",
      "Length: 88958506 (85M) [application/zip]\n",
      "Saving to: ‘BERT_dataset.zip’\n",
      "\n",
      "BERT_dataset.zip    100%[===================>]  84.84M  4.32MB/s    in 18s     \n",
      "\n",
      "2025-03-10 11:04:30 (4.60 MB/s) - ‘BERT_dataset.zip’ saved [88958506/88958506]\n",
      "\n",
      "Archive:  BERT_dataset.zip\n",
      "   creating: bert_dataset/\n",
      "  inflating: bert_dataset/.DS_Store  \n",
      "  inflating: bert_dataset/bert_train_data.csv  \n",
      "  inflating: bert_dataset/bert_test_data_sampled.csv  \n",
      "  inflating: bert_dataset/bert_test_data.csv  \n",
      "  inflating: bert_dataset/bert_train_data_sampled.csv  \n"
     ]
    }
   ],
   "source": [
    "!wget -O BERT_dataset.zip https://cf-courses-data.s3.us.cloud-object-storage.appdomain.cloud/bZaoQD52DcMpE7-kxwAG8A.zip\n",
    "!unzip BERT_dataset.zip"
   ]
  },
  {
   "cell_type": "markdown",
   "id": "23a2183f-31cb-4f5f-aaf6-7e1100040da7",
   "metadata": {},
   "source": [
    "Now, you can create a torch Dataset using the CSV file you just created:\n"
   ]
  },
  {
   "cell_type": "code",
   "execution_count": 5,
   "id": "9e7c03d2-4592-47bc-8fac-84cdd72c9b8c",
   "metadata": {},
   "outputs": [],
   "source": [
    "class BERTCSVDataset(Dataset):\n",
    "    def __init__(self, filename):\n",
    "        self.data = pd.read_csv(filename)\n",
    "        self.tokenizer = BertTokenizer.from_pretrained('bert-base-uncased')\n",
    "\n",
    "    def __len__(self):\n",
    "        return len(self.data)\n",
    "\n",
    "    def __getitem__(self, idx):\n",
    "        row = self.data.iloc[idx]\n",
    "        try:\n",
    "            \n",
    "            bert_input = torch.tensor(json.loads(row['BERT Input']), dtype=torch.long)\n",
    "            bert_label = torch.tensor(json.loads(row['BERT Label']), dtype=torch.long)\n",
    "            segment_label = torch.tensor([int(x) for x in row['Segment Label'].split(',')], dtype=torch.long)\n",
    "            is_next = torch.tensor(row['Is Next'], dtype=torch.long)\n",
    "            original_text = row['Original Text']  # If you want to use it\n",
    "        except json.JSONDecodeError as e:\n",
    "            print(f\"Error decoding JSON for row {idx}: {e}\")\n",
    "            print(\"BERT Input:\", row['BERT Input'])\n",
    "            print(\"BERT Label:\", row['BERT Label'])\n",
    "            # Handle the error, e.g., by skipping this row or using default values\n",
    "            return None  # or some default values\n",
    "\n",
    "            # Tokenizing the original text with BERT\n",
    "        encoded_input = self.tokenizer.encode_plus(\n",
    "            original_text,\n",
    "            add_special_tokens=True,\n",
    "            max_length=512,\n",
    "            padding='max_length',\n",
    "            truncation=True,\n",
    "            return_tensors=\"pt\"\n",
    "        )\n",
    "\n",
    "        input_ids = encoded_input['input_ids'].squeeze()\n",
    "        attention_mask = encoded_input['attention_mask'].squeeze()\n",
    "\n",
    "        return(bert_input, bert_label, segment_label, is_next, input_ids, attention_mask, original_text)"
   ]
  },
  {
   "cell_type": "markdown",
   "id": "7fa54fde-4880-42d8-8262-873d5b0bb4ff",
   "metadata": {},
   "source": [
    "Next, create a collate function that applies transformations on batches of data iterator:\n"
   ]
  },
  {
   "cell_type": "code",
   "execution_count": 6,
   "id": "b8882f41-2494-4b37-bb94-c0dba35d18fe",
   "metadata": {},
   "outputs": [],
   "source": [
    "PAD_IDX = 0\n",
    "def collate_batch(batch):\n",
    "\n",
    "   \n",
    "    bert_inputs_batch, bert_labels_batch, segment_labels_batch, is_nexts_batch,input_ids_batch,attention_mask_batch,original_text_battch = [], [], [], [],[],[],[]\n",
    "\n",
    "    for bert_input, bert_label, segment_label, is_next,input_ids,attention_mask,original_text in batch:\n",
    "        # Convert each sequence to a tensor and append to the respective list\n",
    "        bert_inputs_batch.append(torch.tensor(bert_input, dtype=torch.long))\n",
    "        bert_labels_batch.append(torch.tensor(bert_label, dtype=torch.long))\n",
    "        segment_labels_batch.append(torch.tensor(segment_label, dtype=torch.long))\n",
    "        is_nexts_batch.append(is_next)\n",
    "        input_ids_batch.append(input_ids)\n",
    "        attention_mask_batch.append(attention_mask)\n",
    "        original_text_battch.append(original_text)\n",
    "\n",
    "    # Pad the sequences in the batch\n",
    "    bert_inputs_final = pad_sequence(bert_inputs_batch, padding_value=PAD_IDX, batch_first=False)\n",
    "    bert_labels_final = pad_sequence(bert_labels_batch, padding_value=PAD_IDX, batch_first=False)\n",
    "    segment_labels_final = pad_sequence(segment_labels_batch, padding_value=PAD_IDX, batch_first=False)\n",
    "    is_nexts_batch = torch.tensor(is_nexts_batch, dtype=torch.long)\n",
    "\n",
    "    return bert_inputs_final, bert_labels_final, segment_labels_final, is_nexts_batch"
   ]
  },
  {
   "cell_type": "markdown",
   "id": "39e7b828-4e21-421f-9467-86c14a1eb995",
   "metadata": {},
   "source": [
    "Using an arbitrary batch size, you can create train and test dataloaders:\n"
   ]
  },
  {
   "cell_type": "code",
   "execution_count": 7,
   "id": "987c3393-9d42-4b5c-b919-7508b6ec192d",
   "metadata": {},
   "outputs": [],
   "source": [
    "BATCH_SIZE = 2\n",
    "\n",
    "train_dataset_path = './bert_dataset/bert_train_data.csv'\n",
    "test_dataset_path = './bert_dataset/bert_test_data.csv'\n",
    "\n",
    "train_dataset = BERTCSVDataset(train_dataset_path)\n",
    "test_dataset = BERTCSVDataset(test_dataset_path)\n",
    "\n",
    "train_dataloader = DataLoader(train_dataset, batch_size=BATCH_SIZE, shuffle=True, collate_fn=collate_batch)\n",
    "test_dataloader = DataLoader(test_dataset, batch_size=BATCH_SIZE, shuffle=False, collate_fn=collate_batch)"
   ]
  },
  {
   "cell_type": "markdown",
   "id": "c8124134-328c-45cc-8f95-d02c3ff2c06c",
   "metadata": {},
   "source": [
    "## Model creation\n",
    "\n",
    "In BERT, positional embedding, token embedding, and segment embedding are three types of embeddings used to represent the input tokens in the model.\n",
    "\n",
    "1. Token Embedding: Token embedding is the initial representation of each token in a BERT model. It maps each token to a dense vector representation of a fixed size, typically referred to as the embedding size. The token embedding layer in BERT learns the contextual representations of the input tokens. These embeddings capture the semantic meaning of the tokens and their relationships with other tokens in the context.\n",
    "\n",
    "2. Positional Embedding: BERT is a transformer-based model that processes the input tokens in parallel. However, since transformers don't inherently capture the order of tokens, positional embedding is used to inject positional information into the model. It adds a vector representation to each token that encodes its position in the input sequence. The positional embedding allows BERT to understand the sequential order of the tokens and capture their relative positions.\n",
    "\n",
    "\n",
    "3. Segment Embedding: BERT can handle sentence pairs or sequences that have distinct segments or parts. To differentiate between different segments, such as sentences or document sections, segment embedding is used. It assigns a unique vector representation to each segment or part of the input. The segment embeddings help BERT understand the relationships between different segments and capture the context within and between them.\n"
   ]
  },
  {
   "cell_type": "code",
   "execution_count": 8,
   "id": "c40ec08e-a635-4908-973e-581d777203e2",
   "metadata": {},
   "outputs": [],
   "source": [
    "EMBEDDING_DIM = 10\n",
    "\n",
    "class TokenEmbedding(nn.Module):\n",
    "    def __init__(self, vocab_size, emb_size):\n",
    "        super(TokenEmbedding, self).__init__()\n",
    "        self.embedding = nn.Embedding(vocab_size, emb_size)\n",
    "        self.emb_size = emb_size\n",
    "\n",
    "    def forward(self, tokens: Tensor):\n",
    "        return self.embedding(tokens.long()) * math.sqrt(self.emb_size)\n",
    "\n",
    "# Define the PositionalEncoding class as a PyTorch module for adding positional information to token embeddings\n",
    "class PositionalEncoding(nn.Module):\n",
    "    def __init__(self, emb_size: int, dropout: float, maxlen: int = 5000):\n",
    "        super(PositionalEncoding, self).__init__()\n",
    "        # Create a positional encoding matrix as per the Transformer paper's formula\n",
    "        den = torch.exp(- torch.arange(0, emb_size, 2) * math.log(10000) / emb_size)\n",
    "        pos = torch.arange(0, maxlen).reshape(maxlen, 1)\n",
    "        pos_embedding = torch.zeros((maxlen, emb_size))\n",
    "        pos_embedding[:, 0::2] = torch.sin(pos * den)\n",
    "        pos_embedding[:, 1::2] = torch.cos(pos * den)\n",
    "        pos_embedding = pos_embedding.unsqueeze(-2)\n",
    "\n",
    "        self.dropout = nn.Dropout(dropout)\n",
    "        self.register_buffer('pos_embedding', pos_embedding)\n",
    "\n",
    "    def forward(self, token_embedding: torch.Tensor):\n",
    "        # Apply the positional encodings to the input token embeddings\n",
    "\n",
    "        return self.dropout(token_embedding + self.pos_embedding[:token_embedding.size(0), :])"
   ]
  },
  {
   "cell_type": "code",
   "execution_count": 9,
   "id": "1b64d060-6c14-470e-8689-95ff195cd7b1",
   "metadata": {},
   "outputs": [],
   "source": [
    "class BERTEmbedding (nn.Module):\n",
    "\n",
    "    def __init__(self, vocab_size, emb_size ,dropout=0.1,train=True):\n",
    "\n",
    "        super().__init__()\n",
    "\n",
    "        self.token_embedding = TokenEmbedding( vocab_size,emb_size )\n",
    "        self.positional_encoding = PositionalEncoding(emb_size,dropout)\n",
    "        self.segment_embedding = nn.Embedding(3, emb_size)\n",
    "        self.dropout = torch.nn.Dropout(p=dropout)\n",
    "\n",
    "    def forward(self, bert_inputs, segment_labels=False):\n",
    "        my_embeddings=self.token_embedding(bert_inputs)\n",
    "        if self.train:\n",
    "          x = self.dropout(my_embeddings + self.positional_encoding(my_embeddings) + self.segment_embedding(segment_labels))\n",
    "        else:\n",
    "          x = my_embeddings + self.positional_encoding(my_embeddings)\n",
    "\n",
    "        return x"
   ]
  },
  {
   "cell_type": "markdown",
   "id": "545d10f3-5ad4-4e0e-9736-abb1ff4d476a",
   "metadata": {},
   "source": [
    "Now, define a complete BERT model with the following key components:\n",
    "\n",
    "1. Initialization: The `BERT` class is defined as a subclass of `torch.nn.Module`. It initializes the BERT model with parameters such as vocabulary size, model dimension, number of layers, number of attention heads, and dropout rate.\n",
    "\n",
    "2. Embedding Layer: The BERT model includes an embedding layer that combines token embeddings and segment embeddings using the `BERTEmbedding` class.\n",
    "\n",
    "3. Transformer Encoder: Transformer Encoder layers are used to encode the input embeddings. The number of layers, attention heads, dropout rate, and model dimension are specified based on the defined parameters.\n",
    "\n",
    "4. Next Sentence Prediction: The model has a linear layer for Next Sentence Prediction. It takes the output from the Transformer encoder and predicts the relationship between two consecutive sentences, classifying them into two classes.\n",
    "\n",
    "5. Masked Language Modeling: The model also includes a linear layer for Masked Language Modeling. It predicts the masked tokens in the input sequence by taking the output from the Transformer encoder and making predictions across the vocabulary.\n",
    "\n",
    "6. Forward Pass: The `forward` method defines the forward pass of the BERT model. It takes input tokens (`bert_inputs`) and segment labels (`segment_labels`) and returns predictions for Next Sentence Prediction and Masked Language Modeling tasks.\n"
   ]
  },
  {
   "cell_type": "markdown",
   "id": "a7ab2c47-ba58-4304-b9be-3e44b804e3b6",
   "metadata": {},
   "source": [
    "Using an example input, let's break down the embedding into its three essential components: token embedding, positional encoding and segment embedding to comprehend the process:\n"
   ]
  },
  {
   "cell_type": "code",
   "execution_count": 10,
   "id": "1ae2db09-9214-49df-a644-e1031b048377",
   "metadata": {},
   "outputs": [],
   "source": [
    "VOCAB_SIZE=147161\n",
    "batch = 2\n",
    "count = 0\n",
    "device = torch.device(\"cuda\" if torch.cuda.is_available() else \"cpu\")\n",
    "# load sample batches from dataloader\n",
    "for batch in train_dataloader:\n",
    "    bert_inputs, bert_labels, segment_labels, is_nexts = [b.to(device) for b in batch]\n",
    "    count += 1\n",
    "    if count == 5:\n",
    "        break"
   ]
  },
  {
   "cell_type": "code",
   "execution_count": 11,
   "id": "be1c4752-9f26-483f-91b3-27a8c2e85e29",
   "metadata": {},
   "outputs": [
    {
     "data": {
      "text/plain": [
       "torch.Size([60, 2])"
      ]
     },
     "execution_count": 11,
     "metadata": {},
     "output_type": "execute_result"
    }
   ],
   "source": [
    "bert_inputs.shape"
   ]
  },
  {
   "cell_type": "code",
   "execution_count": 12,
   "id": "c115df67-64a9-4ab3-ada6-aecd0e20acc8",
   "metadata": {},
   "outputs": [
    {
     "data": {
      "text/plain": [
       "tensor([    1,    31,   157, 11304,     7,    14,     3,  6550,     6,     2,\n",
       "            8,    14,    13,     3,   122,   746,     6,     2,     0,     0,\n",
       "            0,     0,     0,     0,     0,     0,     0,     0,     0,     0,\n",
       "            0,     0,     0,     0,     0,     0,     0,     0,     0,     0,\n",
       "            0,     0,     0,     0,     0,     0,     0,     0,     0,     0,\n",
       "            0,     0,     0,     0,     0,     0,     0,     0,     0,     0],\n",
       "       device='cuda:0')"
      ]
     },
     "execution_count": 12,
     "metadata": {},
     "output_type": "execute_result"
    }
   ],
   "source": [
    "#pick a sample input\n",
    "bert_inputs[:,0]"
   ]
  },
  {
   "cell_type": "code",
   "execution_count": 13,
   "id": "adeac1b3-9755-44ec-bca5-931d94d1015f",
   "metadata": {},
   "outputs": [
    {
     "data": {
      "text/plain": [
       "torch.Size([60, 2])"
      ]
     },
     "execution_count": 13,
     "metadata": {},
     "output_type": "execute_result"
    }
   ],
   "source": [
    "segment_labels.shape"
   ]
  },
  {
   "cell_type": "code",
   "execution_count": 14,
   "id": "e249c4f2-eff8-4802-a4b5-0f18e5f7d771",
   "metadata": {},
   "outputs": [
    {
     "data": {
      "text/plain": [
       "tensor([1, 1, 1, 1, 1, 1, 1, 1, 1, 1, 2, 2, 2, 2, 2, 2, 2, 2, 0, 0, 0, 0, 0, 0,\n",
       "        0, 0, 0, 0, 0, 0, 0, 0, 0, 0, 0, 0, 0, 0, 0, 0, 0, 0, 0, 0, 0, 0, 0, 0,\n",
       "        0, 0, 0, 0, 0, 0, 0, 0, 0, 0, 0, 0], device='cuda:0')"
      ]
     },
     "execution_count": 14,
     "metadata": {},
     "output_type": "execute_result"
    }
   ],
   "source": [
    "segment_labels[:,0]"
   ]
  },
  {
   "cell_type": "code",
   "execution_count": 15,
   "id": "c651eca8-fc80-4661-a8dc-60e89f321ee3",
   "metadata": {},
   "outputs": [
    {
     "name": "stdout",
     "output_type": "stream",
     "text": [
      "Dimensions of token embeddings: torch.Size([60, 2, 10])\n",
      "Token Embeddings for the 0th token of the first sample: tensor([ 1.2776, -3.0800, -3.3784,  2.9617,  2.9614,  1.4439,  1.7904, -2.1559,\n",
      "         0.3170,  2.0107], device='cuda:0', grad_fn=<SliceBackward0>)\n",
      "Token Embeddings for the 1th token of the first sample: tensor([-4.8593, -5.1556, -5.0008,  1.1087,  2.5178, -1.8125, -4.6906, -4.3849,\n",
      "        -4.2833, -1.3366], device='cuda:0', grad_fn=<SliceBackward0>)\n",
      "Token Embeddings for the 2th token of the first sample: tensor([ 4.5338,  1.3271,  5.3752,  2.3734,  2.5370,  0.3722, -3.7133,  0.1931,\n",
      "        -4.1369, -1.2782], device='cuda:0', grad_fn=<SliceBackward0>)\n"
     ]
    }
   ],
   "source": [
    "# Instantiate the TokenEmbedding \n",
    "token_embedding = TokenEmbedding(VOCAB_SIZE, emb_size=EMBEDDING_DIM).cuda()\n",
    "\n",
    "# Get the token embeddings for a sample input\n",
    "t_embeddings = token_embedding(bert_inputs)\n",
    "#Each token is transformed into a tensor of size emb_size\n",
    "print(f\"Dimensions of token embeddings: {t_embeddings.size()}\") # Expected: (sequence_length, batch_size, EMBEDDING_DIM)\n",
    "#Check the embedded vectors for first 3 tokens of the first sample in the batch\n",
    "# you get embeddings[i,0,:] where i refers to the i'th token of the first sample in the batch (b=0)\n",
    "for i in range(3):\n",
    "    print(f\"Token Embeddings for the {i}th token of the first sample: {t_embeddings[i,0,:]}\")"
   ]
  },
  {
   "cell_type": "code",
   "execution_count": 16,
   "id": "f83014cb-a0a3-4368-b704-ea7c9197b5ef",
   "metadata": {},
   "outputs": [
    {
     "name": "stdout",
     "output_type": "stream",
     "text": [
      "Dimensions of positionally encoded tokens: torch.Size([60, 2, 10])\n",
      "Positional Embeddings for the 0th token of the first sample: tensor([ 1.2776, -2.0800, -3.3784,  3.9617,  2.9614,  2.4439,  1.7904, -1.1559,\n",
      "         0.3170,  3.0107], device='cuda:0', grad_fn=<SliceBackward0>)\n",
      "Positional Embeddings for the 1th token of the first sample: tensor([-4.0178, -4.6153, -4.8430,  2.0962,  2.5429, -0.8128, -4.6866, -3.3849,\n",
      "        -4.2826, -0.3366], device='cuda:0', grad_fn=<SliceBackward0>)\n",
      "Positional Embeddings for the 2th token of the first sample: tensor([ 5.4431,  0.9110,  5.6869,  3.3235,  2.5872,  1.3709, -3.7053,  1.1930,\n",
      "        -4.1357, -0.2782], device='cuda:0', grad_fn=<SliceBackward0>)\n"
     ]
    }
   ],
   "source": [
    "positional_encoding = PositionalEncoding(emb_size=EMBEDDING_DIM,dropout=0).cuda()\n",
    "\n",
    "# Apply positional encoding to token embeddings\n",
    "p_embedding = positional_encoding(t_embeddings)\n",
    "\n",
    "print(f\"Dimensions of positionally encoded tokens: {p_embedding.size()}\")# Expected: (sequence_length, batch_size, EMBEDDING_DIM)\n",
    "#Check the positional encoded vectors for first 3 tokens of the first sample in the batch\n",
    "# you get encoded_tokens[i,0,:] where i refers to the i'th token of the first sample(b=0) in the batch \n",
    "for i in range(3):\n",
    "    print(f\"Positional Embeddings for the {i}th token of the first sample: {p_embedding[i,0,:]}\")"
   ]
  },
  {
   "cell_type": "code",
   "execution_count": 17,
   "id": "49469ea4-b10d-4b8d-9945-1c64450f0132",
   "metadata": {},
   "outputs": [
    {
     "name": "stdout",
     "output_type": "stream",
     "text": [
      "Dimensions of segment embedding: torch.Size([60, 2, 10])\n",
      "Segment Embeddings for the 0th token of the first sample: tensor([ 0.5424,  2.8444,  1.7828, -0.5958,  0.0182,  1.1177,  1.3373, -2.1812,\n",
      "         2.4833,  0.8659], device='cuda:0', grad_fn=<SliceBackward0>)\n",
      "Segment Embeddings for the 1th token of the first sample: tensor([ 0.5424,  2.8444,  1.7828, -0.5958,  0.0182,  1.1177,  1.3373, -2.1812,\n",
      "         2.4833,  0.8659], device='cuda:0', grad_fn=<SliceBackward0>)\n",
      "Segment Embeddings for the 2th token of the first sample: tensor([ 0.5424,  2.8444,  1.7828, -0.5958,  0.0182,  1.1177,  1.3373, -2.1812,\n",
      "         2.4833,  0.8659], device='cuda:0', grad_fn=<SliceBackward0>)\n"
     ]
    }
   ],
   "source": [
    "segment_embedding = nn.Embedding(3, EMBEDDING_DIM).cuda()\n",
    "s_embedding = segment_embedding(segment_labels)\n",
    "print(f\"Dimensions of segment embedding: {s_embedding.size()}\")# Expected: (sequence_length, batch_size, EMBEDDING_DIM)\n",
    "#Check the Segment Embedding vectors for first 3 tokens of the first sample in the batch\n",
    "# you get segment_embedded[i,0,:] where i refers to the i'th token of the first sample(b=0) in the batch \n",
    "for i in range(3):\n",
    "    print(f\"Segment Embeddings for the {i}th token of the first sample: {s_embedding[i,0,:]}\")"
   ]
  },
  {
   "cell_type": "code",
   "execution_count": 18,
   "id": "f584430f-02ac-49ad-8252-a741eecbe5db",
   "metadata": {},
   "outputs": [
    {
     "name": "stdout",
     "output_type": "stream",
     "text": [
      "Dimensions of token + position + segment encoded tokens: torch.Size([60, 2, 10])\n",
      "BERT_Embedding for 0th token: tensor([ 3.0976, -2.3156, -4.9740,  6.3275,  5.9410,  5.0055,  4.9181, -5.4930,\n",
      "         3.1174,  5.8873], device='cuda:0', grad_fn=<SliceBackward0>)\n",
      "BERT_Embedding for 1th token: tensor([-8.3347, -6.9264, -8.0610,  2.6091,  5.0790, -1.5076, -8.0400, -9.9511,\n",
      "        -6.0826, -0.8073], device='cuda:0', grad_fn=<SliceBackward0>)\n",
      "BERT_Embedding for 2th token: tensor([10.5194,  5.0824, 12.8450,  5.1011,  5.1424,  2.8608, -6.0813, -0.7951,\n",
      "        -5.7893, -0.6906], device='cuda:0', grad_fn=<SliceBackward0>)\n"
     ]
    }
   ],
   "source": [
    "#Create the combined embedding vectors\n",
    "bert_embeddings = t_embeddings + p_embedding + s_embedding\n",
    "print(f\"Dimensions of token + position + segment encoded tokens: {bert_embeddings.size()}\")\n",
    "#Check the BERT Embedding vectors for first 3 tokens of the first sample in the batch\n",
    "# you get bert_embeddings[i,0,:] where i refers to the i'th token of the first sample(b=0) in the batch \n",
    "for i in range(3):\n",
    "    print(f\"BERT_Embedding for {i}th token: {bert_embeddings[i,0,:]}\")"
   ]
  },
  {
   "cell_type": "code",
   "execution_count": 19,
   "id": "a3b45809-fc15-4afb-b845-9aadc70d7db2",
   "metadata": {},
   "outputs": [],
   "source": [
    "class BERT(torch.nn.Module):\n",
    "    \n",
    "    def __init__(self, vocab_size, d_model=768, n_layers=12, heads=12, dropout=0.1):\n",
    "        \"\"\"\n",
    "        vocab_size: The size of the vocabulary.\n",
    "        d_model: The size of the embeddings (hidden size).\n",
    "        n_layers: The number of Transformer layers.\n",
    "        heads: The number of attention heads in each Transformer layer.\n",
    "        dropout: The dropout rate applied to embeddings and Transformer layers.\n",
    "        \"\"\"\n",
    "        super().__init__()\n",
    "        self.d_model = d_model\n",
    "        self.n_layers = n_layers\n",
    "        self.heads = heads\n",
    "\n",
    "        # Embedding layer that combines token embeddings and segment embeddings\n",
    "        self.bert_embedding = BERTEmbedding(vocab_size, d_model, dropout)\n",
    "\n",
    "        # Transformer Encoder layers\n",
    "        self.encoder_layer = nn.TransformerEncoderLayer(d_model=d_model, nhead=heads, dropout=dropout,batch_first=False)\n",
    "        self.transformer_encoder = nn.TransformerEncoder(self.encoder_layer, num_layers=n_layers)\n",
    "\n",
    "        # Linear layer for Next Sentence Prediction\n",
    "        self.nextsentenceprediction = nn.Linear(d_model, 2)\n",
    "\n",
    "        # Linear layer for Masked Language Modeling\n",
    "        self.masked_language = nn.Linear(d_model, vocab_size)\n",
    "\n",
    "    def forward(self, bert_inputs, segment_labels):\n",
    "        \"\"\"\n",
    "        bert_inputs: Input tokens.\n",
    "        segment_labels: Segment IDs for distinguishing different segments in the input.\n",
    "        mask: Attention mask to prevent attention to padding tokens.\n",
    "\n",
    "        return: Predictions for next sentence task and masked language modeling task.\n",
    "        \"\"\"\n",
    "\n",
    "        padding_mask = (bert_inputs == PAD_IDX).transpose(0, 1)\n",
    "        # Generate embeddings from input tokens and segment labels\n",
    "        my_bert_embedding = self.bert_embedding(bert_inputs, segment_labels)\n",
    "\n",
    "        # Pass embeddings through the Transformer encoder\n",
    "        transformer_encoder_output = self.transformer_encoder(my_bert_embedding,src_key_padding_mask=padding_mask)\n",
    "\n",
    "\n",
    "        next_sentence_prediction = self.nextsentenceprediction(transformer_encoder_output[ 0,:])\n",
    "        \n",
    "\n",
    "        # Masked Language Modeling: Predict all tokens in the sequence\n",
    "        masked_language = self.masked_language(transformer_encoder_output)\n",
    "\n",
    "        return  next_sentence_prediction, masked_language"
   ]
  },
  {
   "cell_type": "markdown",
   "id": "d954ef1e-8c59-4955-ac41-20f467982620",
   "metadata": {},
   "source": [
    "Let's create an instance of the model:\n"
   ]
  },
  {
   "cell_type": "code",
   "execution_count": 20,
   "id": "70637ae0-9ee7-48fd-be44-fd7a0ad46cd3",
   "metadata": {},
   "outputs": [],
   "source": [
    "EMBEDDING_DIM = 10\n",
    "\n",
    "# Define parameters\n",
    "vocab_size = 147161  # Replace VOCAB_SIZE with your vocabulary size\n",
    "d_model = EMBEDDING_DIM  # Replace EMBEDDING_DIM with your embedding dimension\n",
    "n_layers = 2  # Number of Transformer layers\n",
    "initial_heads = 12 # Initial number of attention heads\n",
    "initial_heads = 2\n",
    "# Ensure the number of heads is a factor of the embedding dimension\n",
    "heads = initial_heads - d_model % initial_heads\n",
    "\n",
    "dropout = 0.1  # Dropout rate\n",
    "\n",
    "# Create an instance of the BERT model\n",
    "model = BERT(vocab_size, d_model, n_layers, heads, dropout)"
   ]
  },
  {
   "cell_type": "code",
   "execution_count": 21,
   "id": "f35b01ab-3efb-49df-afa8-bc1ded1c34ef",
   "metadata": {},
   "outputs": [
    {
     "data": {
      "text/plain": [
       "torch.Size([2, 60])"
      ]
     },
     "execution_count": 21,
     "metadata": {},
     "output_type": "execute_result"
    }
   ],
   "source": [
    "padding_mask = (bert_inputs == PAD_IDX).transpose(0, 1)\n",
    "padding_mask.shape"
   ]
  },
  {
   "cell_type": "code",
   "execution_count": 22,
   "id": "3009af35-9bbf-4cdc-a019-74e7588f7b6b",
   "metadata": {},
   "outputs": [
    {
     "data": {
      "text/plain": [
       "torch.Size([60, 2, 10])"
      ]
     },
     "execution_count": 22,
     "metadata": {},
     "output_type": "execute_result"
    }
   ],
   "source": [
    "encoder_layer = nn.TransformerEncoderLayer(d_model=d_model, nhead=heads, dropout=dropout,batch_first=False).cuda()\n",
    "transformer_encoder = nn.TransformerEncoder(encoder_layer, num_layers=n_layers).cuda()\n",
    "# Pass embeddings through the Transformer encoder\n",
    "transformer_encoder_output = transformer_encoder(bert_embeddings,src_key_padding_mask=padding_mask)\n",
    "transformer_encoder_output.shape"
   ]
  },
  {
   "cell_type": "code",
   "execution_count": 23,
   "id": "68ad1a54-dcf3-4304-9893-b4d56943a687",
   "metadata": {},
   "outputs": [
    {
     "name": "stdout",
     "output_type": "stream",
     "text": [
      "NSP Output Shape: torch.Size([2, 2])\n"
     ]
    }
   ],
   "source": [
    "nextsentenceprediction = nn.Linear(d_model, 2).cuda()\n",
    "nsp = nextsentenceprediction(transformer_encoder_output[ 0,:])\n",
    "#logits for NSP task\n",
    "print(f\"NSP Output Shape: {nsp.shape}\")  # Expected shape: (batch_size, 2)"
   ]
  },
  {
   "cell_type": "code",
   "execution_count": 24,
   "id": "cb03c2fa-fdaf-4211-9f90-7c5d930c9ebf",
   "metadata": {},
   "outputs": [
    {
     "name": "stdout",
     "output_type": "stream",
     "text": [
      "MLM Output Shape: torch.Size([60, 2, 147161])\n"
     ]
    }
   ],
   "source": [
    "masked_language = nn.Linear(d_model, vocab_size).cuda()\n",
    "# Masked Language Modeling: Predict all tokens in the sequence\n",
    "mlm = masked_language(transformer_encoder_output)\n",
    "#logits for MLM task\n",
    "print(f\"MLM Output Shape: {mlm.shape}\")  # Expected shape: (seq_length, batch_size, vocab_size)"
   ]
  },
  {
   "cell_type": "markdown",
   "id": "5c29c1bf-c18f-4ebd-9389-2b5e2e42491a",
   "metadata": {},
   "source": [
    "## Evaluation\n",
    "\n",
    "After creating the BERT model, the next step is training and evaluating its performance. To facilitate this, an `evaluate` function is defined with the following steps:\n",
    "\n",
    "1. Loss Function: The CrossEntropyLoss function is defined to calculate the loss between predicted and actual values.\n",
    "\n",
    "2. Function Arguments: The function takes arguments including the dataloader, model, loss function, and device.\n",
    "\n",
    "3. Evaluation Mode: The BERT model is put into evaluation mode using `model.eval()`, disabling dropout and training-specific behaviors. Variables are initialized to track the total loss, total next sentence loss, total mask loss, and total number of batches.\n",
    "\n",
    "4. Evaluation Loop: The function iterates through the batches in the provided dataloader.\n",
    "\n",
    "5. Forward Pass: A forward pass is performed with the BERT model to obtain predictions for the next sentence and masked language tasks.\n",
    "\n",
    "6. Loss Calculation: The losses for the next sentence and masked language tasks are calculated, and then summed up to obtain the total loss for the batch.\n",
    "\n",
    "7. Average Loss Calculation: The average loss, average next sentence loss, and average mask loss are calculated by dividing the total losses by the total number of batches.\n",
    "\n",
    "\n",
    "The `evaluate` function is used not only for evaluating the BERT model's performance but also during the training phase to assess the model's progress.\n"
   ]
  },
  {
   "cell_type": "code",
   "execution_count": 25,
   "id": "97d4a4d6-c319-41db-b342-cc52f65e1870",
   "metadata": {},
   "outputs": [],
   "source": [
    "PAD_IDX=0\n",
    "loss_fn_mlm = nn.CrossEntropyLoss(ignore_index=PAD_IDX)# The loss function must ignore PAD tokens and only calculates loss for the masked tokens\n",
    "loss_fn_nsp = nn.CrossEntropyLoss()"
   ]
  },
  {
   "cell_type": "code",
   "execution_count": 26,
   "id": "ce8c4dd3-2ab0-41be-b818-e945f849e15c",
   "metadata": {},
   "outputs": [
    {
     "data": {
      "text/plain": [
       "device(type='cuda')"
      ]
     },
     "execution_count": 26,
     "metadata": {},
     "output_type": "execute_result"
    }
   ],
   "source": [
    "device = torch.device(\"cuda\" if torch.cuda.is_available() else \"cpu\")\n",
    "model.to(device)\n",
    "device"
   ]
  },
  {
   "cell_type": "code",
   "execution_count": 27,
   "id": "00323ccc-e9fd-48a8-9760-d102f3a87fa2",
   "metadata": {},
   "outputs": [],
   "source": [
    "def evaluate(dataloader=test_dataloader, model=model, loss_fn_mlm=loss_fn_mlm, loss_fn_nsp=loss_fn_nsp, device=device):\n",
    "    model.eval()  # Turn off dropout and other training-specific behaviors\n",
    "\n",
    "    total_loss = 0\n",
    "    total_next_sentence_loss = 0\n",
    "    total_mask_loss = 0\n",
    "    total_batches = 0\n",
    "    with torch.no_grad():  # Turn off gradients for validation, saves memory and computations\n",
    "        for batch in dataloader:\n",
    "            bert_inputs, bert_labels, segment_labels, is_nexts = [b.to(device) for b in batch]\n",
    "\n",
    "            # Forward pass\n",
    "            next_sentence_prediction, masked_language = model(bert_inputs, segment_labels)\n",
    "\n",
    "            # Calculate loss for next sentence prediction\n",
    "            # Ensure is_nexts is of the correct shape for CrossEntropyLoss\n",
    "            next_loss = loss_fn_nsp(next_sentence_prediction, is_nexts.view(-1))\n",
    "\n",
    "            # Calculate loss for predicting masked tokens\n",
    "            # Flatten both masked_language predictions and bert_labels to match CrossEntropyLoss input requirements\n",
    "            mask_loss = loss_fn_mlm(masked_language.view(-1, masked_language.size(-1)), bert_labels.view(-1))\n",
    "\n",
    "            # Sum up the two losses\n",
    "            loss = next_loss + mask_loss\n",
    "            if torch.isnan(loss):\n",
    "                continue\n",
    "            else:\n",
    "                total_loss += loss.item()\n",
    "                total_next_sentence_loss += next_loss.item()\n",
    "                total_mask_loss += mask_loss.item()\n",
    "                total_batches += 1\n",
    "\n",
    "    avg_loss = total_loss / (total_batches + 1)\n",
    "    avg_next_sentence_loss = total_next_sentence_loss / (total_batches + 1)\n",
    "    avg_mask_loss = total_mask_loss / (total_batches + 1)\n",
    "\n",
    "    print(f\"Average Loss: {avg_loss:.4f}, Average Next Sentence Loss: {avg_next_sentence_loss:.4f}, Average Mask Loss: {avg_mask_loss:.4f}\")\n",
    "    return avg_loss"
   ]
  },
  {
   "cell_type": "markdown",
   "id": "c48e13a8-b3b0-4485-8630-b16763e2abe2",
   "metadata": {},
   "source": [
    "## Training\n",
    "The training process for the BERT model involves the following steps:\n",
    "\n",
    "1. Optimizer Definition: Before training starts, an optimizer is defined for training the BERT model. In this case, the Adam optimizer is used.\n",
    "\n",
    "2. Training Loop: Within each epoch, the training data is iterated through in batches.\n",
    "\n",
    "3. Forward Pass: For each batch, a forward pass is performed, where the BERT model predicts the next sentence and masked language tasks.\n",
    "\n",
    "4. Loss Calculation and Parameter Update: The loss is calculated based on the predicted and actual values. The model's parameters are then updated through backpropagation and gradient clipping.\n",
    "\n",
    "5. Epoch Evaluation: After each epoch, the average training loss is printed. The model's performance on the test set is evaluated. Additionally, the model is saved after each epoch.\n",
    "\n",
    "These steps are repeated for multiple epochs to train the BERT model and monitor its progress over time.\n",
    "\n",
    "**NOTE: The current DataLoader is quite huge, and it will take several hours for the model to train with such a huge dataset. Hence, below is the randomly sampled dataset (which is relatively small which still takes 1-2 hours to run) from IMDB to make the process faster. If you want to train the model on the entire dataset, skip the next cell and directly run the training cell.**\n"
   ]
  },
  {
   "cell_type": "code",
   "execution_count": 28,
   "id": "c51c62ae-8d90-4d2a-9469-26aaa181617d",
   "metadata": {},
   "outputs": [],
   "source": [
    "BATCH_SIZE = 3\n",
    "\n",
    "train_dataset_path = './bert_dataset/bert_train_data_sampled.csv'\n",
    "test_dataset_path = './bert_dataset/bert_test_data_sampled.csv'\n",
    "\n",
    "train_dataset = BERTCSVDataset(train_dataset_path)\n",
    "test_dataset = BERTCSVDataset(test_dataset_path)\n",
    "\n",
    "train_dataloader = DataLoader(train_dataset, batch_size=BATCH_SIZE, shuffle=True, collate_fn=collate_batch)\n",
    "test_dataloader = DataLoader(test_dataset, batch_size=BATCH_SIZE, shuffle=False, collate_fn=collate_batch)"
   ]
  },
  {
   "cell_type": "code",
   "execution_count": 29,
   "id": "134fe946-da30-46a3-935b-9ebff99185eb",
   "metadata": {},
   "outputs": [
    {
     "name": "stderr",
     "output_type": "stream",
     "text": [
      "Epoch 1: 100%|██████████| 3334/3334 [01:03<00:00, 52.72it/s]\n"
     ]
    },
    {
     "name": "stdout",
     "output_type": "stream",
     "text": [
      "Epoch 1 - Average training loss: 26.3286\n"
     ]
    },
    {
     "name": "stderr",
     "output_type": "stream",
     "text": [
      "Training Epochs:   3%|▎         | 1/30 [01:24<40:43, 84.24s/it]"
     ]
    },
    {
     "name": "stdout",
     "output_type": "stream",
     "text": [
      "Average Loss: 12.9985, Average Next Sentence Loss: 0.6660, Average Mask Loss: 12.3325\n"
     ]
    },
    {
     "name": "stderr",
     "output_type": "stream",
     "text": [
      "Epoch 2: 100%|██████████| 3334/3334 [01:04<00:00, 51.98it/s]\n"
     ]
    },
    {
     "name": "stdout",
     "output_type": "stream",
     "text": [
      "Epoch 2 - Average training loss: 25.7123\n"
     ]
    },
    {
     "name": "stderr",
     "output_type": "stream",
     "text": [
      "Training Epochs:   7%|▋         | 2/30 [02:50<39:45, 85.20s/it]"
     ]
    },
    {
     "name": "stdout",
     "output_type": "stream",
     "text": [
      "Average Loss: 12.6429, Average Next Sentence Loss: 0.6355, Average Mask Loss: 12.0074\n"
     ]
    },
    {
     "name": "stderr",
     "output_type": "stream",
     "text": [
      "Epoch 3: 100%|██████████| 3334/3334 [01:04<00:00, 51.98it/s]\n"
     ]
    },
    {
     "name": "stdout",
     "output_type": "stream",
     "text": [
      "Epoch 3 - Average training loss: 24.6050\n"
     ]
    },
    {
     "name": "stderr",
     "output_type": "stream",
     "text": [
      "Training Epochs:  10%|█         | 3/30 [04:15<38:23, 85.33s/it]"
     ]
    },
    {
     "name": "stdout",
     "output_type": "stream",
     "text": [
      "Average Loss: 12.5139, Average Next Sentence Loss: 0.7439, Average Mask Loss: 11.7700\n"
     ]
    },
    {
     "name": "stderr",
     "output_type": "stream",
     "text": [
      "Epoch 4: 100%|██████████| 3334/3334 [01:04<00:00, 51.80it/s]\n"
     ]
    },
    {
     "name": "stdout",
     "output_type": "stream",
     "text": [
      "Epoch 4 - Average training loss: 22.7379\n"
     ]
    },
    {
     "name": "stderr",
     "output_type": "stream",
     "text": [
      "Training Epochs:  13%|█▎        | 4/30 [05:40<36:58, 85.34s/it]"
     ]
    },
    {
     "name": "stdout",
     "output_type": "stream",
     "text": [
      "Average Loss: 12.4591, Average Next Sentence Loss: 0.6804, Average Mask Loss: 11.7787\n"
     ]
    },
    {
     "name": "stderr",
     "output_type": "stream",
     "text": [
      "Epoch 5: 100%|██████████| 3334/3334 [01:02<00:00, 53.35it/s]\n"
     ]
    },
    {
     "name": "stdout",
     "output_type": "stream",
     "text": [
      "Epoch 5 - Average training loss: 21.7501\n"
     ]
    },
    {
     "name": "stderr",
     "output_type": "stream",
     "text": [
      "Training Epochs:  17%|█▋        | 5/30 [07:04<35:13, 84.54s/it]"
     ]
    },
    {
     "name": "stdout",
     "output_type": "stream",
     "text": [
      "Average Loss: 12.5694, Average Next Sentence Loss: 0.7435, Average Mask Loss: 11.8259\n"
     ]
    },
    {
     "name": "stderr",
     "output_type": "stream",
     "text": [
      "Epoch 6: 100%|██████████| 3334/3334 [01:01<00:00, 53.91it/s]\n"
     ]
    },
    {
     "name": "stdout",
     "output_type": "stream",
     "text": [
      "Epoch 6 - Average training loss: 21.3764\n"
     ]
    },
    {
     "name": "stderr",
     "output_type": "stream",
     "text": [
      "Training Epochs:  20%|██        | 6/30 [08:26<33:34, 83.92s/it]"
     ]
    },
    {
     "name": "stdout",
     "output_type": "stream",
     "text": [
      "Average Loss: 12.5898, Average Next Sentence Loss: 0.7450, Average Mask Loss: 11.8447\n"
     ]
    },
    {
     "name": "stderr",
     "output_type": "stream",
     "text": [
      "Epoch 7: 100%|██████████| 3334/3334 [01:01<00:00, 54.39it/s]\n"
     ]
    },
    {
     "name": "stdout",
     "output_type": "stream",
     "text": [
      "Epoch 7 - Average training loss: 21.2055\n"
     ]
    },
    {
     "name": "stderr",
     "output_type": "stream",
     "text": [
      "Training Epochs:  23%|██▎       | 7/30 [09:48<31:56, 83.32s/it]"
     ]
    },
    {
     "name": "stdout",
     "output_type": "stream",
     "text": [
      "Average Loss: 12.5907, Average Next Sentence Loss: 0.7384, Average Mask Loss: 11.8523\n"
     ]
    },
    {
     "name": "stderr",
     "output_type": "stream",
     "text": [
      "Epoch 8: 100%|██████████| 3334/3334 [01:02<00:00, 53.51it/s]\n"
     ]
    },
    {
     "name": "stdout",
     "output_type": "stream",
     "text": [
      "Epoch 8 - Average training loss: 21.1003\n"
     ]
    },
    {
     "name": "stderr",
     "output_type": "stream",
     "text": [
      "Training Epochs:  27%|██▋       | 8/30 [11:11<30:30, 83.19s/it]"
     ]
    },
    {
     "name": "stdout",
     "output_type": "stream",
     "text": [
      "Average Loss: 12.5688, Average Next Sentence Loss: 0.7099, Average Mask Loss: 11.8589\n"
     ]
    },
    {
     "name": "stderr",
     "output_type": "stream",
     "text": [
      "Epoch 9: 100%|██████████| 3334/3334 [01:02<00:00, 53.72it/s]\n"
     ]
    },
    {
     "name": "stdout",
     "output_type": "stream",
     "text": [
      "Epoch 9 - Average training loss: 21.0312\n"
     ]
    },
    {
     "name": "stderr",
     "output_type": "stream",
     "text": [
      "Training Epochs:  30%|███       | 9/30 [12:34<29:06, 83.17s/it]"
     ]
    },
    {
     "name": "stdout",
     "output_type": "stream",
     "text": [
      "Average Loss: 12.5895, Average Next Sentence Loss: 0.7327, Average Mask Loss: 11.8568\n"
     ]
    },
    {
     "name": "stderr",
     "output_type": "stream",
     "text": [
      "Epoch 10: 100%|██████████| 3334/3334 [01:01<00:00, 54.28it/s]\n"
     ]
    },
    {
     "name": "stdout",
     "output_type": "stream",
     "text": [
      "Epoch 10 - Average training loss: 20.9886\n"
     ]
    },
    {
     "name": "stderr",
     "output_type": "stream",
     "text": [
      "Training Epochs:  33%|███▎      | 10/30 [13:57<27:37, 82.90s/it]"
     ]
    },
    {
     "name": "stdout",
     "output_type": "stream",
     "text": [
      "Average Loss: 12.5746, Average Next Sentence Loss: 0.7149, Average Mask Loss: 11.8597\n"
     ]
    },
    {
     "name": "stderr",
     "output_type": "stream",
     "text": [
      "Epoch 11: 100%|██████████| 3334/3334 [01:01<00:00, 54.36it/s]\n"
     ]
    },
    {
     "name": "stdout",
     "output_type": "stream",
     "text": [
      "Epoch 11 - Average training loss: 20.9450\n"
     ]
    },
    {
     "name": "stderr",
     "output_type": "stream",
     "text": [
      "Training Epochs:  37%|███▋      | 11/30 [15:19<26:10, 82.64s/it]"
     ]
    },
    {
     "name": "stdout",
     "output_type": "stream",
     "text": [
      "Average Loss: 12.5831, Average Next Sentence Loss: 0.7216, Average Mask Loss: 11.8615\n"
     ]
    },
    {
     "name": "stderr",
     "output_type": "stream",
     "text": [
      "Epoch 12: 100%|██████████| 3334/3334 [01:03<00:00, 52.73it/s]\n"
     ]
    },
    {
     "name": "stdout",
     "output_type": "stream",
     "text": [
      "Epoch 12 - Average training loss: 20.9217\n"
     ]
    },
    {
     "name": "stderr",
     "output_type": "stream",
     "text": [
      "Training Epochs:  40%|████      | 12/30 [16:44<25:00, 83.37s/it]"
     ]
    },
    {
     "name": "stdout",
     "output_type": "stream",
     "text": [
      "Average Loss: 12.5649, Average Next Sentence Loss: 0.7016, Average Mask Loss: 11.8633\n"
     ]
    },
    {
     "name": "stderr",
     "output_type": "stream",
     "text": [
      "Epoch 13: 100%|██████████| 3334/3334 [01:02<00:00, 53.07it/s]\n"
     ]
    },
    {
     "name": "stdout",
     "output_type": "stream",
     "text": [
      "Epoch 13 - Average training loss: 20.8888\n"
     ]
    },
    {
     "name": "stderr",
     "output_type": "stream",
     "text": [
      "Training Epochs:  43%|████▎     | 13/30 [18:08<23:40, 83.57s/it]"
     ]
    },
    {
     "name": "stdout",
     "output_type": "stream",
     "text": [
      "Average Loss: 12.5423, Average Next Sentence Loss: 0.6813, Average Mask Loss: 11.8609\n"
     ]
    },
    {
     "name": "stderr",
     "output_type": "stream",
     "text": [
      "Epoch 14: 100%|██████████| 3334/3334 [01:01<00:00, 53.83it/s]\n"
     ]
    },
    {
     "name": "stdout",
     "output_type": "stream",
     "text": [
      "Epoch 14 - Average training loss: 20.8649\n"
     ]
    },
    {
     "name": "stderr",
     "output_type": "stream",
     "text": [
      "Training Epochs:  47%|████▋     | 14/30 [19:31<22:14, 83.43s/it]"
     ]
    },
    {
     "name": "stdout",
     "output_type": "stream",
     "text": [
      "Average Loss: 12.5379, Average Next Sentence Loss: 0.6774, Average Mask Loss: 11.8605\n"
     ]
    },
    {
     "name": "stderr",
     "output_type": "stream",
     "text": [
      "Epoch 15: 100%|██████████| 3334/3334 [01:05<00:00, 50.85it/s]\n"
     ]
    },
    {
     "name": "stdout",
     "output_type": "stream",
     "text": [
      "Epoch 15 - Average training loss: nan\n"
     ]
    },
    {
     "name": "stderr",
     "output_type": "stream",
     "text": [
      "Training Epochs:  50%|█████     | 15/30 [20:58<21:09, 84.60s/it]"
     ]
    },
    {
     "name": "stdout",
     "output_type": "stream",
     "text": [
      "Average Loss: 12.5575, Average Next Sentence Loss: 0.6928, Average Mask Loss: 11.8647\n"
     ]
    },
    {
     "name": "stderr",
     "output_type": "stream",
     "text": [
      "Epoch 16: 100%|██████████| 3334/3334 [01:05<00:00, 50.54it/s]\n"
     ]
    },
    {
     "name": "stdout",
     "output_type": "stream",
     "text": [
      "Epoch 16 - Average training loss: 20.8058\n"
     ]
    },
    {
     "name": "stderr",
     "output_type": "stream",
     "text": [
      "Training Epochs:  53%|█████▎    | 16/30 [22:26<19:58, 85.59s/it]"
     ]
    },
    {
     "name": "stdout",
     "output_type": "stream",
     "text": [
      "Average Loss: 12.5519, Average Next Sentence Loss: 0.6831, Average Mask Loss: 11.8688\n"
     ]
    },
    {
     "name": "stderr",
     "output_type": "stream",
     "text": [
      "Epoch 17: 100%|██████████| 3334/3334 [01:05<00:00, 50.60it/s]\n"
     ]
    },
    {
     "name": "stdout",
     "output_type": "stream",
     "text": [
      "Epoch 17 - Average training loss: 20.7929\n"
     ]
    },
    {
     "name": "stderr",
     "output_type": "stream",
     "text": [
      "Training Epochs:  57%|█████▋    | 17/30 [23:54<18:41, 86.24s/it]"
     ]
    },
    {
     "name": "stdout",
     "output_type": "stream",
     "text": [
      "Average Loss: 12.5737, Average Next Sentence Loss: 0.7029, Average Mask Loss: 11.8708\n"
     ]
    },
    {
     "name": "stderr",
     "output_type": "stream",
     "text": [
      "Epoch 18: 100%|██████████| 3334/3334 [01:05<00:00, 50.73it/s]\n"
     ]
    },
    {
     "name": "stdout",
     "output_type": "stream",
     "text": [
      "Epoch 18 - Average training loss: 20.7632\n"
     ]
    },
    {
     "name": "stderr",
     "output_type": "stream",
     "text": [
      "Training Epochs:  60%|██████    | 18/30 [25:21<17:17, 86.49s/it]"
     ]
    },
    {
     "name": "stdout",
     "output_type": "stream",
     "text": [
      "Average Loss: 12.5897, Average Next Sentence Loss: 0.7152, Average Mask Loss: 11.8744\n"
     ]
    },
    {
     "name": "stderr",
     "output_type": "stream",
     "text": [
      "Epoch 19: 100%|██████████| 3334/3334 [01:05<00:00, 50.72it/s]\n"
     ]
    },
    {
     "name": "stdout",
     "output_type": "stream",
     "text": [
      "Epoch 19 - Average training loss: 20.7500\n"
     ]
    },
    {
     "name": "stderr",
     "output_type": "stream",
     "text": [
      "Training Epochs:  63%|██████▎   | 19/30 [26:48<15:54, 86.80s/it]"
     ]
    },
    {
     "name": "stdout",
     "output_type": "stream",
     "text": [
      "Average Loss: 12.5555, Average Next Sentence Loss: 0.6792, Average Mask Loss: 11.8763\n"
     ]
    },
    {
     "name": "stderr",
     "output_type": "stream",
     "text": [
      "Epoch 20: 100%|██████████| 3334/3334 [01:06<00:00, 50.48it/s]\n"
     ]
    },
    {
     "name": "stdout",
     "output_type": "stream",
     "text": [
      "Epoch 20 - Average training loss: 20.7483\n"
     ]
    },
    {
     "name": "stderr",
     "output_type": "stream",
     "text": [
      "Training Epochs:  67%|██████▋   | 20/30 [28:16<14:30, 87.02s/it]"
     ]
    },
    {
     "name": "stdout",
     "output_type": "stream",
     "text": [
      "Average Loss: 12.5708, Average Next Sentence Loss: 0.6940, Average Mask Loss: 11.8768\n"
     ]
    },
    {
     "name": "stderr",
     "output_type": "stream",
     "text": [
      "Epoch 21: 100%|██████████| 3334/3334 [01:05<00:00, 50.63it/s]\n"
     ]
    },
    {
     "name": "stdout",
     "output_type": "stream",
     "text": [
      "Epoch 21 - Average training loss: 20.7412\n"
     ]
    },
    {
     "name": "stderr",
     "output_type": "stream",
     "text": [
      "Training Epochs:  70%|███████   | 21/30 [29:44<13:04, 87.21s/it]"
     ]
    },
    {
     "name": "stdout",
     "output_type": "stream",
     "text": [
      "Average Loss: 12.5866, Average Next Sentence Loss: 0.7083, Average Mask Loss: 11.8783\n"
     ]
    },
    {
     "name": "stderr",
     "output_type": "stream",
     "text": [
      "Epoch 22: 100%|██████████| 3334/3334 [01:05<00:00, 50.62it/s]\n"
     ]
    },
    {
     "name": "stdout",
     "output_type": "stream",
     "text": [
      "Epoch 22 - Average training loss: 20.7214\n"
     ]
    },
    {
     "name": "stderr",
     "output_type": "stream",
     "text": [
      "Training Epochs:  73%|███████▎  | 22/30 [31:11<11:39, 87.38s/it]"
     ]
    },
    {
     "name": "stdout",
     "output_type": "stream",
     "text": [
      "Average Loss: 12.5798, Average Next Sentence Loss: 0.6999, Average Mask Loss: 11.8799\n"
     ]
    },
    {
     "name": "stderr",
     "output_type": "stream",
     "text": [
      "Epoch 23: 100%|██████████| 3334/3334 [01:05<00:00, 50.73it/s]\n"
     ]
    },
    {
     "name": "stdout",
     "output_type": "stream",
     "text": [
      "Epoch 23 - Average training loss: 20.7318\n"
     ]
    },
    {
     "name": "stderr",
     "output_type": "stream",
     "text": [
      "Training Epochs:  77%|███████▋  | 23/30 [32:39<10:12, 87.45s/it]"
     ]
    },
    {
     "name": "stdout",
     "output_type": "stream",
     "text": [
      "Average Loss: 12.5828, Average Next Sentence Loss: 0.7064, Average Mask Loss: 11.8764\n"
     ]
    },
    {
     "name": "stderr",
     "output_type": "stream",
     "text": [
      "Epoch 24: 100%|██████████| 3334/3334 [01:07<00:00, 49.49it/s]\n"
     ]
    },
    {
     "name": "stdout",
     "output_type": "stream",
     "text": [
      "Epoch 24 - Average training loss: 20.7192\n"
     ]
    },
    {
     "name": "stderr",
     "output_type": "stream",
     "text": [
      "Training Epochs:  80%|████████  | 24/30 [34:08<08:47, 87.92s/it]"
     ]
    },
    {
     "name": "stdout",
     "output_type": "stream",
     "text": [
      "Average Loss: 12.5845, Average Next Sentence Loss: 0.7077, Average Mask Loss: 11.8767\n"
     ]
    },
    {
     "name": "stderr",
     "output_type": "stream",
     "text": [
      "Epoch 25: 100%|██████████| 3334/3334 [01:05<00:00, 50.82it/s]\n"
     ]
    },
    {
     "name": "stdout",
     "output_type": "stream",
     "text": [
      "Epoch 25 - Average training loss: 20.7175\n"
     ]
    },
    {
     "name": "stderr",
     "output_type": "stream",
     "text": [
      "Training Epochs:  83%|████████▎ | 25/30 [35:36<07:19, 87.83s/it]"
     ]
    },
    {
     "name": "stdout",
     "output_type": "stream",
     "text": [
      "Average Loss: 12.5771, Average Next Sentence Loss: 0.7042, Average Mask Loss: 11.8729\n"
     ]
    },
    {
     "name": "stderr",
     "output_type": "stream",
     "text": [
      "Epoch 26: 100%|██████████| 3334/3334 [01:05<00:00, 50.97it/s]\n"
     ]
    },
    {
     "name": "stdout",
     "output_type": "stream",
     "text": [
      "Epoch 26 - Average training loss: 20.7085\n"
     ]
    },
    {
     "name": "stderr",
     "output_type": "stream",
     "text": [
      "Training Epochs:  87%|████████▋ | 26/30 [37:04<05:51, 87.85s/it]"
     ]
    },
    {
     "name": "stdout",
     "output_type": "stream",
     "text": [
      "Average Loss: 12.5811, Average Next Sentence Loss: 0.7052, Average Mask Loss: 11.8759\n"
     ]
    },
    {
     "name": "stderr",
     "output_type": "stream",
     "text": [
      "Epoch 27: 100%|██████████| 3334/3334 [01:11<00:00, 46.77it/s]\n"
     ]
    },
    {
     "name": "stdout",
     "output_type": "stream",
     "text": [
      "Epoch 27 - Average training loss: 20.6957\n"
     ]
    },
    {
     "name": "stderr",
     "output_type": "stream",
     "text": [
      "Training Epochs:  90%|█████████ | 27/30 [38:38<04:29, 89.78s/it]"
     ]
    },
    {
     "name": "stdout",
     "output_type": "stream",
     "text": [
      "Average Loss: 12.5804, Average Next Sentence Loss: 0.7074, Average Mask Loss: 11.8730\n"
     ]
    },
    {
     "name": "stderr",
     "output_type": "stream",
     "text": [
      "Epoch 28: 100%|██████████| 3334/3334 [01:10<00:00, 47.50it/s]\n"
     ]
    },
    {
     "name": "stdout",
     "output_type": "stream",
     "text": [
      "Epoch 28 - Average training loss: 20.7054\n"
     ]
    },
    {
     "name": "stderr",
     "output_type": "stream",
     "text": [
      "Training Epochs:  93%|█████████▎| 28/30 [40:11<03:01, 90.71s/it]"
     ]
    },
    {
     "name": "stdout",
     "output_type": "stream",
     "text": [
      "Average Loss: 12.5837, Average Next Sentence Loss: 0.7099, Average Mask Loss: 11.8738\n"
     ]
    },
    {
     "name": "stderr",
     "output_type": "stream",
     "text": [
      "Epoch 29: 100%|██████████| 3334/3334 [01:10<00:00, 47.51it/s]\n"
     ]
    },
    {
     "name": "stdout",
     "output_type": "stream",
     "text": [
      "Epoch 29 - Average training loss: 20.7093\n"
     ]
    },
    {
     "name": "stderr",
     "output_type": "stream",
     "text": [
      "Training Epochs:  97%|█████████▋| 29/30 [41:44<01:31, 91.44s/it]"
     ]
    },
    {
     "name": "stdout",
     "output_type": "stream",
     "text": [
      "Average Loss: 12.5847, Average Next Sentence Loss: 0.7116, Average Mask Loss: 11.8731\n"
     ]
    },
    {
     "name": "stderr",
     "output_type": "stream",
     "text": [
      "Epoch 30: 100%|██████████| 3334/3334 [01:09<00:00, 47.88it/s]\n"
     ]
    },
    {
     "name": "stdout",
     "output_type": "stream",
     "text": [
      "Epoch 30 - Average training loss: 20.6957\n"
     ]
    },
    {
     "name": "stderr",
     "output_type": "stream",
     "text": [
      "Training Epochs: 100%|██████████| 30/30 [43:16<00:00, 86.56s/it]"
     ]
    },
    {
     "name": "stdout",
     "output_type": "stream",
     "text": [
      "Average Loss: 12.5851, Average Next Sentence Loss: 0.7122, Average Mask Loss: 11.8729\n"
     ]
    },
    {
     "name": "stderr",
     "output_type": "stream",
     "text": [
      "\n"
     ]
    }
   ],
   "source": [
    "# Define the optimizer\n",
    "optimizer = Adam(model.parameters(), lr=1e-4, weight_decay=0.01, betas=(0.9, 0.999))\n",
    "\n",
    "# Training loop setup\n",
    "num_epochs = 30\n",
    "total_steps = num_epochs * len(train_dataloader)\n",
    "\n",
    "# Define the number of warmup steps, e.g., 10% of total\n",
    "warmup_steps = int(total_steps * 0.1)\n",
    "\n",
    "# Create the learning rate scheduler\n",
    "scheduler = get_linear_schedule_with_warmup(optimizer,\n",
    "                                            num_warmup_steps=warmup_steps,\n",
    "                                            num_training_steps=total_steps)\n",
    "\n",
    "# Lists to store losses for plotting\n",
    "train_losses = []\n",
    "eval_losses = []\n",
    "\n",
    "for epoch in tqdm(range(num_epochs), desc=\"Training Epochs\"):\n",
    "    model.train()\n",
    "    total_loss = 0\n",
    "\n",
    "    for step, batch in enumerate(tqdm(train_dataloader, desc=f\"Epoch {epoch + 1}\")):\n",
    "        bert_inputs, bert_labels, segment_labels, is_nexts = [b.to(device) for b in batch]\n",
    "\n",
    "        optimizer.zero_grad()\n",
    "        next_sentence_prediction, masked_language = model(bert_inputs, segment_labels)\n",
    "\n",
    "        next_loss = loss_fn_nsp(next_sentence_prediction, is_nexts)\n",
    "        mask_loss = loss_fn_mlm(masked_language.view(-1, masked_language.size(-1)), bert_labels.view(-1))\n",
    "\n",
    "        loss = next_loss + mask_loss\n",
    "        loss.backward()\n",
    "        torch.nn.utils.clip_grad_norm_(model.parameters(), max_norm=1.0)\n",
    "        optimizer.step()\n",
    "        scheduler.step()  # Update the learning rate\n",
    "\n",
    "        total_loss += loss.item()\n",
    "\n",
    "        if torch.isnan(loss):\n",
    "            continue\n",
    "        else:\n",
    "            total_loss += loss.item()\n",
    "\n",
    "    avg_train_loss = total_loss / len(train_dataloader) + 1\n",
    "    train_losses.append(avg_train_loss)\n",
    "    print(f\"Epoch {epoch+1} - Average training loss: {avg_train_loss:.4f}\")\n",
    "\n",
    "    # Evaluation after each epoch\n",
    "    eval_loss = evaluate(test_dataloader, model, loss_fn_nsp, loss_fn_mlm, device)\n",
    "    eval_losses.append(eval_loss)"
   ]
  },
  {
   "cell_type": "markdown",
   "id": "34b7d0a4-8cb4-4fd3-9a67-5b79318657c8",
   "metadata": {},
   "source": [
    "**The below is a loss vs epoch plot, run the above code for more than one epoch to get a plot(currently the num_epochs is set to 1).**\n"
   ]
  },
  {
   "cell_type": "code",
   "execution_count": 30,
   "id": "b23b753d-bc34-432a-a80c-1323689aed2a",
   "metadata": {},
   "outputs": [
    {
     "data": {
      "image/png": "[encoded data removed]",
      "text/plain": [
       "<Figure size 600x400 with 1 Axes>"
      ]
     },
     "metadata": {},
     "output_type": "display_data"
    }
   ],
   "source": [
    "# Plotting the loss values\n",
    "plt.figure(figsize=(6, 4))\n",
    "plt.scatter(range(1,num_epochs+1), train_losses, label=\"Training Loss\", color='blue')\n",
    "plt.scatter(range(1,num_epochs+1), eval_losses, label=\"Evaluation Loss\", color='orange')\n",
    "plt.xlabel('Epoch')\n",
    "plt.ylabel('Loss')\n",
    "plt.title('Training and Evaluation Loss')\n",
    "plt.legend()\n",
    "plt.show()"
   ]
  },
  {
   "cell_type": "markdown",
   "id": "89c30cd5-dfa1-48e5-8e1f-e2109f72f534",
   "metadata": {},
   "source": [
    "## Inference\n",
    "Here you can load a model from a pt file that provide for your convenience.  So, If the model training on CPU takes too long, you can load this file and continue the lab.\n"
   ]
  },
  {
   "cell_type": "code",
   "execution_count": 31,
   "id": "3b666883-104d-4901-a622-d42389993ecc",
   "metadata": {},
   "outputs": [
    {
     "data": {
      "text/plain": [
       "\"model = BERT(vocab_size, d_model, n_layers, heads, dropout)  # Ensure these parameters match the original model's\\n!wget 'https://cf-courses-data.s3.us.cloud-object-storage.appdomain.cloud/H04Cs7O75aOfmJ4YP2HdPw.pt'\\nmodel.load_state_dict(torch.load('H04Cs7O75aOfmJ4YP2HdPw.pt',map_location=torch.device('cpu')))\\nmodel.to(device)\""
      ]
     },
     "execution_count": 31,
     "metadata": {},
     "output_type": "execute_result"
    }
   ],
   "source": [
    "'''model = BERT(vocab_size, d_model, n_layers, heads, dropout)  # Ensure these parameters match the original model's\n",
    "!wget 'https://cf-courses-data.s3.us.cloud-object-storage.appdomain.cloud/H04Cs7O75aOfmJ4YP2HdPw.pt'\n",
    "model.load_state_dict(torch.load('H04Cs7O75aOfmJ4YP2HdPw.pt',map_location=torch.device('cpu')))\n",
    "model.to(device)'''"
   ]
  },
  {
   "cell_type": "markdown",
   "id": "5c1d1bce-89b3-44a3-8c32-aae3ae6b954e",
   "metadata": {},
   "source": [
    "To evaluate the performance of a pretrained BERT model in predicting whether a second sentence follows the first, a function called `predict_nsp` is defined. The function operates as follows:\n",
    "\n",
    "1. Tokenization: The input sentences are tokenized using the `tokenizer.encode_plus` method, which returns a dictionary of tokenized inputs. These tokenized inputs are then converted into tensors and moved to the appropriate device for processing.\n",
    "\n",
    "2. Prediction: The BERT model is utilized to make predictions by passing the token and segment tensors as input.\n",
    "\n",
    "3. Logits Manipulation: The first element of the logits tensor is selected and unsqueezed to add an extra dimension, resulting in a shape of `[1, 2]`.\n",
    "\n",
    "4. Probability and Prediction: The logits are passed through a softmax function to obtain probabilities, and the prediction is obtained by taking the argmax.\n",
    "\n",
    "5. Result Interpretation: The prediction is interpreted and returned as a string, indicating whether the second sentence follows the first or not.\n",
    "\n",
    "6. Example Usage: An example usage of the `predict_nsp` function is provided, demonstrating how two example sentences can be passed to the function along with a BERT model and tokenizer. The result is printed, indicating whether the second sentence follows the first based on the model's prediction.\n",
    "\n",
    "By utilizing the `predict_nsp` function, the performance of the pretrained BERT model in determining the relationship between two sentences can be assessed.\n"
   ]
  },
  {
   "cell_type": "code",
   "execution_count": 32,
   "id": "f57fe373-70ca-40c7-9120-b0400a668a8a",
   "metadata": {},
   "outputs": [
    {
     "name": "stdout",
     "output_type": "stream",
     "text": [
      "Second sentence does not follow the first\n"
     ]
    }
   ],
   "source": [
    "# Initialize the tokenizer with the BERT model's vocabulary\n",
    "tokenizer = BertTokenizer.from_pretrained('bert-base-uncased')\n",
    "model.eval()\n",
    "\n",
    "def predict_nsp(sentence1, sentence2, model, tokenizer):\n",
    "    # Tokenize sentences with special tokens\n",
    "    tokens = tokenizer.encode_plus(sentence1, sentence2, return_tensors=\"pt\")\n",
    "    tokens_tensor = tokens[\"input_ids\"].to(device)\n",
    "    segment_tensor = tokens[\"token_type_ids\"].to(device)\n",
    "\n",
    "    # Predict\n",
    "    with torch.no_grad():\n",
    "        # Assuming the model returns NSP predictions first\n",
    "        nsp_prediction, _ = model(tokens_tensor, segment_tensor)\n",
    "        # Select the first element (first sequence) of the logits tensor\n",
    "        first_logits = nsp_prediction[0].unsqueeze(0)  # Adds an extra dimension, making it [1, 2]\n",
    "        logits = torch.softmax(first_logits, dim=1)\n",
    "        prediction = torch.argmax(logits, dim=1).item()\n",
    "\n",
    "    # Interpret the prediction\n",
    "    return \"Second sentence follows the first\" if prediction == 1 else \"Second sentence does not follow the first\"\n",
    "\n",
    "# Example usage\n",
    "sentence1 = \"The cat sat on the mat.\"\n",
    "sentence2 = \"It was a sunny day\"\n",
    "\n",
    "print(predict_nsp(sentence1, sentence2, model, tokenizer))"
   ]
  },
  {
   "cell_type": "markdown",
   "id": "6265c3db-a899-4cd7-aac4-cfabee8c53cd",
   "metadata": {},
   "source": [
    "A function is defined to perform Masked Language Modeling (MLM) using a pretrained BERT model. The function operates as follows:\n",
    "\n",
    "1. Tokenization: The input sentence is tokenized using the tokenizer and converted into token IDs, including the special tokens. The tokenized sentence is stored in the `tokens_tensor` variable.\n",
    "\n",
    "2. Segment Labels: Dummy segment labels filled with zeros are created and stored as `segment_labels`.\n",
    "\n",
    "3. Prediction: The BERT model is used to make predictions by passing the token tensor and segment labels as input. The MLM logits are extracted as `predictions`.\n",
    "\n",
    "4. Mask Token Index: The position of the [MASK] token is identified using the `nonzero` method and stored in the `mask_token_index` variable. Note that all tokens except the mask token are zero-padded.\n",
    "\n",
    "5. Predicted Index: The predicted index for the [MASK] token is obtained by taking the argmax of the MLM logits at the corresponding position.\n",
    "\n",
    "6. Token Conversion: The predicted index is converted back to a token using the `convert_ids_to_tokens` method of the tokenizer.\n",
    "\n",
    "7. Replaced Sentence: The original sentence is replaced with the predicted token at the position of the [MASK] token, resulting in the predicted sentence.\n"
   ]
  },
  {
   "cell_type": "code",
   "execution_count": 33,
   "id": "549badb8-b52f-43d5-97f5-4da85e82cc90",
   "metadata": {},
   "outputs": [
    {
     "name": "stdout",
     "output_type": "stream",
     "text": [
      "The cat sat on the [unused4].\n"
     ]
    }
   ],
   "source": [
    "def predict_mlm(sentence, model, tokenizer):\n",
    "    # Tokenize the input sentence and convert to token IDs, including special tokens\n",
    "    inputs = tokenizer(sentence, return_tensors=\"pt\")\n",
    "    tokens_tensor = inputs.input_ids.detach().to(device)\n",
    "\n",
    "    # Create dummy segment labels filled with zeros, assuming it's needed by your model\n",
    "    segment_labels = torch.zeros_like(tokens_tensor).to(device)\n",
    "\n",
    "    with torch.no_grad():\n",
    "        # Forward pass through the model, now correctly handling the output tuple\n",
    "        output_tuple = model(tokens_tensor, segment_labels)\n",
    "\n",
    "        # Assuming the second element of the tuple contains the MLM logits\n",
    "        predictions = output_tuple[1]  # Adjusted based on your model's output\n",
    "\n",
    "        # Identify the position of the [MASK] token\n",
    "        mask_token_index = (tokens_tensor == tokenizer.mask_token_id).nonzero(as_tuple=True)[1]\n",
    "\n",
    "        # Get the predicted index for the [MASK] token from the MLM logits\n",
    "        predicted_index = torch.argmax(predictions[0, mask_token_index.item(), :], dim=-1)\n",
    "        predicted_token = tokenizer.convert_ids_to_tokens([predicted_index.item()])[0]\n",
    "\n",
    "        # Replace [MASK] in the original sentence with the predicted token\n",
    "        predicted_sentence = sentence.replace(tokenizer.mask_token, predicted_token, 1)\n",
    "\n",
    "    return predicted_sentence\n",
    "\n",
    "\n",
    "# Example usage\n",
    "sentence = \"The cat sat on the [MASK].\"\n",
    "print(predict_mlm(sentence, model, tokenizer))"
   ]
  },
  {
   "cell_type": "markdown",
   "id": "b89e8cd6-ba64-4b00-9eb3-4ac337dbf4d4",
   "metadata": {},
   "source": [
    "Congratualtions! You've just learnt how to create a tiny BERT model and trained it for a few epochs. for the model to generate accurate result, you will need to train it on huge datasets for more epochs and maybe increase the model size.\n"
   ]
  },
  {
   "cell_type": "markdown",
   "id": "ecfc66c3-f2c5-4712-ad9e-202532f88e43",
   "metadata": {},
   "source": [
    "# Exercises\n",
    "Now you have preatined our own Baby BERT and evaluated it now to see the difference lets use a pretrained BERT model to predict for few examples as above. \n",
    "\n",
    "**Note: Since the actual BERT is trained with a lot more data and epochs, its performance should be much better than the model you just built.**\n"
   ]
  },
  {
   "cell_type": "markdown",
   "id": "03a7f7bb-0e3f-4376-9bb9-365b9eae9354",
   "metadata": {},
   "source": [
    "## Exercise 1: Next Sentence Prediction (NSP) with BERT\n",
    "\n",
    "1. **Load the BERT pretrained model**: Import `BertForPreTraining` and `BertTokenizer` from `transformers`, and load the 'bert-base-uncased' pretrained model and tokenizer.\n",
    "2. **Prepare text input**: Encode a pair of sentences using the loaded tokenizer.\n",
    "3. **Perform NSP**: Pass the encoded input through the model and interpret the `seq_relationship_logits` to determine if the model predicts the sentences as consecutive.\n"
   ]
  },
  {
   "cell_type": "code",
   "execution_count": 34,
   "id": "a92d6cbd-80f1-4538-9134-e74f0e1748f8",
   "metadata": {},
   "outputs": [
    {
     "name": "stdout",
     "output_type": "stream",
     "text": [
      "Second sentence does not follow the first\n"
     ]
    }
   ],
   "source": [
    "from transformers import BertForPreTraining, BertTokenizer\n",
    "import torch\n",
    "\n",
    "tokenizer = BertTokenizer.from_pretrained('bert-base-uncased')\n",
    "model = BertForPreTraining.from_pretrained('bert-base-uncased')\n",
    "\n",
    "sentence1 = \"The cat sat on the mat.\"\n",
    "sentence2 = \"It was a sunny day\"\n",
    "\n",
    "inputs = tokenizer(sentence1, sentence2, return_tensors=\"pt\")\n",
    "with torch.no_grad():\n",
    "    logits = model(**inputs).seq_relationship_logits\n",
    "    prediction = torch.argmax(logits, dim=-1).item()\n",
    "\n",
    "if prediction == 1:\n",
    "    print(\"Second sentence follows the first\")\n",
    "else:\n",
    "    print(\"Second sentence does not follow the first\")\n"
   ]
  },
  {
   "cell_type": "markdown",
   "id": "516690c5-ad1b-4b11-9752-a7b0ea92f023",
   "metadata": {},
   "source": [
    "<details>\n",
    "    <summary>Click here for Solution</summary>\n",
    "\n",
    "```python\n",
    "# Load pretrained model tokenizer (vocabulary)\n",
    "tokenizer = BertTokenizer.from_pretrained('bert-base-uncased')\n",
    "\n",
    "# Load pretrained model (weights)\n",
    "model = BertForPreTraining.from_pretrained('bert-base-uncased')\n",
    "# Prepare text pair for NSP\n",
    "text_1 = \"The cat sat on the mat\"\n",
    "text_2 = \"It was a sunny day\"\n",
    "# Encode text\n",
    "inputs = tokenizer(text_1, text_2, return_tensors=\"pt\")\n",
    "\n",
    "# Predict\n",
    "with torch.no_grad():\n",
    "    outputs = model(**inputs, next_sentence_label=torch.LongTensor([1]))\n",
    "    nsp_logits = outputs.seq_relationship_logits\n",
    "\n",
    "# Interpret the result for NSP\n",
    "if torch.argmax(nsp_logits, dim=-1).item() == 0:\n",
    "    print(\"The model thinks these sentences are NOT consecutive.\")\n",
    "else:\n",
    "    print(\"The model thinks these sentences are consecutive.\")\n",
    "```\n",
    "\n",
    "</details>\n"
   ]
  },
  {
   "cell_type": "markdown",
   "id": "58690926-ba18-4966-885c-33e44aa1cb7a",
   "metadata": {},
   "source": [
    "## Exercise 2: Masked Language Modeling (MLM) with BERT\n",
    "1. **Initialize the model and tokenizer**:\n",
    "   Load `BertForPreTraining` and `BertTokenizer` from the `transformers` library using the 'bert-base-uncased' model.\n",
    "2. **Prepare the masked sentence**:\n",
    "   Write a sentence and replace one word with `[MASK]`. For example, \"The capital of France is [MASK].\"\n",
    "3. **Tokenize and predict**:\n",
    "   Tokenize the masked sentence with `BertTokenizer.` Then, input it to `BertForPreTraining` and use the `prediction_logits` to find the most probable token that fits the mask.\n",
    "4. **Display the prediction**:\n",
    "   Convert the predicted token ID back to a token string and print out the predicted word.\n"
   ]
  },
  {
   "cell_type": "code",
   "execution_count": 35,
   "id": "03895a6f-3858-4c65-a6c9-1eee0c40a044",
   "metadata": {},
   "outputs": [
    {
     "name": "stdout",
     "output_type": "stream",
     "text": [
      "The capital of France is paris.\n"
     ]
    }
   ],
   "source": [
    "from transformers import BertForPreTraining, BertTokenizer\n",
    "import torch\n",
    "\n",
    "tokenizer = BertTokenizer.from_pretrained('bert-base-uncased')\n",
    "model = BertForPreTraining.from_pretrained('bert-base-uncased')\n",
    "\n",
    "sentence = \"The capital of France is [MASK].\"\n",
    "input_ids = tokenizer(sentence, return_tensors=\"pt\")[\"input_ids\"]\n",
    "\n",
    "with torch.no_grad():\n",
    "    logits = model(input_ids).prediction_logits\n",
    "\n",
    "predicted_index = torch.argmax(logits[0, input_ids[0] == tokenizer.mask_token_id]).item()\n",
    "predicted_token = tokenizer.convert_ids_to_tokens([predicted_index])\n",
    "predicted_sentence = sentence.replace(tokenizer.mask_token, predicted_token[0], 1)\n",
    "\n",
    "print(predicted_sentence)"
   ]
  },
  {
   "cell_type": "markdown",
   "id": "0c086643-e8dd-4b58-937f-6f53d8bc4c52",
   "metadata": {},
   "source": [
    "<details>\n",
    "    <summary>Click here for Solution</summary>\n",
    "\n",
    "```python\n",
    "from transformers import BertForPreTraining, BertTokenizer\n",
    "import torch\n",
    "\n",
    "# Load pretrained model tokenizer (vocabulary)\n",
    "tokenizer = BertTokenizer.from_pretrained('bert-base-uncased')\n",
    "\n",
    "# Load pretrained model (weights)\n",
    "model = BertForPreTraining.from_pretrained('bert-base-uncased')\n",
    "\n",
    "# Prepare text with masked token\n",
    "masked_text = \"The capital of France is [MASK].\"\n",
    "# Tokenize and prepare for the model: Convert to tokens and add special tokens\n",
    "input_ids = tokenizer(masked_text, return_tensors=\"pt\")[\"input_ids\"]\n",
    "\n",
    "# Predict all tokens\n",
    "with torch.no_grad():\n",
    "    outputs = model(input_ids=input_ids)\n",
    "    predictions = outputs.prediction_logits\n",
    "\n",
    "# Confirm we were able to predict 'Paris' as the masked token\n",
    "predicted_index = torch.argmax(predictions[0, input_ids[0] == tokenizer.mask_token_id]).item()\n",
    "predicted_token = tokenizer.convert_ids_to_tokens([predicted_index])\n",
    "\n",
    "print(f\"Predicted token: {predicted_token}\")\n",
    "```\n",
    "\n",
    "</details>\n"
   ]
  },
  {
   "cell_type": "markdown",
   "id": "fdcef0eb-bd57-4127-9aa1-49a8e9cb7f38",
   "metadata": {},
   "source": [
    "## Authors\n",
    "\n",
    "[Joseph Santarcangelo](https://author.skills.network/instructors/joseph_santarcangelo) has a Ph.D. in Electrical Engineering, his research focused on using machine learning, signal processing, and computer vision to determine how videos impact human cognition. Joseph has been working for IBM since he completed his PhD.\n",
    "\n",
    "[Ashutosh Sagar](https://www.linkedin.com/in/ashutoshsagar/) is completing his MS in CS at Dalhousie University. He has previous experience in Natural Language Processing and as a Data Scientist.\n",
    "\n",
    "## Contributors\n",
    "\n",
    "[Fateme Akbari](https://www.linkedin.com/in/fatemeakbari/) is a Ph.D. candidate in Information Systems at McMaster University with demonstrated research experience in Machine Learning and NLP.\n",
    "\n",
    "\n",
    "## References\n",
    "\n",
    "- [BERT: Pre-training of Deep Bidirectional Transformers for Language Understanding](https://arxiv.org/pdf/1810.04805.pdf)\n",
    "- [Mastering BERT Model: Building it from Scratch with Pytorch](https://medium.com/data-and-beyond/complete-guide-to-building-bert-model-from-sratch-3e6562228891)\n"
   ]
  },
  {
   "cell_type": "markdown",
   "id": "64a90fd7-5421-4f53-a620-a35015a2b5d9",
   "metadata": {},
   "source": [
    "Copyright © IBM Corporation. All rights reserved.\n"
   ]
  }
 ],
 "metadata": {
  "kernelspec": {
   "display_name": ".ai-env",
   "language": "python",
   "name": "python3"
  },
  "language_info": {
   "codemirror_mode": {
    "name": "ipython",
    "version": 3
   },
   "file_extension": ".py",
   "mimetype": "text/x-python",
   "name": "python",
   "nbconvert_exporter": "python",
   "pygments_lexer": "ipython3",
   "version": "3.12.3"
  },
  "prev_pub_hash": "d6bcc312377059ef81e68d59c4f0a14c2c18eaf76c68edead68436ea07bd3a4a"
 },
 "nbformat": 4,
 "nbformat_minor": 4
}

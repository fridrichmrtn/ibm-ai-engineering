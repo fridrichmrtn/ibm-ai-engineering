{
 "cells": [
  {
   "cell_type": "markdown",
   "metadata": {},
   "source": [
    "# Introduction to neural networks and pytorch\n",
    "\n",
    "## Tensors & derivatives\n",
    "* arrays, support element-wise and also vector operations (rank, dot, matmul)\n",
    "* setting tensor with `requires_grad=True`, allows to create forward pass on computational graph, and calculate backward pass and gradients\n",
    "\n",
    "## Datasets\n",
    "* dataset loaders, allow to lazily load and transform inputs"
   ]
  }
 ],
 "metadata": {
  "kernelspec": {
   "display_name": ".dl-env",
   "language": "python",
   "name": "python3"
  },
  "language_info": {
   "codemirror_mode": {
    "name": "ipython",
    "version": 3
   },
   "file_extension": ".py",
   "mimetype": "text/x-python",
   "name": "python",
   "nbconvert_exporter": "python",
   "pygments_lexer": "ipython3",
   "version": "3.12.3"
  }
 },
 "nbformat": 4,
 "nbformat_minor": 2
}

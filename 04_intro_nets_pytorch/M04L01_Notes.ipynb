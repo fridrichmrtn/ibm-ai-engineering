{
 "cells": [
  {
   "cell_type": "markdown",
   "metadata": {},
   "source": [
    "# Multi-input/output linear regression prediction\n",
    "\n",
    "## Multiple linear regression\n",
    "* extension of simple linear regression\n",
    "\n",
    "\n",
    "## Multiple-output linear regression\n",
    "* multiple target extension (multiple linear equations solved at the time)"
   ]
  }
 ],
 "metadata": {
  "kernelspec": {
   "display_name": ".dl-env",
   "language": "python",
   "name": "python3"
  },
  "language_info": {
   "name": "python",
   "version": "3.12.3"
  }
 },
 "nbformat": 4,
 "nbformat_minor": 2
}

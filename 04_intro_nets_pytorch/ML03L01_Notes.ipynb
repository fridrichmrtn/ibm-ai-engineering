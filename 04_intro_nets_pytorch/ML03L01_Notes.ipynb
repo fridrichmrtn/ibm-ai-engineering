{
 "cells": [
  {
   "cell_type": "markdown",
   "metadata": {},
   "source": [
    "# Linear regression in Pytorch\n",
    "\n",
    "## Stochastic gradient descent, mini-batch gradient descent, and optimizers\n",
    "* SGD -> minimizing the cost on one sample at the time, this approximation will lead to fluctuations in the costs\n",
    "* Minibatch GD -> minimizing the cost on a mini-batch batch at the time\n",
    "* Pytorch leverages dataset, data loader and optimizer classes in custom training loops\n",
    "\n",
    "## Train, validation and test split\n",
    "* overfitting vs underfitting"
   ]
  }
 ],
 "metadata": {
  "language_info": {
   "name": "python"
  }
 },
 "nbformat": 4,
 "nbformat_minor": 2
}

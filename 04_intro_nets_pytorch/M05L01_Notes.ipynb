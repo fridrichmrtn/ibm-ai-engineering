{
 "cells": [
  {
   "cell_type": "markdown",
   "metadata": {},
   "source": [
    "# Linear classifiers\n",
    "\n",
    "## Logistic regression\n",
    "* sigmoid transformation of the linear equation > $\\frac{1}{1+e^{-(wx+b)}}$\n",
    "* custom class (manually define forward pass) vs sequential approach\n",
    "\n",
    "## Maximum likelihood estimation & cross-entropy loss\n",
    "* likelihood -> probability of observations given by the parameters\n",
    "* $p(y|\\theta) = \\theta^y (1-\\theta)^{1-y}$, where $y \\in \\{0,1\\}$\n",
    "* the best parameter is found by maximizing $\\Pi_{n=1}^{N} p(y|\\theta)$ for all observations\n",
    "* the log-likelihood is used as it has same max, but it is more convenient to compute > $l(\\theta) = ln (p(y|\\theta)) = \\sum_{n=1}^{N} \\ y_n \\cdot ln(\\theta) + (1-y_n) \\cdot ln(1-\\theta)$\n"
   ]
  }
 ],
 "metadata": {
  "language_info": {
   "name": "python"
  }
 },
 "nbformat": 4,
 "nbformat_minor": 2
}

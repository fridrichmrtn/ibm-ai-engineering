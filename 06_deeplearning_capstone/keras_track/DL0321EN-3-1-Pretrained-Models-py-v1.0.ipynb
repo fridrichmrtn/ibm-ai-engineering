{
 "cells": [
  {
   "cell_type": "markdown",
   "id": "b2925352-cf72-4358-8b66-cc138aa866e9",
   "metadata": {},
   "source": [
    "<a href=\"https://cognitiveclass.ai\"><img src=\"https://cf-courses-data.s3.us.cloud-object-storage.appdomain.cloud/IBMDeveloperSkillsNetwork-DL0321EN-SkillsNetwork/image/IDSN-logo.png\" width=\"400\"> </a>\n",
    "\n",
    "<h1 align=center><font size = 5>Pre-Trained Models</font></h1>\n"
   ]
  },
  {
   "cell_type": "markdown",
   "id": "c3a65f9f-a2f6-4638-86a0-9bdca278db4d",
   "metadata": {},
   "source": [
    "## Objective\n"
   ]
  },
  {
   "cell_type": "markdown",
   "id": "02a8abe1-349c-439c-9987-6e322b987c98",
   "metadata": {},
   "source": [
    "In this lab, you will learn how to leverage pre-trained models to build image classifiers instead of building a model from scratch.\n"
   ]
  },
  {
   "cell_type": "markdown",
   "id": "69e63421-70c1-4b3a-848c-88cdce408333",
   "metadata": {},
   "source": [
    "## Table of Contents\n",
    "\n",
    "<div class=\"alert alert-block alert-info\" style=\"margin-top: 20px\">\n",
    "\n",
    "<font size = 3> \n",
    "    \n",
    "1. <a href=\"#item31\">Import Libraries and Packages</a>\n",
    "2. <a href=\"#item32\">Download Data</a>  \n",
    "3. <a href=\"#item33\">Define Global Constants</a>  \n",
    "4. <a href=\"#item34\">Construct ImageDataGenerator Instances</a>  \n",
    "5. <a href=\"#item35\">Compile and Fit Model</a>\n",
    "\n",
    "</font>\n",
    "    \n",
    "</div>\n"
   ]
  },
  {
   "cell_type": "markdown",
   "id": "b3444ad8-b64d-41bb-8327-b36d29fc8d9d",
   "metadata": {},
   "source": [
    "   \n"
   ]
  },
  {
   "cell_type": "markdown",
   "id": "2fee1c17-a8f8-4455-ae42-739000f416d3",
   "metadata": {},
   "source": [
    "<a id='item31'></a>\n"
   ]
  },
  {
   "cell_type": "markdown",
   "id": "2bf2de36-c0e6-43e5-a0db-fadb1c7cc2c4",
   "metadata": {},
   "source": [
    "## Import Libraries and Packages\n"
   ]
  },
  {
   "cell_type": "markdown",
   "id": "097f5b90-6571-4d5e-9023-d75d3a21c48a",
   "metadata": {},
   "source": [
    "Let's start the lab by importing the libraries that we will be using in this lab. First we will need the library that helps us to import the data.\n"
   ]
  },
  {
   "cell_type": "code",
   "execution_count": 3,
   "id": "0eabd8aa-a92f-4cad-a145-891a1129b2bb",
   "metadata": {},
   "outputs": [],
   "source": [
    "#import skillsnetwork "
   ]
  },
  {
   "cell_type": "markdown",
   "id": "bbd0535a-e627-47a1-b903-2a52c2d08ab3",
   "metadata": {},
   "source": [
    "First, we will import the ImageDataGenerator module since we will be leveraging it to train our model in batches.\n"
   ]
  },
  {
   "cell_type": "code",
   "execution_count": 4,
   "id": "fea0e051-001b-488c-b2c5-87a682b745b6",
   "metadata": {},
   "outputs": [],
   "source": [
    "from tensorflow.keras.preprocessing.image import ImageDataGenerator"
   ]
  },
  {
   "cell_type": "markdown",
   "id": "f27d5383-338e-4439-9627-6f92a11f4ea8",
   "metadata": {},
   "source": [
    "In this lab, we will be using the Keras library to build an image classifier, so let's download the Keras library.\n"
   ]
  },
  {
   "cell_type": "code",
   "execution_count": 5,
   "id": "e49e0408-acba-4e62-b4bf-cec7316c18a8",
   "metadata": {},
   "outputs": [],
   "source": [
    "from tensorflow import keras\n",
    "from keras.models import Sequential\n",
    "from keras.layers import Dense"
   ]
  },
  {
   "cell_type": "markdown",
   "id": "598a265a-0e24-4d65-b693-4fb6ee385b78",
   "metadata": {},
   "source": [
    "Finally, we will be leveraging the ResNet50 model to build our classifier, so let's download it as well.\n"
   ]
  },
  {
   "cell_type": "code",
   "execution_count": 6,
   "id": "3c5c4960-0346-41bb-b9a7-3fbd3eeba3b5",
   "metadata": {},
   "outputs": [],
   "source": [
    "from keras.applications import ResNet50\n",
    "from keras.applications.resnet50 import preprocess_input"
   ]
  },
  {
   "cell_type": "markdown",
   "id": "80a1e013-fd42-4cd0-8c05-cc386374e1bd",
   "metadata": {},
   "source": [
    "<a id='item32'></a>\n"
   ]
  },
  {
   "cell_type": "markdown",
   "id": "6c45f6e6-18c7-4bea-b0ab-f9102799a26a",
   "metadata": {},
   "source": [
    "## Download Data\n"
   ]
  },
  {
   "cell_type": "markdown",
   "id": "7b770f4e-954a-4de2-8759-7b49d6ffeb61",
   "metadata": {},
   "source": [
    "In this section, you are going to download the data from IBM object storage using **skillsnetwork.prepare** command. skillsnetwork.prepare is a command that's used to download a zip file, unzip it and store it in a specified directory.\n"
   ]
  },
  {
   "cell_type": "code",
   "execution_count": 7,
   "id": "4cd64f37-fae9-4f7f-b25a-3075b025a17e",
   "metadata": {},
   "outputs": [],
   "source": [
    "## get the data\n",
    "#await skillsnetwork.prepare(\"https://cf-courses-data.s3.us.cloud-object-storage.appdomain.cloud/IBMDeveloperSkillsNetwork-DL0321EN-SkillsNetwork/concrete_data_week3.zip\", overwrite=True)"
   ]
  },
  {
   "cell_type": "markdown",
   "id": "14ed2a99-c7de-482f-bd42-9ceece8d9fe4",
   "metadata": {},
   "source": [
    "Now, you should see the folder *concrete_data_week3* appear in the left pane. If you open this folder by double-clicking on it, you will find that it contains two folders: *train* and *valid*. And if you explore these folders, you will find that each contains two subfolders: *positive* and *negative*. These are the same folders that we saw in the labs in the previous modules of this course, where *negative* is the negative class and it represents the concrete images with no cracks and *positive* is the positive class and it represents the concrete images with cracks.\n"
   ]
  },
  {
   "cell_type": "markdown",
   "id": "ab34b495-4e94-4d32-b8da-e624146cb339",
   "metadata": {},
   "source": [
    "**Important Note**: There are thousands and thousands of images in each folder, so please don't attempt to double click on the *negative* and *positive* folders. This may consume all of your memory and you may end up with a **50** error. So please **DO NOT DO IT**.\n"
   ]
  },
  {
   "cell_type": "markdown",
   "id": "e0515abb-5932-4aee-9117-5cef6ce5a42f",
   "metadata": {},
   "source": [
    "<a id='item33'></a>\n"
   ]
  },
  {
   "cell_type": "markdown",
   "id": "b9f1629b-6a7b-417b-8211-4cad9f541da0",
   "metadata": {},
   "source": [
    "## Define Global Constants\n"
   ]
  },
  {
   "cell_type": "markdown",
   "id": "38ac6ae5-3a91-488f-9b08-eb08da56bdb2",
   "metadata": {},
   "source": [
    "Here, we will define constants that we will be using throughout the rest of the lab. \n",
    "\n",
    "1. We are obviously dealing with two classes, so *num_classes* is 2. \n",
    "2. The ResNet50 model was built and trained using images of size (224 x 224). Therefore, we will have to resize our images from (227 x 227) to (224 x 224).\n",
    "3. We will training and validating the model using batches of 100 images.\n"
   ]
  },
  {
   "cell_type": "code",
   "execution_count": 8,
   "id": "39b869e6-88ef-4d50-a337-c072fa384587",
   "metadata": {},
   "outputs": [],
   "source": [
    "num_classes = 2\n",
    "image_resize = 224\n",
    "batch_size_training = 100\n",
    "batch_size_validation = 100"
   ]
  },
  {
   "cell_type": "markdown",
   "id": "206726de-dc37-4a5b-aa9a-2daf6908b586",
   "metadata": {},
   "source": [
    "<a id='item34'></a>\n"
   ]
  },
  {
   "cell_type": "markdown",
   "id": "3ff9ec73-ae0c-4105-baa5-b4bdde215667",
   "metadata": {},
   "source": [
    "## Construct ImageDataGenerator Instances\n"
   ]
  },
  {
   "cell_type": "markdown",
   "id": "32a656dd-0656-4a1c-80d9-65859faa7649",
   "metadata": {},
   "source": [
    "In order to instantiate an ImageDataGenerator instance, we will set the **preprocessing_function** argument to *preprocess_input* which we imported from **keras.applications.resnet50** in order to preprocess our images the same way the images used to train ResNet50 model were processed.\n"
   ]
  },
  {
   "cell_type": "code",
   "execution_count": 9,
   "id": "e97a55ab-4e21-42bd-9a5d-60124e306fec",
   "metadata": {},
   "outputs": [],
   "source": [
    "data_generator = ImageDataGenerator(\n",
    "    preprocessing_function=preprocess_input,\n",
    "    #validation_split=0.2\n",
    ")"
   ]
  },
  {
   "cell_type": "markdown",
   "id": "b2b4f25a-343e-4914-84ad-0dabdc5190de",
   "metadata": {},
   "source": [
    "Next, we will use the *flow_from_directory* method to get the training images as follows:\n"
   ]
  },
  {
   "cell_type": "code",
   "execution_count": 11,
   "id": "a8625422-6d7b-4e3f-b996-211e88e773c2",
   "metadata": {},
   "outputs": [
    {
     "name": "stdout",
     "output_type": "stream",
     "text": [
      "Found 40000 images belonging to 2 classes.\n"
     ]
    }
   ],
   "source": [
    "train_generator = data_generator.flow_from_directory(\n",
    "    '../data/',\n",
    "    target_size=(image_resize, image_resize),\n",
    "    batch_size=batch_size_training,\n",
    "    class_mode='categorical')"
   ]
  },
  {
   "cell_type": "markdown",
   "id": "eaa0f25a-9dae-4d5a-bc85-648c8f371e57",
   "metadata": {},
   "source": [
    "**Note**: in this lab, we will be using the full data-set of 30,000 images for training and validation.\n"
   ]
  },
  {
   "cell_type": "markdown",
   "id": "0bc96524-5a08-40ce-84f6-2badc2e80c04",
   "metadata": {},
   "source": [
    "**Your Turn**: Use the *flow_from_directory* method to get the validation images and assign the result to **validation_generator**.\n"
   ]
  },
  {
   "cell_type": "code",
   "execution_count": 12,
   "id": "7f817647-eaad-4d68-9af9-222e0dd1b35f",
   "metadata": {},
   "outputs": [
    {
     "name": "stdout",
     "output_type": "stream",
     "text": [
      "Found 40000 images belonging to 2 classes.\n"
     ]
    }
   ],
   "source": [
    "validation_generator = data_generator.flow_from_directory(\n",
    "    '../data/',\n",
    "    target_size=(image_resize, image_resize),\n",
    "    batch_size=batch_size_training,\n",
    "    class_mode='categorical')"
   ]
  },
  {
   "cell_type": "markdown",
   "id": "1476cd96-ecb1-4670-935b-02ed52346297",
   "metadata": {},
   "source": [
    "Double-click __here__ for the solution.\n",
    "<!-- The correct answer is:\n",
    "validation_generator = data_generator.flow_from_directory(\n",
    "    'concrete_data_week3/valid',\n",
    "    target_size=(image_resize, image_resize),\n",
    "    batch_size=batch_size_validation,\n",
    "    class_mode='categorical')\n",
    "-->\n",
    "\n"
   ]
  },
  {
   "cell_type": "markdown",
   "id": "a727fb3f-f7d2-4773-a046-1744692c5f2f",
   "metadata": {},
   "source": [
    "<a id='item35'></a>\n"
   ]
  },
  {
   "cell_type": "markdown",
   "id": "b05f3e94-8b47-4637-a60c-226113cb2522",
   "metadata": {},
   "source": [
    "## Build, Compile and Fit Model\n"
   ]
  },
  {
   "cell_type": "markdown",
   "id": "25e626fb-98c7-4b08-a06c-b780f6bba9ab",
   "metadata": {},
   "source": [
    "In this section, we will start building our model. We will use the Sequential model class from Keras.\n"
   ]
  },
  {
   "cell_type": "code",
   "execution_count": 13,
   "id": "ebd441e7-2c95-4c70-8e21-3643636fc2ea",
   "metadata": {},
   "outputs": [],
   "source": [
    "model = Sequential()"
   ]
  },
  {
   "cell_type": "markdown",
   "id": "9b74f39f-5b89-47ff-be05-fca035502ddc",
   "metadata": {},
   "source": [
    "Next, we will add the ResNet50 pre-trained model to out model. However, note that we don't want to include the top layer or the output layer of the pre-trained model. We actually want to define our own output layer and train it so that it is optimized for our image dataset. In order to leave out the output layer of the pre-trained model, we will use the argument *include_top* and set it to **False**.\n"
   ]
  },
  {
   "cell_type": "code",
   "execution_count": 14,
   "id": "d339754c-09cb-471a-890b-b17ce2e9e433",
   "metadata": {},
   "outputs": [
    {
     "name": "stderr",
     "output_type": "stream",
     "text": [
      "I0000 00:00:1739709846.138737  245600 gpu_device.cc:2022] Created device /job:localhost/replica:0/task:0/device:GPU:0 with 9685 MB memory:  -> device: 0, name: NVIDIA GeForce RTX 3060, pci bus id: 0000:09:00.0, compute capability: 8.6\n"
     ]
    },
    {
     "name": "stdout",
     "output_type": "stream",
     "text": [
      "Downloading data from https://storage.googleapis.com/tensorflow/keras-applications/resnet/resnet50_weights_tf_dim_ordering_tf_kernels_notop.h5\n",
      "\u001b[1m94765736/94765736\u001b[0m \u001b[32m━━━━━━━━━━━━━━━━━━━━\u001b[0m\u001b[37m\u001b[0m \u001b[1m6s\u001b[0m 0us/step\n"
     ]
    }
   ],
   "source": [
    "model.add(ResNet50(\n",
    "    include_top=False,\n",
    "    pooling='avg',\n",
    "    weights='imagenet',\n",
    "    ))"
   ]
  },
  {
   "cell_type": "markdown",
   "id": "9a9a03d8-84e8-49fa-aa58-8d0e20a0ffc5",
   "metadata": {},
   "source": [
    "Then, we will define our output layer as a **Dense** layer, that consists of two nodes and uses the **Softmax** function as the activation function.\n"
   ]
  },
  {
   "cell_type": "code",
   "execution_count": 15,
   "id": "206145b8-45f9-43c6-9db6-1ad4bd073d92",
   "metadata": {},
   "outputs": [],
   "source": [
    "model.add(Dense(num_classes, activation='softmax'))"
   ]
  },
  {
   "cell_type": "markdown",
   "id": "1c68b992-8724-4884-aa25-d8516faa16bd",
   "metadata": {},
   "source": [
    "You can access the model's layers using the *layers* attribute of our model object. \n"
   ]
  },
  {
   "cell_type": "code",
   "execution_count": 16,
   "id": "04386088-61ae-48d8-8a71-295e99cd9b5a",
   "metadata": {},
   "outputs": [
    {
     "data": {
      "text/plain": [
       "[<Functional name=resnet50, built=True>, <Dense name=dense, built=True>]"
      ]
     },
     "execution_count": 16,
     "metadata": {},
     "output_type": "execute_result"
    }
   ],
   "source": [
    "model.layers"
   ]
  },
  {
   "cell_type": "markdown",
   "id": "7cdfa175-97d4-416b-a78f-930f3f971362",
   "metadata": {},
   "source": [
    "You can see that our model is composed of two sets of layers. The first set is the layers pertaining to ResNet50 and the second set is a single layer, which is our Dense layer that we defined above.\n"
   ]
  },
  {
   "cell_type": "markdown",
   "id": "7b6eb32d-0c61-4cb6-be0f-15e63ac9945b",
   "metadata": {},
   "source": [
    "You can access the ResNet50 layers by running the following:\n"
   ]
  },
  {
   "cell_type": "code",
   "execution_count": 17,
   "id": "89b6058d-d5bc-4150-a5c2-8b3000f39865",
   "metadata": {},
   "outputs": [
    {
     "data": {
      "text/plain": [
       "[<InputLayer name=input_layer, built=True>,\n",
       " <ZeroPadding2D name=conv1_pad, built=True>,\n",
       " <Conv2D name=conv1_conv, built=True>,\n",
       " <BatchNormalization name=conv1_bn, built=True>,\n",
       " <Activation name=conv1_relu, built=True>,\n",
       " <ZeroPadding2D name=pool1_pad, built=True>,\n",
       " <MaxPooling2D name=pool1_pool, built=True>,\n",
       " <Conv2D name=conv2_block1_1_conv, built=True>,\n",
       " <BatchNormalization name=conv2_block1_1_bn, built=True>,\n",
       " <Activation name=conv2_block1_1_relu, built=True>,\n",
       " <Conv2D name=conv2_block1_2_conv, built=True>,\n",
       " <BatchNormalization name=conv2_block1_2_bn, built=True>,\n",
       " <Activation name=conv2_block1_2_relu, built=True>,\n",
       " <Conv2D name=conv2_block1_0_conv, built=True>,\n",
       " <Conv2D name=conv2_block1_3_conv, built=True>,\n",
       " <BatchNormalization name=conv2_block1_0_bn, built=True>,\n",
       " <BatchNormalization name=conv2_block1_3_bn, built=True>,\n",
       " <Add name=conv2_block1_add, built=True>,\n",
       " <Activation name=conv2_block1_out, built=True>,\n",
       " <Conv2D name=conv2_block2_1_conv, built=True>,\n",
       " <BatchNormalization name=conv2_block2_1_bn, built=True>,\n",
       " <Activation name=conv2_block2_1_relu, built=True>,\n",
       " <Conv2D name=conv2_block2_2_conv, built=True>,\n",
       " <BatchNormalization name=conv2_block2_2_bn, built=True>,\n",
       " <Activation name=conv2_block2_2_relu, built=True>,\n",
       " <Conv2D name=conv2_block2_3_conv, built=True>,\n",
       " <BatchNormalization name=conv2_block2_3_bn, built=True>,\n",
       " <Add name=conv2_block2_add, built=True>,\n",
       " <Activation name=conv2_block2_out, built=True>,\n",
       " <Conv2D name=conv2_block3_1_conv, built=True>,\n",
       " <BatchNormalization name=conv2_block3_1_bn, built=True>,\n",
       " <Activation name=conv2_block3_1_relu, built=True>,\n",
       " <Conv2D name=conv2_block3_2_conv, built=True>,\n",
       " <BatchNormalization name=conv2_block3_2_bn, built=True>,\n",
       " <Activation name=conv2_block3_2_relu, built=True>,\n",
       " <Conv2D name=conv2_block3_3_conv, built=True>,\n",
       " <BatchNormalization name=conv2_block3_3_bn, built=True>,\n",
       " <Add name=conv2_block3_add, built=True>,\n",
       " <Activation name=conv2_block3_out, built=True>,\n",
       " <Conv2D name=conv3_block1_1_conv, built=True>,\n",
       " <BatchNormalization name=conv3_block1_1_bn, built=True>,\n",
       " <Activation name=conv3_block1_1_relu, built=True>,\n",
       " <Conv2D name=conv3_block1_2_conv, built=True>,\n",
       " <BatchNormalization name=conv3_block1_2_bn, built=True>,\n",
       " <Activation name=conv3_block1_2_relu, built=True>,\n",
       " <Conv2D name=conv3_block1_0_conv, built=True>,\n",
       " <Conv2D name=conv3_block1_3_conv, built=True>,\n",
       " <BatchNormalization name=conv3_block1_0_bn, built=True>,\n",
       " <BatchNormalization name=conv3_block1_3_bn, built=True>,\n",
       " <Add name=conv3_block1_add, built=True>,\n",
       " <Activation name=conv3_block1_out, built=True>,\n",
       " <Conv2D name=conv3_block2_1_conv, built=True>,\n",
       " <BatchNormalization name=conv3_block2_1_bn, built=True>,\n",
       " <Activation name=conv3_block2_1_relu, built=True>,\n",
       " <Conv2D name=conv3_block2_2_conv, built=True>,\n",
       " <BatchNormalization name=conv3_block2_2_bn, built=True>,\n",
       " <Activation name=conv3_block2_2_relu, built=True>,\n",
       " <Conv2D name=conv3_block2_3_conv, built=True>,\n",
       " <BatchNormalization name=conv3_block2_3_bn, built=True>,\n",
       " <Add name=conv3_block2_add, built=True>,\n",
       " <Activation name=conv3_block2_out, built=True>,\n",
       " <Conv2D name=conv3_block3_1_conv, built=True>,\n",
       " <BatchNormalization name=conv3_block3_1_bn, built=True>,\n",
       " <Activation name=conv3_block3_1_relu, built=True>,\n",
       " <Conv2D name=conv3_block3_2_conv, built=True>,\n",
       " <BatchNormalization name=conv3_block3_2_bn, built=True>,\n",
       " <Activation name=conv3_block3_2_relu, built=True>,\n",
       " <Conv2D name=conv3_block3_3_conv, built=True>,\n",
       " <BatchNormalization name=conv3_block3_3_bn, built=True>,\n",
       " <Add name=conv3_block3_add, built=True>,\n",
       " <Activation name=conv3_block3_out, built=True>,\n",
       " <Conv2D name=conv3_block4_1_conv, built=True>,\n",
       " <BatchNormalization name=conv3_block4_1_bn, built=True>,\n",
       " <Activation name=conv3_block4_1_relu, built=True>,\n",
       " <Conv2D name=conv3_block4_2_conv, built=True>,\n",
       " <BatchNormalization name=conv3_block4_2_bn, built=True>,\n",
       " <Activation name=conv3_block4_2_relu, built=True>,\n",
       " <Conv2D name=conv3_block4_3_conv, built=True>,\n",
       " <BatchNormalization name=conv3_block4_3_bn, built=True>,\n",
       " <Add name=conv3_block4_add, built=True>,\n",
       " <Activation name=conv3_block4_out, built=True>,\n",
       " <Conv2D name=conv4_block1_1_conv, built=True>,\n",
       " <BatchNormalization name=conv4_block1_1_bn, built=True>,\n",
       " <Activation name=conv4_block1_1_relu, built=True>,\n",
       " <Conv2D name=conv4_block1_2_conv, built=True>,\n",
       " <BatchNormalization name=conv4_block1_2_bn, built=True>,\n",
       " <Activation name=conv4_block1_2_relu, built=True>,\n",
       " <Conv2D name=conv4_block1_0_conv, built=True>,\n",
       " <Conv2D name=conv4_block1_3_conv, built=True>,\n",
       " <BatchNormalization name=conv4_block1_0_bn, built=True>,\n",
       " <BatchNormalization name=conv4_block1_3_bn, built=True>,\n",
       " <Add name=conv4_block1_add, built=True>,\n",
       " <Activation name=conv4_block1_out, built=True>,\n",
       " <Conv2D name=conv4_block2_1_conv, built=True>,\n",
       " <BatchNormalization name=conv4_block2_1_bn, built=True>,\n",
       " <Activation name=conv4_block2_1_relu, built=True>,\n",
       " <Conv2D name=conv4_block2_2_conv, built=True>,\n",
       " <BatchNormalization name=conv4_block2_2_bn, built=True>,\n",
       " <Activation name=conv4_block2_2_relu, built=True>,\n",
       " <Conv2D name=conv4_block2_3_conv, built=True>,\n",
       " <BatchNormalization name=conv4_block2_3_bn, built=True>,\n",
       " <Add name=conv4_block2_add, built=True>,\n",
       " <Activation name=conv4_block2_out, built=True>,\n",
       " <Conv2D name=conv4_block3_1_conv, built=True>,\n",
       " <BatchNormalization name=conv4_block3_1_bn, built=True>,\n",
       " <Activation name=conv4_block3_1_relu, built=True>,\n",
       " <Conv2D name=conv4_block3_2_conv, built=True>,\n",
       " <BatchNormalization name=conv4_block3_2_bn, built=True>,\n",
       " <Activation name=conv4_block3_2_relu, built=True>,\n",
       " <Conv2D name=conv4_block3_3_conv, built=True>,\n",
       " <BatchNormalization name=conv4_block3_3_bn, built=True>,\n",
       " <Add name=conv4_block3_add, built=True>,\n",
       " <Activation name=conv4_block3_out, built=True>,\n",
       " <Conv2D name=conv4_block4_1_conv, built=True>,\n",
       " <BatchNormalization name=conv4_block4_1_bn, built=True>,\n",
       " <Activation name=conv4_block4_1_relu, built=True>,\n",
       " <Conv2D name=conv4_block4_2_conv, built=True>,\n",
       " <BatchNormalization name=conv4_block4_2_bn, built=True>,\n",
       " <Activation name=conv4_block4_2_relu, built=True>,\n",
       " <Conv2D name=conv4_block4_3_conv, built=True>,\n",
       " <BatchNormalization name=conv4_block4_3_bn, built=True>,\n",
       " <Add name=conv4_block4_add, built=True>,\n",
       " <Activation name=conv4_block4_out, built=True>,\n",
       " <Conv2D name=conv4_block5_1_conv, built=True>,\n",
       " <BatchNormalization name=conv4_block5_1_bn, built=True>,\n",
       " <Activation name=conv4_block5_1_relu, built=True>,\n",
       " <Conv2D name=conv4_block5_2_conv, built=True>,\n",
       " <BatchNormalization name=conv4_block5_2_bn, built=True>,\n",
       " <Activation name=conv4_block5_2_relu, built=True>,\n",
       " <Conv2D name=conv4_block5_3_conv, built=True>,\n",
       " <BatchNormalization name=conv4_block5_3_bn, built=True>,\n",
       " <Add name=conv4_block5_add, built=True>,\n",
       " <Activation name=conv4_block5_out, built=True>,\n",
       " <Conv2D name=conv4_block6_1_conv, built=True>,\n",
       " <BatchNormalization name=conv4_block6_1_bn, built=True>,\n",
       " <Activation name=conv4_block6_1_relu, built=True>,\n",
       " <Conv2D name=conv4_block6_2_conv, built=True>,\n",
       " <BatchNormalization name=conv4_block6_2_bn, built=True>,\n",
       " <Activation name=conv4_block6_2_relu, built=True>,\n",
       " <Conv2D name=conv4_block6_3_conv, built=True>,\n",
       " <BatchNormalization name=conv4_block6_3_bn, built=True>,\n",
       " <Add name=conv4_block6_add, built=True>,\n",
       " <Activation name=conv4_block6_out, built=True>,\n",
       " <Conv2D name=conv5_block1_1_conv, built=True>,\n",
       " <BatchNormalization name=conv5_block1_1_bn, built=True>,\n",
       " <Activation name=conv5_block1_1_relu, built=True>,\n",
       " <Conv2D name=conv5_block1_2_conv, built=True>,\n",
       " <BatchNormalization name=conv5_block1_2_bn, built=True>,\n",
       " <Activation name=conv5_block1_2_relu, built=True>,\n",
       " <Conv2D name=conv5_block1_0_conv, built=True>,\n",
       " <Conv2D name=conv5_block1_3_conv, built=True>,\n",
       " <BatchNormalization name=conv5_block1_0_bn, built=True>,\n",
       " <BatchNormalization name=conv5_block1_3_bn, built=True>,\n",
       " <Add name=conv5_block1_add, built=True>,\n",
       " <Activation name=conv5_block1_out, built=True>,\n",
       " <Conv2D name=conv5_block2_1_conv, built=True>,\n",
       " <BatchNormalization name=conv5_block2_1_bn, built=True>,\n",
       " <Activation name=conv5_block2_1_relu, built=True>,\n",
       " <Conv2D name=conv5_block2_2_conv, built=True>,\n",
       " <BatchNormalization name=conv5_block2_2_bn, built=True>,\n",
       " <Activation name=conv5_block2_2_relu, built=True>,\n",
       " <Conv2D name=conv5_block2_3_conv, built=True>,\n",
       " <BatchNormalization name=conv5_block2_3_bn, built=True>,\n",
       " <Add name=conv5_block2_add, built=True>,\n",
       " <Activation name=conv5_block2_out, built=True>,\n",
       " <Conv2D name=conv5_block3_1_conv, built=True>,\n",
       " <BatchNormalization name=conv5_block3_1_bn, built=True>,\n",
       " <Activation name=conv5_block3_1_relu, built=True>,\n",
       " <Conv2D name=conv5_block3_2_conv, built=True>,\n",
       " <BatchNormalization name=conv5_block3_2_bn, built=True>,\n",
       " <Activation name=conv5_block3_2_relu, built=True>,\n",
       " <Conv2D name=conv5_block3_3_conv, built=True>,\n",
       " <BatchNormalization name=conv5_block3_3_bn, built=True>,\n",
       " <Add name=conv5_block3_add, built=True>,\n",
       " <Activation name=conv5_block3_out, built=True>,\n",
       " <GlobalAveragePooling2D name=avg_pool, built=True>]"
      ]
     },
     "execution_count": 17,
     "metadata": {},
     "output_type": "execute_result"
    }
   ],
   "source": [
    "model.layers[0].layers"
   ]
  },
  {
   "cell_type": "markdown",
   "id": "ec6a949d-86d5-4b23-a165-f5545012da44",
   "metadata": {},
   "source": [
    "Since the ResNet50 model has already been trained, then we want to tell our model not to bother with training the ResNet part, but to train only our dense output layer. To do that, we run the following.\n"
   ]
  },
  {
   "cell_type": "code",
   "execution_count": 18,
   "id": "8d3dddb1-6c60-4909-8781-43bbe3f49614",
   "metadata": {},
   "outputs": [],
   "source": [
    "model.layers[0].trainable = False"
   ]
  },
  {
   "cell_type": "markdown",
   "id": "b2f75fd6-fc93-474d-8606-4e2215bcdebe",
   "metadata": {},
   "source": [
    "And now using the *summary* attribute of the model, we can see how many parameters we will need to optimize in order to train the output layer.\n"
   ]
  },
  {
   "cell_type": "code",
   "execution_count": 19,
   "id": "8cdba85e-ea71-4b92-8aec-9073aa24f74d",
   "metadata": {},
   "outputs": [
    {
     "data": {
      "text/html": [
       "<pre style=\"white-space:pre;overflow-x:auto;line-height:normal;font-family:Menlo,'DejaVu Sans Mono',consolas,'Courier New',monospace\"><span style=\"font-weight: bold\">Model: \"sequential\"</span>\n",
       "</pre>\n"
      ],
      "text/plain": [
       "\u001b[1mModel: \"sequential\"\u001b[0m\n"
      ]
     },
     "metadata": {},
     "output_type": "display_data"
    },
    {
     "data": {
      "text/html": [
       "<pre style=\"white-space:pre;overflow-x:auto;line-height:normal;font-family:Menlo,'DejaVu Sans Mono',consolas,'Courier New',monospace\">┏━━━━━━━━━━━━━━━━━━━━━━━━━━━━━━━━━┳━━━━━━━━━━━━━━━━━━━━━━━━┳━━━━━━━━━━━━━━━┓\n",
       "┃<span style=\"font-weight: bold\"> Layer (type)                    </span>┃<span style=\"font-weight: bold\"> Output Shape           </span>┃<span style=\"font-weight: bold\">       Param # </span>┃\n",
       "┡━━━━━━━━━━━━━━━━━━━━━━━━━━━━━━━━━╇━━━━━━━━━━━━━━━━━━━━━━━━╇━━━━━━━━━━━━━━━┩\n",
       "│ resnet50 (<span style=\"color: #0087ff; text-decoration-color: #0087ff\">Functional</span>)           │ (<span style=\"color: #00d7ff; text-decoration-color: #00d7ff\">None</span>, <span style=\"color: #00af00; text-decoration-color: #00af00\">2048</span>)           │    <span style=\"color: #00af00; text-decoration-color: #00af00\">23,587,712</span> │\n",
       "├─────────────────────────────────┼────────────────────────┼───────────────┤\n",
       "│ dense (<span style=\"color: #0087ff; text-decoration-color: #0087ff\">Dense</span>)                   │ (<span style=\"color: #00d7ff; text-decoration-color: #00d7ff\">None</span>, <span style=\"color: #00af00; text-decoration-color: #00af00\">2</span>)              │         <span style=\"color: #00af00; text-decoration-color: #00af00\">4,098</span> │\n",
       "└─────────────────────────────────┴────────────────────────┴───────────────┘\n",
       "</pre>\n"
      ],
      "text/plain": [
       "┏━━━━━━━━━━━━━━━━━━━━━━━━━━━━━━━━━┳━━━━━━━━━━━━━━━━━━━━━━━━┳━━━━━━━━━━━━━━━┓\n",
       "┃\u001b[1m \u001b[0m\u001b[1mLayer (type)                   \u001b[0m\u001b[1m \u001b[0m┃\u001b[1m \u001b[0m\u001b[1mOutput Shape          \u001b[0m\u001b[1m \u001b[0m┃\u001b[1m \u001b[0m\u001b[1m      Param #\u001b[0m\u001b[1m \u001b[0m┃\n",
       "┡━━━━━━━━━━━━━━━━━━━━━━━━━━━━━━━━━╇━━━━━━━━━━━━━━━━━━━━━━━━╇━━━━━━━━━━━━━━━┩\n",
       "│ resnet50 (\u001b[38;5;33mFunctional\u001b[0m)           │ (\u001b[38;5;45mNone\u001b[0m, \u001b[38;5;34m2048\u001b[0m)           │    \u001b[38;5;34m23,587,712\u001b[0m │\n",
       "├─────────────────────────────────┼────────────────────────┼───────────────┤\n",
       "│ dense (\u001b[38;5;33mDense\u001b[0m)                   │ (\u001b[38;5;45mNone\u001b[0m, \u001b[38;5;34m2\u001b[0m)              │         \u001b[38;5;34m4,098\u001b[0m │\n",
       "└─────────────────────────────────┴────────────────────────┴───────────────┘\n"
      ]
     },
     "metadata": {},
     "output_type": "display_data"
    },
    {
     "data": {
      "text/html": [
       "<pre style=\"white-space:pre;overflow-x:auto;line-height:normal;font-family:Menlo,'DejaVu Sans Mono',consolas,'Courier New',monospace\"><span style=\"font-weight: bold\"> Total params: </span><span style=\"color: #00af00; text-decoration-color: #00af00\">23,591,810</span> (90.00 MB)\n",
       "</pre>\n"
      ],
      "text/plain": [
       "\u001b[1m Total params: \u001b[0m\u001b[38;5;34m23,591,810\u001b[0m (90.00 MB)\n"
      ]
     },
     "metadata": {},
     "output_type": "display_data"
    },
    {
     "data": {
      "text/html": [
       "<pre style=\"white-space:pre;overflow-x:auto;line-height:normal;font-family:Menlo,'DejaVu Sans Mono',consolas,'Courier New',monospace\"><span style=\"font-weight: bold\"> Trainable params: </span><span style=\"color: #00af00; text-decoration-color: #00af00\">4,098</span> (16.01 KB)\n",
       "</pre>\n"
      ],
      "text/plain": [
       "\u001b[1m Trainable params: \u001b[0m\u001b[38;5;34m4,098\u001b[0m (16.01 KB)\n"
      ]
     },
     "metadata": {},
     "output_type": "display_data"
    },
    {
     "data": {
      "text/html": [
       "<pre style=\"white-space:pre;overflow-x:auto;line-height:normal;font-family:Menlo,'DejaVu Sans Mono',consolas,'Courier New',monospace\"><span style=\"font-weight: bold\"> Non-trainable params: </span><span style=\"color: #00af00; text-decoration-color: #00af00\">23,587,712</span> (89.98 MB)\n",
       "</pre>\n"
      ],
      "text/plain": [
       "\u001b[1m Non-trainable params: \u001b[0m\u001b[38;5;34m23,587,712\u001b[0m (89.98 MB)\n"
      ]
     },
     "metadata": {},
     "output_type": "display_data"
    }
   ],
   "source": [
    "model.summary()"
   ]
  },
  {
   "cell_type": "markdown",
   "id": "faab0ab4-bf53-418b-b257-2dd759ed5af7",
   "metadata": {},
   "source": [
    "Next we compile our model using the **adam** optimizer.\n"
   ]
  },
  {
   "cell_type": "code",
   "execution_count": null,
   "id": "d0a432df-923b-4342-9b80-40f56b26c3c8",
   "metadata": {},
   "outputs": [],
   "source": [
    "model.compile(optimizer='adam', loss='categorical_crossentropy', metrics=['accuracy'])"
   ]
  },
  {
   "cell_type": "markdown",
   "id": "3d4e333b-01f8-42e0-beb8-c7d324714a09",
   "metadata": {},
   "source": [
    "Before we are able to start the training process, with an ImageDataGenerator, we will need to define how many steps compose an epoch. Typically, that is the number of images divided by the batch size. Therefore, we define our steps per epoch as follows:\n"
   ]
  },
  {
   "cell_type": "code",
   "execution_count": null,
   "id": "db8c3174-911e-48e6-9328-afd9f22d7e8d",
   "metadata": {},
   "outputs": [],
   "source": [
    "steps_per_epoch_training = len(train_generator)\n",
    "steps_per_epoch_validation = len(validation_generator)\n",
    "num_epochs = 2"
   ]
  },
  {
   "cell_type": "markdown",
   "id": "048afe9b-09e2-48e2-a656-6d535868ac2c",
   "metadata": {},
   "source": [
    "Finally, we are ready to start training our model. Unlike a conventional deep learning training were data is not streamed from a directory, with an ImageDataGenerator where data is augmented in batches, we use the **fit_generator** method.\n"
   ]
  },
  {
   "cell_type": "code",
   "execution_count": null,
   "id": "4f02c9e7-7606-407a-b257-981c89ee1b76",
   "metadata": {},
   "outputs": [],
   "source": [
    "fit_history = model.fit_generator(\n",
    "    train_generator,\n",
    "    steps_per_epoch=steps_per_epoch_training,\n",
    "    epochs=num_epochs,\n",
    "    validation_data=validation_generator,\n",
    "    validation_steps=steps_per_epoch_validation,\n",
    "    verbose=1,\n",
    ")"
   ]
  },
  {
   "cell_type": "markdown",
   "id": "eae128d1-021f-449a-baba-1b94a6c567eb",
   "metadata": {},
   "source": [
    "Now that the model is trained, you are ready to start using it to classify images.\n"
   ]
  },
  {
   "cell_type": "markdown",
   "id": "e6225725-15d5-47c5-a8f0-32b5a258695f",
   "metadata": {},
   "source": [
    "Since training can take a long time when building deep learning models, it is always a good idea to save your model once the training is complete if you believe you will be using the model again later. You will be using this model in the next module, so go ahead and save your model.\n"
   ]
  },
  {
   "cell_type": "code",
   "execution_count": null,
   "id": "4498940f-4bfe-46e7-b37f-c349c29c4c3b",
   "metadata": {},
   "outputs": [],
   "source": [
    "model.save('classifier_resnet_model.h5')"
   ]
  },
  {
   "cell_type": "markdown",
   "id": "fb0bb753-a207-4d53-b452-73dd3c55014b",
   "metadata": {},
   "source": [
    "Now, you should see the model file *classifier_resnet_model.h5* apprear in the left directory pane.\n"
   ]
  },
  {
   "cell_type": "markdown",
   "id": "d197a4f2-fbc4-44a1-a2fa-d7d548cd2d01",
   "metadata": {},
   "source": [
    "### Thank you for completing this lab!\n",
    "\n",
    "This notebook was created by Alex Aklson. I hope you found this lab interesting and educational.\n"
   ]
  },
  {
   "cell_type": "markdown",
   "id": "9145ebcc-2a74-4ec9-901a-3d9bf7ff7f2f",
   "metadata": {},
   "source": [
    "This notebook is part of a course on **Coursera** called *AI Capstone Project with Deep Learning*. If you accessed this notebook outside the course, you can take this course online by clicking [here](https://cocl.us/DL0321EN_Coursera_Week3_LAB1).\n"
   ]
  },
  {
   "cell_type": "markdown",
   "id": "280eedc9-9bde-4d5d-8358-1c144f18baeb",
   "metadata": {},
   "source": [
    "\n",
    "## Change Log\n",
    "\n",
    "|  Date (YYYY-MM-DD) |  Version | Changed By  |  Change Description |\n",
    "|---|---|---|---|\n",
    "| 2020-09-18  | 2.0  | Shubham  |  Migrated Lab to Markdown and added to course repo in GitLab |\n",
    "| 2023-01-03  | 3.0  | Artem |  Updated the file import section|\n",
    "\n"
   ]
  },
  {
   "cell_type": "markdown",
   "id": "d975b95f-2884-45db-acf0-5398957793d1",
   "metadata": {},
   "source": [
    "<hr>\n",
    "\n",
    "Copyright &copy; 2020 [IBM Developer Skills Network](https://cognitiveclass.ai/?utm_source=bducopyrightlink&utm_medium=dswb&utm_campaign=bdu). This notebook and its source code are released under the terms of the [MIT License](https://bigdatauniversity.com/mit-license/).\n"
   ]
  }
 ],
 "metadata": {
  "kernelspec": {
   "display_name": ".dl-env",
   "language": "python",
   "name": "python3"
  },
  "language_info": {
   "codemirror_mode": {
    "name": "ipython",
    "version": 3
   },
   "file_extension": ".py",
   "mimetype": "text/x-python",
   "name": "python",
   "nbconvert_exporter": "python",
   "pygments_lexer": "ipython3",
   "version": "3.12.3"
  },
  "prev_pub_hash": "cf2970a1d2c549fe86023eaa076d0ce4936c4275baf2cccfdad8fe6ce3a8a6c2"
 },
 "nbformat": 4,
 "nbformat_minor": 4
}

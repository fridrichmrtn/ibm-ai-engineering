{
  "cells": [
    {
      "cell_type": "markdown",
      "id": "20c70be2-56c1-4a65-825b-e51e80ab4633",
      "metadata": {},
      "source": [
        "<p style=\"text-align:center\">\n",
        "    <a href=\"https://skills.network\" target=\"_blank\">\n",
        "    <img src=\"https://cf-courses-data.s3.us.cloud-object-storage.appdomain.cloud/assets/logos/SN_web_lightmode.png\" width=\"200\" alt=\"Skills Network Logo\"  />\n",
        "    </a>\n",
        "</p>\n"
      ]
    },
    {
      "cell_type": "markdown",
      "id": "a907aee9-941b-42d1-9e1e-91d704e61f89",
      "metadata": {},
      "source": [
        "# QLoRA with HuggingFace\n"
      ]
    },
    {
      "cell_type": "markdown",
      "id": "291902c0-15b0-454e-baf1-f497949c7af9",
      "metadata": {},
      "source": [
        "QLoRA is an extension of LoRA that leverages quantization. Quantization is the process of mapping continuous infinite values to a smaller set of discrete finite values. Effectively, the model's parameters are are stored in 2, 3, 4 or 8-bits as opposed to the usual 32-bits, lowering the number of bits needed to store information. Quantization offers two benefits:\n",
        "\n",
        "1. It reduced memory footprint. By using a finite set of discrete levels, the values can be represented with fewer bits, reducing the memory required to store them; and\n",
        "2. It allows for efficient computation. Quantized values can be represented and processed more efficiently on hardware with limited numerical precision, such as low-power microcontrollers or specialized AI/ML accelerators.\n",
        "\n",
        "Choosing QLoRA over LoRA provides several tradeoffs. QLoRA offers the following advantages of LoRA:\n",
        "\n",
        "1. Substantially smaller GPU memory usage than LoRA.\n",
        "2. Higher maximum sequence lengths resulting from the smaller GPU memory usage.\n",
        "3. Higher batch sizes resulting from the smaller GPU memory usage.\n",
        "\n",
        "The main disadvantage of QLoRA is slower fine-tuning speed.\n",
        "\n",
        "Interestingly enough, the accuracy of QLoRA and LoRA are comparable despite the fact that QLoRA offers substantially smaller models with lower GPU memory footprints than LoRA.\n",
        "\n",
        "The original QLoRA paper is available [here](https://arxiv.org/pdf/2305.14314).\n"
      ]
    },
    {
      "cell_type": "markdown",
      "id": "28222a72-6568-4731-96ec-1c6dc9a00e2e",
      "metadata": {},
      "source": [
        "**Note that the following uses the popular `BitsAndBytes` library to implement QLoRA, which only supports quantization using a CUDA-enabled GPU. You will not be able to run this notebook without a compatible GPU!**"
      ]
    },
    {
      "cell_type": "markdown",
      "id": "0b45ba83-93ac-496a-bdf4-f9951275c703",
      "metadata": {},
      "source": [
        "# __Table of Contents__\n",
        "\n",
        "<ol>\n",
        "    <li><a href=\"#Objectives\">Objectives</a></li>\n",
        "    <li>\n",
        "        <a href=\"#Setup\">Setup</a>\n",
        "        <ol>\n",
        "            <li><a href=\"#Install-required-libraries\">Install required libraries</a></li>\n",
        "            <li><a href=\"#Import-required-libraries\">Import required libraries</a></li>\n",
        "            <li><a href=\"#Define-helper-functions\">Define helper functions</a></li>\n",
        "        </ol>\n",
        "    </li>\n",
        "    <li><a href=\"#IMDB-dataset\">IMDB dataset</a></li>\n",
        "    <li><a href=\"#Tokenizer\">Tokenizer</a></li>\n",
        "    <li><a href=\"#Configure-BitsAndBytes\">Configure BitsAndBytes</a></li>\n",
        "    <li><a href=\"#Load-a-quantized-version-of-a-pretrained-model\">Load a quantized version of a pretrained model</a></li>\n",
        "    <li><a href=\"#Train\">Train</a></li>\n",
        "    <li><a href=\"#Results\">Results</a></li>\n",
        "</ol>\n"
      ]
    },
    {
      "cell_type": "markdown",
      "id": "355ad457-eebd-41db-816d-a5a548965bfc",
      "metadata": {},
      "source": [
        "---\n"
      ]
    },
    {
      "cell_type": "markdown",
      "id": "b246990b-a0a8-4b18-a9b2-8e9b38b15e29",
      "metadata": {},
      "source": [
        "# Objectives\n",
        "\n",
        "After completing this lab you will be able to:\n",
        "\n",
        "- Load and predict using models from HuggingFace\n",
        "- Fine-tune language models using QLoRA\n",
        "- Understand the advantages and disadvantages of QLoRA\n",
        "\n"
      ]
    },
    {
      "cell_type": "markdown",
      "id": "1512c29b-1f51-484d-b590-5b3eac1b0905",
      "metadata": {},
      "source": [
        "---\n"
      ]
    },
    {
      "cell_type": "markdown",
      "id": "3779ac45-7a2c-4e43-9f95-4a35d88d2fd0",
      "metadata": {},
      "source": [
        "# Setup\n"
      ]
    },
    {
      "cell_type": "markdown",
      "id": "16338e23-d2a8-4d7e-8b2e-7a16e571cb28",
      "metadata": {},
      "source": [
        "### Install required libraries\n",
        "\n",
        "For this lab, you use the following libraries, which are __not__ preinstalled in the Skills Network Labs environment. __You must run the code in the following cell__ to install them.\n"
      ]
    },
    {
      "cell_type": "code",
      "execution_count": 30,
      "id": "bb85aafc-050a-4596-94cd-2d0aee45fbd2",
      "metadata": {},
      "outputs": [],
      "source": [
        "#!pip install -U datasets==2.20.0 huggingface_hub==0.23.4 transformers==4.41.2 peft==0.11.1 bitsandbytes==0.43.1 matplotlib==3.9.0 scikit-learn==1.5.0"
      ]
    },
    {
      "cell_type": "markdown",
      "id": "9b7a8d6e-6470-4c33-9e08-671aff6a2267",
      "metadata": {},
      "source": [
        "### Import required libraries\n",
        "\n",
        "The following code imports required libraries.\n"
      ]
    },
    {
      "cell_type": "code",
      "execution_count": 1,
      "id": "1ce325c3-8308-4998-900f-8ede1e324e2f",
      "metadata": {},
      "outputs": [],
      "source": [
        "import torch\n",
        "import matplotlib.pyplot as plt\n",
        "# You can also use this section to suppress warnings generated by your code:\n",
        "def warn(*args, **kwargs):\n",
        "    pass\n",
        "import warnings\n",
        "warnings.warn = warn\n",
        "warnings.filterwarnings('ignore')\n",
        "\n",
        "import json\n",
        "\n",
        "import numpy as np\n",
        "\n",
        "from datasets import load_dataset\n",
        "from evaluate import load\n",
        "\n",
        "from transformers import AutoTokenizer, AutoModelForSequenceClassification, Trainer, TrainingArguments, BitsAndBytesConfig\n",
        "\n",
        "from peft import LoraConfig, get_peft_model, TaskType, replace_lora_weights_loftq, prepare_model_for_kbit_training"
      ]
    },
    {
      "cell_type": "markdown",
      "id": "e1d2cff9-8be4-4aac-bb76-248ec93c8c79",
      "metadata": {},
      "source": [
        "Let's check whether a compatible GPU is available:\n"
      ]
    },
    {
      "cell_type": "code",
      "execution_count": 2,
      "id": "f2a4e835-7753-4850-b303-1672770cc7c7",
      "metadata": {},
      "outputs": [],
      "source": [
        "# Move the model to the appropriate device\n",
        "device = torch.device('cuda' if torch.cuda.is_available() else 'cpu')"
      ]
    },
    {
      "cell_type": "markdown",
      "id": "5f1333bc-2040-4a75-bcd7-8295d666e31a",
      "metadata": {},
      "source": [
        "### Define helper functions\n",
        "\n",
        "Here are some helper functions. We will use these later to save and load from JSON:\n"
      ]
    },
    {
      "cell_type": "code",
      "execution_count": 3,
      "id": "3ff9d01a-654e-476f-a94c-ed8c9ddd5c5c",
      "metadata": {},
      "outputs": [],
      "source": [
        "def save_to_json(data, file_path):\n",
        "    \"\"\"\n",
        "    Save a dictionary to a JSON file.\n",
        "\n",
        "    Args:\n",
        "        data (dict): The dictionary to save.\n",
        "        file_path (str): The path to the JSON file.\n",
        "    \"\"\"\n",
        "    with open(file_path, 'w') as json_file:\n",
        "        json.dump(data, json_file, indent=4)\n",
        "    print(f\"Data successfully saved to {file_path}\")\n",
        "    \n",
        "    \n",
        "def load_from_json(file_path):\n",
        "    \"\"\"\n",
        "    Load data from a JSON file.\n",
        "\n",
        "    Args:\n",
        "        file_path (str): The path to the JSON file.\n",
        "\n",
        "    Returns:\n",
        "        dict: The data loaded from the JSON file.\n",
        "    \"\"\"\n",
        "    with open(file_path, 'r') as json_file:\n",
        "        data = json.load(json_file)\n",
        "    return data   "
      ]
    },
    {
      "cell_type": "markdown",
      "id": "d712c2c8-9db5-4409-aab1-6129dacf60dc",
      "metadata": {},
      "source": [
        "# IMDB dataset \n",
        "\n",
        "The IMDB dataset is a large movie review dataset, consisting of 50,000 movie reviews for training and 25,000 movie reviews for testing. The reviews are labeled as either positive or negative, and each review is a variable-length sequence of words. The IMDB dataset is a popular benchmark for text classification tasks, and it has been used to train a variety of natural language processing models. The following line loads the IMDB dataset:\n"
      ]
    },
    {
      "cell_type": "code",
      "execution_count": 4,
      "id": "62b498ab-361a-4066-a9c3-ef188af99bb1",
      "metadata": {},
      "outputs": [],
      "source": [
        "imdb = load_dataset(\"imdb\")"
      ]
    },
    {
      "cell_type": "markdown",
      "id": "63125fb6-8c61-4c90-bab6-24871ef67f90",
      "metadata": {},
      "source": [
        "Let's display the structure of the IMDB dataset:\n"
      ]
    },
    {
      "cell_type": "code",
      "execution_count": 5,
      "id": "c5f4a0f2-4056-4232-bb24-c0013f73647c",
      "metadata": {},
      "outputs": [
        {
          "name": "stdout",
          "output_type": "stream",
          "text": [
            "Dataset structure:\n",
            "DatasetDict({\n",
            "    train: Dataset({\n",
            "        features: ['text', 'label'],\n",
            "        num_rows: 25000\n",
            "    })\n",
            "    test: Dataset({\n",
            "        features: ['text', 'label'],\n",
            "        num_rows: 25000\n",
            "    })\n",
            "    unsupervised: Dataset({\n",
            "        features: ['text', 'label'],\n",
            "        num_rows: 50000\n",
            "    })\n",
            "})\n"
          ]
        }
      ],
      "source": [
        "# Display the structure of the dataset\n",
        "print(\"Dataset structure:\")\n",
        "print(imdb)"
      ]
    },
    {
      "cell_type": "markdown",
      "id": "7e678bd8-3a79-40a1-92b1-46db18b0dee9",
      "metadata": {},
      "source": [
        "The following displays the available splits in the dataset (train, test, unsupervised)\n"
      ]
    },
    {
      "cell_type": "code",
      "execution_count": 6,
      "id": "ca98b2e8-cdb7-451f-81de-6011decd51c8",
      "metadata": {},
      "outputs": [
        {
          "data": {
            "text/plain": [
              "dict_keys(['train', 'test', 'unsupervised'])"
            ]
          },
          "execution_count": 6,
          "metadata": {},
          "output_type": "execute_result"
        }
      ],
      "source": [
        "imdb.keys()"
      ]
    },
    {
      "cell_type": "markdown",
      "id": "ef978a1d-a8fd-45e9-a7dc-db2e69022e3b",
      "metadata": {},
      "source": [
        "Let's explore and print a sample from the training set:\n"
      ]
    },
    {
      "cell_type": "code",
      "execution_count": 7,
      "id": "68826935-4c7c-4b83-ab35-9402aac41a98",
      "metadata": {},
      "outputs": [
        {
          "name": "stdout",
          "output_type": "stream",
          "text": [
            "\n",
            "Sample from the training set:\n",
            "{'text': 'I rented I AM CURIOUS-YELLOW from my video store because of all the controversy that surrounded it when it was first released in 1967. I also heard that at first it was seized by U.S. customs if it ever tried to enter this country, therefore being a fan of films considered \"controversial\" I really had to see this for myself.<br /><br />The plot is centered around a young Swedish drama student named Lena who wants to learn everything she can about life. In particular she wants to focus her attentions to making some sort of documentary on what the average Swede thought about certain political issues such as the Vietnam War and race issues in the United States. In between asking politicians and ordinary denizens of Stockholm about their opinions on politics, she has sex with her drama teacher, classmates, and married men.<br /><br />What kills me about I AM CURIOUS-YELLOW is that 40 years ago, this was considered pornographic. Really, the sex and nudity scenes are few and far between, even then it\\'s not shot like some cheaply made porno. While my countrymen mind find it shocking, in reality sex and nudity are a major staple in Swedish cinema. Even Ingmar Bergman, arguably their answer to good old boy John Ford, had sex scenes in his films.<br /><br />I do commend the filmmakers for the fact that any sex shown in the film is shown for artistic purposes rather than just to shock people and make money to be shown in pornographic theaters in America. I AM CURIOUS-YELLOW is a good film for anyone wanting to study the meat and potatoes (no pun intended) of Swedish cinema. But really, this film doesn\\'t have much of a plot.', 'label': 0}\n"
          ]
        }
      ],
      "source": [
        "# Explore and print a sample from the training set\n",
        "print(\"\\nSample from the training set:\")\n",
        "print(imdb['train'][0])"
      ]
    },
    {
      "cell_type": "markdown",
      "id": "5422c1ce-a3b2-4631-b63d-f22ee771d286",
      "metadata": {},
      "source": [
        "The followiong displays the unique class labels in the dataset. For the IMDB dataset, the labels are integers representing sentiment, where 0 stands for “negative” and 1 stands for “positive”. Here’s how you can extract this information:\n"
      ]
    },
    {
      "cell_type": "code",
      "execution_count": 8,
      "id": "253436ca-bc6e-4953-955e-a467f645ed09",
      "metadata": {},
      "outputs": [
        {
          "name": "stdout",
          "output_type": "stream",
          "text": [
            "\n",
            "Unique labels in the dataset (class information):\n",
            "{0, 1}\n"
          ]
        }
      ],
      "source": [
        "train_labels = imdb['train']['label']\n",
        "unique_labels = set(train_labels)\n",
        "print(\"\\nUnique labels in the dataset (class information):\")\n",
        "print(unique_labels)"
      ]
    },
    {
      "cell_type": "markdown",
      "id": "26335082-7b83-4004-88af-29e02c81931c",
      "metadata": {},
      "source": [
        "The following dictionary maps class values to class names:\n"
      ]
    },
    {
      "cell_type": "code",
      "execution_count": 9,
      "id": "3d84e815-b050-45af-aa43-a18eb281d712",
      "metadata": {},
      "outputs": [
        {
          "data": {
            "text/plain": [
              "{0: 'negative', 1: 'positive'}"
            ]
          },
          "execution_count": 9,
          "metadata": {},
          "output_type": "execute_result"
        }
      ],
      "source": [
        "class_names = {0: \"negative\", 1: \"positive\"}\n",
        "class_names"
      ]
    },
    {
      "cell_type": "markdown",
      "id": "032f50aa-4ab6-4002-ba30-3089cc7fab4d",
      "metadata": {},
      "source": [
        "Since the IMDB dataset is quite large, we’ll create smaller subsets to facilitate quicker training and testing.\n",
        "\n",
        "In this notebook, we simulate training and testing using the `small_` datasets due to time constraints. However, it's important to recognize that these smaller datasets are insufficient for proper fine-tuning of the DistilBERT model. For more accurate results, a larger subsample, such as the `medium_train_dataset`, would be necessary.\n",
        "\n",
        "Consequently, all results presented here pertain to models trained with the `medium_train_dataset` and evaluated on the test set from `medium_test_dataset`. However, the notebook, as is, does NOT train models on these datasets; rather, it trains models using the `small_` datasets, as training on the `medium_` datasets would be too time-consuming.\n"
      ]
    },
    {
      "cell_type": "code",
      "execution_count": 10,
      "id": "4353854f-f163-49ff-8ca4-ced8700a8f42",
      "metadata": {},
      "outputs": [],
      "source": [
        "small_train_dataset = imdb[\"train\"].shuffle(seed=42).select([i for i in list(range(50))])\n",
        "small_test_dataset = imdb[\"test\"].shuffle(seed=42).select([i for i in list(range(50))])\n",
        "medium_train_dataset = imdb[\"train\"].shuffle(seed=42).select([i for i in list(range(3000))])\n",
        "medium_test_dataset = imdb[\"test\"].shuffle(seed=42).select([i for i in list(range(300))])"
      ]
    },
    {
      "cell_type": "markdown",
      "id": "cb7c493d-37c0-4fbf-9add-ff25a11acecb",
      "metadata": {},
      "source": [
        "# Tokenizer\n",
        "\n",
        "The following loads the DistilBERT tokenizer:    \n"
      ]
    },
    {
      "cell_type": "code",
      "execution_count": 11,
      "id": "b1a93e8c-cf7d-4a8d-b58f-0a2336905f04",
      "metadata": {},
      "outputs": [],
      "source": [
        "tokenizer = AutoTokenizer.from_pretrained(\"distilbert-base-uncased\")"
      ]
    },
    {
      "cell_type": "markdown",
      "id": "0665382d-99a1-426d-bce4-4b940c84f670",
      "metadata": {},
      "source": [
        "The tokenizer provides tokenized input IDs and an attention mask for a given input text:\n"
      ]
    },
    {
      "cell_type": "code",
      "execution_count": 12,
      "id": "b4004dfc-df0a-49ef-b158-937192bbee90",
      "metadata": {},
      "outputs": [
        {
          "name": "stdout",
          "output_type": "stream",
          "text": [
            "Input IDs: [101, 1045, 12524, 1045, 2572, 8025, 1011, 3756, 2013, 2026, 2678, 3573, 2138, 1997, 2035, 1996, 6704, 2008, 5129, 2009, 2043, 2009, 2001, 2034, 2207, 1999, 3476, 1012, 1045, 2036, 2657, 2008, 2012, 2034, 2009, 2001, 8243, 2011, 1057, 1012, 1055, 1012, 8205, 2065, 2009, 2412, 2699, 2000, 4607, 2023, 2406, 1010, 3568, 2108, 1037, 5470, 1997, 3152, 2641, 1000, 6801, 1000, 1045, 2428, 2018, 2000, 2156, 2023, 2005, 2870, 1012, 1026, 7987, 1013, 1028, 1026, 7987, 1013, 1028, 1996, 5436, 2003, 8857, 2105, 1037, 2402, 4467, 3689, 3076, 2315, 14229, 2040, 4122, 2000, 4553, 2673, 2016, 2064, 2055, 2166, 1012, 1999, 3327, 2016, 4122, 2000, 3579, 2014, 3086, 2015, 2000, 2437, 2070, 4066, 1997, 4516, 2006, 2054, 1996, 2779, 25430, 14728, 2245, 2055, 3056, 2576, 3314, 2107, 2004, 1996, 5148, 2162, 1998, 2679, 3314, 1999, 1996, 2142, 2163, 1012, 1999, 2090, 4851, 8801, 1998, 6623, 7939, 4697, 3619, 1997, 8947, 2055, 2037, 10740, 2006, 4331, 1010, 2016, 2038, 3348, 2007, 2014, 3689, 3836, 1010, 19846, 1010, 1998, 2496, 2273, 1012, 1026, 7987, 1013, 1028, 1026, 7987, 1013, 1028, 2054, 8563, 2033, 2055, 1045, 2572, 8025, 1011, 3756, 2003, 2008, 2871, 2086, 3283, 1010, 2023, 2001, 2641, 26932, 1012, 2428, 1010, 1996, 3348, 1998, 16371, 25469, 5019, 2024, 2261, 1998, 2521, 2090, 1010, 2130, 2059, 2009, 1005, 1055, 2025, 2915, 2066, 2070, 10036, 2135, 2081, 22555, 2080, 1012, 2096, 2026, 2406, 3549, 2568, 2424, 2009, 16880, 1010, 1999, 4507, 3348, 1998, 16371, 25469, 2024, 1037, 2350, 18785, 1999, 4467, 5988, 1012, 2130, 13749, 7849, 24544, 1010, 15835, 2037, 3437, 2000, 2204, 2214, 2879, 2198, 4811, 1010, 2018, 3348, 5019, 1999, 2010, 3152, 1012, 1026, 7987, 1013, 1028, 1026, 7987, 1013, 1028, 1045, 2079, 4012, 3549, 2094, 1996, 16587, 2005, 1996, 2755, 2008, 2151, 3348, 3491, 1999, 1996, 2143, 2003, 3491, 2005, 6018, 5682, 2738, 2084, 2074, 2000, 5213, 2111, 1998, 2191, 2769, 2000, 2022, 3491, 1999, 26932, 12370, 1999, 2637, 1012, 1045, 2572, 8025, 1011, 3756, 2003, 1037, 2204, 2143, 2005, 3087, 5782, 2000, 2817, 1996, 6240, 1998, 14629, 1006, 2053, 26136, 3832, 1007, 1997, 4467, 5988, 1012, 2021, 2428, 1010, 2023, 2143, 2987, 1005, 1056, 2031, 2172, 1997, 1037, 5436, 1012, 102]\n",
            "Attention Mask: [1, 1, 1, 1, 1, 1, 1, 1, 1, 1, 1, 1, 1, 1, 1, 1, 1, 1, 1, 1, 1, 1, 1, 1, 1, 1, 1, 1, 1, 1, 1, 1, 1, 1, 1, 1, 1, 1, 1, 1, 1, 1, 1, 1, 1, 1, 1, 1, 1, 1, 1, 1, 1, 1, 1, 1, 1, 1, 1, 1, 1, 1, 1, 1, 1, 1, 1, 1, 1, 1, 1, 1, 1, 1, 1, 1, 1, 1, 1, 1, 1, 1, 1, 1, 1, 1, 1, 1, 1, 1, 1, 1, 1, 1, 1, 1, 1, 1, 1, 1, 1, 1, 1, 1, 1, 1, 1, 1, 1, 1, 1, 1, 1, 1, 1, 1, 1, 1, 1, 1, 1, 1, 1, 1, 1, 1, 1, 1, 1, 1, 1, 1, 1, 1, 1, 1, 1, 1, 1, 1, 1, 1, 1, 1, 1, 1, 1, 1, 1, 1, 1, 1, 1, 1, 1, 1, 1, 1, 1, 1, 1, 1, 1, 1, 1, 1, 1, 1, 1, 1, 1, 1, 1, 1, 1, 1, 1, 1, 1, 1, 1, 1, 1, 1, 1, 1, 1, 1, 1, 1, 1, 1, 1, 1, 1, 1, 1, 1, 1, 1, 1, 1, 1, 1, 1, 1, 1, 1, 1, 1, 1, 1, 1, 1, 1, 1, 1, 1, 1, 1, 1, 1, 1, 1, 1, 1, 1, 1, 1, 1, 1, 1, 1, 1, 1, 1, 1, 1, 1, 1, 1, 1, 1, 1, 1, 1, 1, 1, 1, 1, 1, 1, 1, 1, 1, 1, 1, 1, 1, 1, 1, 1, 1, 1, 1, 1, 1, 1, 1, 1, 1, 1, 1, 1, 1, 1, 1, 1, 1, 1, 1, 1, 1, 1, 1, 1, 1, 1, 1, 1, 1, 1, 1, 1, 1, 1, 1, 1, 1, 1, 1, 1, 1, 1, 1, 1, 1, 1, 1, 1, 1, 1, 1, 1, 1, 1, 1, 1, 1, 1, 1, 1, 1, 1, 1, 1, 1, 1, 1, 1, 1, 1, 1, 1, 1, 1, 1, 1, 1, 1, 1, 1, 1, 1, 1, 1, 1, 1, 1, 1, 1, 1, 1, 1, 1, 1, 1, 1, 1, 1, 1, 1, 1]\n"
          ]
        }
      ],
      "source": [
        "my_tokens=tokenizer(imdb['train'][0]['text'])\n",
        "\n",
        "# Print the tokenized input IDs\n",
        "print(\"Input IDs:\", my_tokens['input_ids'])\n",
        "\n",
        "# Print the attention mask\n",
        "print(\"Attention Mask:\", my_tokens['attention_mask'])\n",
        "\n",
        "# If token_type_ids is present, print it\n",
        "if 'token_type_ids' in my_tokens:\n",
        "    print(\"Token Type IDs:\", my_tokens['token_type_ids'])"
      ]
    },
    {
      "cell_type": "markdown",
      "id": "3139ed90-09f8-4869-b5dd-68c68bccf587",
      "metadata": {},
      "source": [
        "The following preprocessing function tokenizes a text input. We apply this function to all texts in our datasets using the `.map()` method:\n"
      ]
    },
    {
      "cell_type": "code",
      "execution_count": 13,
      "id": "9dc3bec2-1cda-432c-ae31-64a05ab538bc",
      "metadata": {},
      "outputs": [
        {
          "data": {
            "application/vnd.jupyter.widget-view+json": {
              "model_id": "fe8e156966df441190d1c757baa17b91",
              "version_major": 2,
              "version_minor": 0
            },
            "text/plain": [
              "Map:   0%|          | 0/3000 [00:00<?, ? examples/s]"
            ]
          },
          "metadata": {},
          "output_type": "display_data"
        }
      ],
      "source": [
        "def preprocess_function(examples):\n",
        "    return tokenizer(examples[\"text\"], padding=True, truncation=True, max_length=512)\n",
        "\n",
        "small_tokenized_train = small_train_dataset.map(preprocess_function, batched=True)\n",
        "small_tokenized_test = small_test_dataset.map(preprocess_function, batched=True)\n",
        "medium_tokenized_train = medium_train_dataset.map(preprocess_function, batched=True)\n",
        "medium_tokenized_test = medium_test_dataset.map(preprocess_function, batched=True)"
      ]
    },
    {
      "cell_type": "markdown",
      "id": "557f95d9-658c-4564-b803-62490065e7d2",
      "metadata": {},
      "source": [
        "Run the following to see what a sample from the tokenized dataset looks like. Note that this dataset is identical to the original, with just the token indices and attention mask appended.\n"
      ]
    },
    {
      "cell_type": "code",
      "execution_count": 14,
      "id": "78a1a81c-34e6-4f8f-a5ea-3e87785e505d",
      "metadata": {},
      "outputs": [
        {
          "name": "stdout",
          "output_type": "stream",
          "text": [
            "{'text': 'With no affinity towards any type of filmmaking, and a healthy appreciation of documentaries, I can honestly say I was angry at myself for bothering to sit through the entire length of \"20 Dates\". I won\\'t waste your time with the plot, you may read other reviews. I will say though that Berkowitz\\'s hyper, Woody Allen-style narration was extremely annoying. You either wished he\\'d lay off the coffee or ingest some tranquilizers. And it\\'s potentially apparent to Berkowitz himself that this film was a bad idea, as parts of it details his trials to finance the documentary. Forgive me for disguising insults as compliments, but I\\'ll give credit to Berkowitz for having the skills to convince some idiot to finance this horrid piece of ****. I appreciate the boundaries & intentions of the film here, but even when regarding the standards Berkowitz sets for himself, he fires off and misses on all levels. In closing, I\\'m sure many of these female companions were not at ease going on a date with a twitchy wanna-be filmmaker, and therefore I question the film\\'s sense of authenticity. Hey Myles, I loved your film the first time I saw it... when it appeared as an episode of Seinfeld or was a film directed by Woody Allen or Kevin Smith.', 'label': 0, 'input_ids': [101, 2007, 2053, 16730, 2875, 2151, 2828, 1997, 24466, 1010, 1998, 1037, 7965, 12284, 1997, 15693, 1010, 1045, 2064, 9826, 2360, 1045, 2001, 4854, 2012, 2870, 2005, 17067, 2000, 4133, 2083, 1996, 2972, 3091, 1997, 1000, 2322, 5246, 1000, 1012, 1045, 2180, 1005, 1056, 5949, 2115, 2051, 2007, 1996, 5436, 1010, 2017, 2089, 3191, 2060, 4391, 1012, 1045, 2097, 2360, 2295, 2008, 2022, 8024, 5004, 8838, 1005, 1055, 23760, 1010, 13703, 5297, 1011, 2806, 21283, 2001, 5186, 15703, 1012, 2017, 2593, 6257, 2002, 1005, 1040, 3913, 2125, 1996, 4157, 2030, 13749, 4355, 2070, 25283, 26147, 17629, 2015, 1012, 1998, 2009, 1005, 1055, 9280, 6835, 2000, 2022, 8024, 5004, 8838, 2370, 2008, 2023, 2143, 2001, 1037, 2919, 2801, 1010, 2004, 3033, 1997, 2009, 4751, 2010, 7012, 2000, 5446, 1996, 4516, 1012, 9641, 2033, 2005, 4487, 28745, 28580, 23862, 2004, 19394, 2015, 1010, 2021, 1045, 1005, 2222, 2507, 4923, 2000, 2022, 8024, 5004, 8838, 2005, 2383, 1996, 4813, 2000, 8054, 2070, 10041, 2000, 5446, 2023, 7570, 18752, 2094, 3538, 1997, 1008, 1008, 1008, 1008, 1012, 1045, 9120, 1996, 7372, 1004, 11174, 1997, 1996, 2143, 2182, 1010, 2021, 2130, 2043, 4953, 1996, 4781, 2022, 8024, 5004, 8838, 4520, 2005, 2370, 1010, 2002, 8769, 2125, 1998, 22182, 2006, 2035, 3798, 1012, 1999, 5494, 1010, 1045, 1005, 1049, 2469, 2116, 1997, 2122, 2931, 11946, 2020, 2025, 2012, 7496, 2183, 2006, 1037, 3058, 2007, 1037, 19435, 2100, 10587, 1011, 2022, 12127, 1010, 1998, 3568, 1045, 3160, 1996, 2143, 1005, 1055, 3168, 1997, 21452, 1012, 4931, 27056, 1010, 1045, 3866, 2115, 2143, 1996, 2034, 2051, 1045, 2387, 2009, 1012, 1012, 1012, 2043, 2009, 2596, 2004, 2019, 2792, 1997, 7367, 2378, 8151, 2030, 2001, 1037, 2143, 2856, 2011, 13703, 5297, 2030, 4901, 3044, 1012, 102, 0, 0, 0, 0, 0, 0, 0, 0, 0, 0, 0, 0, 0, 0, 0, 0, 0, 0, 0, 0, 0, 0, 0, 0, 0, 0, 0, 0, 0, 0, 0, 0, 0, 0, 0, 0, 0, 0, 0, 0, 0, 0, 0, 0, 0, 0, 0, 0, 0, 0, 0, 0, 0, 0, 0, 0, 0, 0, 0, 0, 0, 0, 0, 0, 0, 0, 0, 0, 0, 0, 0, 0, 0, 0, 0, 0, 0, 0, 0, 0, 0, 0, 0, 0, 0, 0, 0, 0, 0, 0, 0, 0, 0, 0, 0, 0, 0, 0, 0, 0, 0, 0, 0, 0, 0, 0, 0, 0, 0, 0, 0, 0, 0, 0, 0, 0, 0, 0, 0, 0, 0, 0, 0, 0, 0, 0, 0, 0, 0, 0, 0, 0, 0, 0, 0, 0, 0, 0, 0, 0, 0, 0, 0, 0, 0, 0, 0, 0, 0, 0, 0, 0, 0, 0, 0, 0, 0, 0, 0, 0, 0, 0, 0, 0, 0, 0, 0, 0, 0, 0, 0, 0, 0, 0, 0, 0, 0, 0, 0, 0, 0, 0, 0, 0, 0, 0, 0, 0, 0, 0, 0, 0, 0, 0, 0, 0, 0, 0, 0, 0, 0, 0, 0, 0, 0, 0, 0, 0, 0, 0, 0, 0, 0, 0, 0, 0, 0, 0, 0, 0, 0, 0, 0, 0, 0], 'attention_mask': [1, 1, 1, 1, 1, 1, 1, 1, 1, 1, 1, 1, 1, 1, 1, 1, 1, 1, 1, 1, 1, 1, 1, 1, 1, 1, 1, 1, 1, 1, 1, 1, 1, 1, 1, 1, 1, 1, 1, 1, 1, 1, 1, 1, 1, 1, 1, 1, 1, 1, 1, 1, 1, 1, 1, 1, 1, 1, 1, 1, 1, 1, 1, 1, 1, 1, 1, 1, 1, 1, 1, 1, 1, 1, 1, 1, 1, 1, 1, 1, 1, 1, 1, 1, 1, 1, 1, 1, 1, 1, 1, 1, 1, 1, 1, 1, 1, 1, 1, 1, 1, 1, 1, 1, 1, 1, 1, 1, 1, 1, 1, 1, 1, 1, 1, 1, 1, 1, 1, 1, 1, 1, 1, 1, 1, 1, 1, 1, 1, 1, 1, 1, 1, 1, 1, 1, 1, 1, 1, 1, 1, 1, 1, 1, 1, 1, 1, 1, 1, 1, 1, 1, 1, 1, 1, 1, 1, 1, 1, 1, 1, 1, 1, 1, 1, 1, 1, 1, 1, 1, 1, 1, 1, 1, 1, 1, 1, 1, 1, 1, 1, 1, 1, 1, 1, 1, 1, 1, 1, 1, 1, 1, 1, 1, 1, 1, 1, 1, 1, 1, 1, 1, 1, 1, 1, 1, 1, 1, 1, 1, 1, 1, 1, 1, 1, 1, 1, 1, 1, 1, 1, 1, 1, 1, 1, 1, 1, 1, 1, 1, 1, 1, 1, 1, 1, 1, 1, 1, 1, 1, 1, 1, 1, 1, 1, 1, 1, 1, 1, 1, 1, 1, 1, 1, 1, 1, 1, 1, 1, 1, 1, 1, 1, 1, 1, 1, 1, 1, 1, 1, 1, 1, 1, 1, 1, 1, 1, 1, 1, 1, 1, 1, 1, 1, 1, 1, 1, 0, 0, 0, 0, 0, 0, 0, 0, 0, 0, 0, 0, 0, 0, 0, 0, 0, 0, 0, 0, 0, 0, 0, 0, 0, 0, 0, 0, 0, 0, 0, 0, 0, 0, 0, 0, 0, 0, 0, 0, 0, 0, 0, 0, 0, 0, 0, 0, 0, 0, 0, 0, 0, 0, 0, 0, 0, 0, 0, 0, 0, 0, 0, 0, 0, 0, 0, 0, 0, 0, 0, 0, 0, 0, 0, 0, 0, 0, 0, 0, 0, 0, 0, 0, 0, 0, 0, 0, 0, 0, 0, 0, 0, 0, 0, 0, 0, 0, 0, 0, 0, 0, 0, 0, 0, 0, 0, 0, 0, 0, 0, 0, 0, 0, 0, 0, 0, 0, 0, 0, 0, 0, 0, 0, 0, 0, 0, 0, 0, 0, 0, 0, 0, 0, 0, 0, 0, 0, 0, 0, 0, 0, 0, 0, 0, 0, 0, 0, 0, 0, 0, 0, 0, 0, 0, 0, 0, 0, 0, 0, 0, 0, 0, 0, 0, 0, 0, 0, 0, 0, 0, 0, 0, 0, 0, 0, 0, 0, 0, 0, 0, 0, 0, 0, 0, 0, 0, 0, 0, 0, 0, 0, 0, 0, 0, 0, 0, 0, 0, 0, 0, 0, 0, 0, 0, 0, 0, 0, 0, 0, 0, 0, 0, 0, 0, 0, 0, 0, 0, 0, 0, 0, 0, 0, 0]}\n"
          ]
        }
      ],
      "source": [
        "print(small_tokenized_train[49])"
      ]
    },
    {
      "cell_type": "markdown",
      "id": "6a772a0c-4f52-4497-9f17-989eade98f53",
      "metadata": {},
      "source": [
        "The following defines the `compute_metrics` funcion to evaluate model performance using accuracy:\n"
      ]
    },
    {
      "cell_type": "code",
      "execution_count": 15,
      "id": "fff0896d-f29f-4d4b-ba63-9114c77b3984",
      "metadata": {},
      "outputs": [],
      "source": [
        "def compute_metrics(eval_pred):\n",
        "   load_accuracy = load(\"accuracy\")\n",
        "\n",
        "  \n",
        "   logits, labels = eval_pred\n",
        "   predictions = np.argmax(logits, axis=-1)\n",
        "   accuracy = load_accuracy.compute(predictions=predictions, references=labels)[\"accuracy\"]\n",
        "\n",
        "   return {\"accuracy\": accuracy}\n"
      ]
    },
    {
      "cell_type": "markdown",
      "id": "7ef6318f-9ac8-4173-883c-86b79da2f134",
      "metadata": {},
      "source": [
        "---\n"
      ]
    },
    {
      "cell_type": "markdown",
      "id": "e5a6ae5e-5321-4c9f-af96-454b64e5dd8b",
      "metadata": {},
      "source": [
        "# Configure BitsAndBytes\n"
      ]
    },
    {
      "cell_type": "markdown",
      "id": "d987c117-9857-4391-a40b-48491eb7a561",
      "metadata": {},
      "source": [
        "The following code creates a `BitsAndBytes` config object where we define the quantization parameters. Every line in that config is commented to inform you of its function:\n"
      ]
    },
    {
      "cell_type": "code",
      "execution_count": 16,
      "id": "fe4c727e-966b-42d2-aabe-310a3703db0d",
      "metadata": {},
      "outputs": [],
      "source": [
        "config_bnb = BitsAndBytesConfig(\n",
        "    load_in_4bit=True, # quantize the model to 4-bits when you load it\n",
        "    bnb_4bit_quant_type=\"nf4\", # use a special 4-bit data type for weights initialized from a normal distribution\n",
        "    bnb_4bit_use_double_quant=True, # nested quantization scheme to quantize the already quantized weights\n",
        "    bnb_4bit_compute_dtype=torch.bfloat16, # use bfloat16 for faster computation\n",
        "    llm_int8_skip_modules=[\"classifier\", \"pre_classifier\"] #  Don't convert the \"classifier\" and \"pre_classifier\" layers to 8-bit\n",
        ")"
      ]
    },
    {
      "cell_type": "markdown",
      "id": "e4802df2-feb2-4bb8-a60f-b502171bb877",
      "metadata": {},
      "source": [
        "# Load a quantized version of a pretrained model\n"
      ]
    },
    {
      "cell_type": "markdown",
      "id": "de852c2e-d067-432b-9ed9-b6f482f4d36d",
      "metadata": {},
      "source": [
        "The following code creates two lists. The first list (`id2label`) maps ids to text labels for the two classes in this problem, and the second list (`label2id`) swaps the keys and the values to map the text labels to the ids:\n"
      ]
    },
    {
      "cell_type": "code",
      "execution_count": 17,
      "id": "67e377d2-28cb-4864-8648-d1392efa3046",
      "metadata": {},
      "outputs": [],
      "source": [
        "id2label = {0: \"NEGATIVE\", 1: \"POSITIVE\"}\n",
        "label2id = dict((v,k) for k,v in id2label.items())"
      ]
    },
    {
      "cell_type": "markdown",
      "id": "6fc12f29-95da-49cd-b5fa-0b991aa44d76",
      "metadata": {},
      "source": [
        "The following instantiates an `AutoModelForSequenceClassification` from a pre-trained `distilbert-base-uncased` model using the `BitsAndBytesConfig` defined above and the id to label and label to id mappings. The `quantization_config` parameter in particular indicates that a quantized version of the model should be loaded, with the quantization settings contained in the config object passed to `quantization_config`\n"
      ]
    },
    {
      "cell_type": "code",
      "execution_count": 18,
      "id": "9e4cff39-6adc-48ed-84a0-53daacad0f0f",
      "metadata": {},
      "outputs": [
        {
          "name": "stderr",
          "output_type": "stream",
          "text": [
            "`low_cpu_mem_usage` was None, now default to True since model is quantized.\n",
            "Some weights of DistilBertForSequenceClassification were not initialized from the model checkpoint at distilbert-base-uncased and are newly initialized: ['classifier.bias', 'classifier.weight', 'pre_classifier.bias', 'pre_classifier.weight']\n",
            "You should probably TRAIN this model on a down-stream task to be able to use it for predictions and inference.\n"
          ]
        }
      ],
      "source": [
        "model_qlora = AutoModelForSequenceClassification.from_pretrained(\"distilbert-base-uncased\",\n",
        "                                                                 id2label=id2label,\n",
        "                                                                 label2id=label2id,\n",
        "                                                                 num_labels=2,\n",
        "                                                                 quantization_config=config_bnb\n",
        "                                                                )"
      ]
    },
    {
      "cell_type": "markdown",
      "id": "2f7b3f87-d96a-4d08-8d7b-5de0164ac8e2",
      "metadata": {},
      "source": [
        "`model_qlora` is now a quantized instance of the model, but the model is not ready for quantized training just yet. This is accomplished by passing the model through the `prepare_model_for_kbit_training()` function:\n"
      ]
    },
    {
      "cell_type": "code",
      "execution_count": 19,
      "id": "531cc0b3-1e31-479b-8c69-3ad16751d5f4",
      "metadata": {},
      "outputs": [],
      "source": [
        "model_qlora = prepare_model_for_kbit_training(model_qlora)"
      ]
    },
    {
      "cell_type": "markdown",
      "id": "fecd7a1d-e1a5-4181-b9f4-f70816f55a99",
      "metadata": {},
      "source": [
        "Despite its name, `model_qlora` is not a LoRA or QLoRA object yet, but a quantized instance of a pre-trained `distilbert-base-uncased` model that has been made ready for quantized training. To allow this model to be fine-tuned using QLoRA, we must convert the linear layers into LoRA layers. This is done analogously to the way LoRA is applied to a non-quantized model:\n"
      ]
    },
    {
      "cell_type": "code",
      "execution_count": 20,
      "id": "73ae922b-5941-4012-bf61-b974811cb79e",
      "metadata": {},
      "outputs": [],
      "source": [
        "lora_config = LoraConfig(\n",
        "    task_type=TaskType.SEQ_CLS,  # Specify the task type as sequence classification\n",
        "    r=8,  # Rank of the low-rank matrices\n",
        "    lora_alpha=16,  # Scaling factor\n",
        "    lora_dropout=0.1,  # Dropout rate  \n",
        "    target_modules=['q_lin','k_lin','v_lin'] # which modules\n",
        ")\n",
        "\n",
        "peft_model_qlora = get_peft_model(model_qlora, lora_config)"
      ]
    },
    {
      "cell_type": "markdown",
      "id": "058a4ca5-3e04-48a6-8b2f-7a16d1e4e337",
      "metadata": {},
      "source": [
        "`peft_model_qlora` is now a QLoRA model which we can go ahead and train. However, before doing so, we will perform one other optimization: we will reinitialize the LoRA weights using LoftQ, which has been shown to improve performance when training quantized models. You can find information about LoftQ [here](https://arxiv.org/abs/2310.08659).\n"
      ]
    },
    {
      "cell_type": "code",
      "execution_count": 21,
      "id": "8566e7a3-f731-4b0d-9ac3-e97ea1811c19",
      "metadata": {},
      "outputs": [],
      "source": [
        "replace_lora_weights_loftq(peft_model_qlora)"
      ]
    },
    {
      "cell_type": "markdown",
      "id": "53494369-2dc0-4d3d-8c11-59269149b740",
      "metadata": {},
      "source": [
        "Let's print out the model summary:\n"
      ]
    },
    {
      "cell_type": "code",
      "execution_count": 22,
      "id": "12a8cbd0-940e-43a5-98c6-ca51f62e250c",
      "metadata": {},
      "outputs": [
        {
          "name": "stdout",
          "output_type": "stream",
          "text": [
            "PeftModelForSequenceClassification(\n",
            "  (base_model): LoraModel(\n",
            "    (model): DistilBertForSequenceClassification(\n",
            "      (distilbert): DistilBertModel(\n",
            "        (embeddings): Embeddings(\n",
            "          (word_embeddings): Embedding(30522, 768, padding_idx=0)\n",
            "          (position_embeddings): Embedding(512, 768)\n",
            "          (LayerNorm): LayerNorm((768,), eps=1e-12, elementwise_affine=True)\n",
            "          (dropout): Dropout(p=0.1, inplace=False)\n",
            "        )\n",
            "        (transformer): Transformer(\n",
            "          (layer): ModuleList(\n",
            "            (0-5): 6 x TransformerBlock(\n",
            "              (attention): DistilBertSdpaAttention(\n",
            "                (dropout): Dropout(p=0.1, inplace=False)\n",
            "                (q_lin): lora.Linear4bit(\n",
            "                  (base_layer): Linear4bit(in_features=768, out_features=768, bias=True)\n",
            "                  (lora_dropout): ModuleDict(\n",
            "                    (default): Dropout(p=0.1, inplace=False)\n",
            "                  )\n",
            "                  (lora_A): ModuleDict(\n",
            "                    (default): Linear(in_features=768, out_features=8, bias=False)\n",
            "                  )\n",
            "                  (lora_B): ModuleDict(\n",
            "                    (default): Linear(in_features=8, out_features=768, bias=False)\n",
            "                  )\n",
            "                  (lora_embedding_A): ParameterDict()\n",
            "                  (lora_embedding_B): ParameterDict()\n",
            "                  (lora_magnitude_vector): ModuleDict()\n",
            "                )\n",
            "                (k_lin): lora.Linear4bit(\n",
            "                  (base_layer): Linear4bit(in_features=768, out_features=768, bias=True)\n",
            "                  (lora_dropout): ModuleDict(\n",
            "                    (default): Dropout(p=0.1, inplace=False)\n",
            "                  )\n",
            "                  (lora_A): ModuleDict(\n",
            "                    (default): Linear(in_features=768, out_features=8, bias=False)\n",
            "                  )\n",
            "                  (lora_B): ModuleDict(\n",
            "                    (default): Linear(in_features=8, out_features=768, bias=False)\n",
            "                  )\n",
            "                  (lora_embedding_A): ParameterDict()\n",
            "                  (lora_embedding_B): ParameterDict()\n",
            "                  (lora_magnitude_vector): ModuleDict()\n",
            "                )\n",
            "                (v_lin): lora.Linear4bit(\n",
            "                  (base_layer): Linear4bit(in_features=768, out_features=768, bias=True)\n",
            "                  (lora_dropout): ModuleDict(\n",
            "                    (default): Dropout(p=0.1, inplace=False)\n",
            "                  )\n",
            "                  (lora_A): ModuleDict(\n",
            "                    (default): Linear(in_features=768, out_features=8, bias=False)\n",
            "                  )\n",
            "                  (lora_B): ModuleDict(\n",
            "                    (default): Linear(in_features=8, out_features=768, bias=False)\n",
            "                  )\n",
            "                  (lora_embedding_A): ParameterDict()\n",
            "                  (lora_embedding_B): ParameterDict()\n",
            "                  (lora_magnitude_vector): ModuleDict()\n",
            "                )\n",
            "                (out_lin): Linear4bit(in_features=768, out_features=768, bias=True)\n",
            "              )\n",
            "              (sa_layer_norm): LayerNorm((768,), eps=1e-12, elementwise_affine=True)\n",
            "              (ffn): FFN(\n",
            "                (dropout): Dropout(p=0.1, inplace=False)\n",
            "                (lin1): Linear4bit(in_features=768, out_features=3072, bias=True)\n",
            "                (lin2): Linear4bit(in_features=3072, out_features=768, bias=True)\n",
            "                (activation): GELUActivation()\n",
            "              )\n",
            "              (output_layer_norm): LayerNorm((768,), eps=1e-12, elementwise_affine=True)\n",
            "            )\n",
            "          )\n",
            "        )\n",
            "      )\n",
            "      (pre_classifier): ModulesToSaveWrapper(\n",
            "        (original_module): Linear(in_features=768, out_features=768, bias=True)\n",
            "        (modules_to_save): ModuleDict(\n",
            "          (default): Linear(in_features=768, out_features=768, bias=True)\n",
            "        )\n",
            "      )\n",
            "      (classifier): ModulesToSaveWrapper(\n",
            "        (original_module): Linear(in_features=768, out_features=2, bias=True)\n",
            "        (modules_to_save): ModuleDict(\n",
            "          (default): Linear(in_features=768, out_features=2, bias=True)\n",
            "        )\n",
            "      )\n",
            "      (dropout): Dropout(p=0.2, inplace=False)\n",
            "    )\n",
            "  )\n",
            ")\n"
          ]
        }
      ],
      "source": [
        "print(peft_model_qlora)"
      ]
    },
    {
      "cell_type": "markdown",
      "id": "1b7a05cf-b78b-4bea-a348-810239ba5cd4",
      "metadata": {},
      "source": [
        "As you can see, the `distilbert-base-uncased` model adapted for QLoRA fine-tuning has a similar structure to the non-quantized LoRA model derived from `distilbert-base-uncased`. The key difference in the structure's summary is the conversion of some of the `Linear` layers into `Linear4bit` layers, which are 4-bit linear layers that use blockwise k-bit quantization under the hood.\n"
      ]
    },
    {
      "cell_type": "code",
      "execution_count": 23,
      "id": "ab1e38c3-6b3c-4be0-a27b-321c36a08347",
      "metadata": {},
      "outputs": [
        {
          "name": "stdout",
          "output_type": "stream",
          "text": [
            "trainable params: 813,314 || all params: 67,768,324 || trainable%: 1.2001\n"
          ]
        }
      ],
      "source": [
        "peft_model_qlora.print_trainable_parameters()"
      ]
    },
    {
      "cell_type": "markdown",
      "id": "cd370324-e7ff-469b-b7dc-9b40e450adeb",
      "metadata": {},
      "source": [
        "As can be seen above, fine-tuning the `distilbert-base-uncased` model using QLoRA with a rank of 8 results in just 1.2% of the resulting parameters being trainable.\n"
      ]
    },
    {
      "cell_type": "markdown",
      "id": "ba2583f2-0fcd-466e-8326-b143c64aebc1",
      "metadata": {},
      "source": [
        "# Train\n"
      ]
    },
    {
      "cell_type": "markdown",
      "id": "65fa7217-4948-4126-8dee-16ca22a95d4f",
      "metadata": {},
      "source": [
        "Fine-tuning the QLoRA model from this point on is identical to fine-tuning a LoRA model. First, define the training arguments:\n"
      ]
    },
    {
      "cell_type": "code",
      "execution_count": 24,
      "id": "e7ae57a9-541e-4280-ac0a-deb00a32e3ea",
      "metadata": {},
      "outputs": [],
      "source": [
        "training_args = TrainingArguments(\n",
        "    output_dir=\"./results_qlora\",\n",
        "    num_train_epochs=10,\n",
        "    per_device_train_batch_size=16,\n",
        "    per_device_eval_batch_size=64,\n",
        "    learning_rate=2e-5,\n",
        "    evaluation_strategy=\"epoch\",\n",
        "    weight_decay=0.01\n",
        ")"
      ]
    },
    {
      "cell_type": "markdown",
      "id": "ee14eeaf-fb3f-4a9f-8728-441841f9343d",
      "metadata": {},
      "source": [
        "Then, train the model using `Trainer`:\n"
      ]
    },
    {
      "cell_type": "code",
      "execution_count": 25,
      "id": "1cf355ca-0518-4001-9863-499606b9f480",
      "metadata": {},
      "outputs": [
        {
          "name": "stderr",
          "output_type": "stream",
          "text": [
            "No label_names provided for model class `PeftModelForSequenceClassification`. Since `PeftModel` hides base models input arguments, if label_names is not given, label_names can't be set automatically within `Trainer`. Note that empty label_names list will be used instead.\n"
          ]
        },
        {
          "data": {
            "text/html": [
              "\n",
              "    <div>\n",
              "      \n",
              "      <progress value='1880' max='1880' style='width:300px; height:20px; vertical-align: middle;'></progress>\n",
              "      [1880/1880 18:18, Epoch 10/10]\n",
              "    </div>\n",
              "    <table border=\"1\" class=\"dataframe\">\n",
              "  <thead>\n",
              " <tr style=\"text-align: left;\">\n",
              "      <th>Epoch</th>\n",
              "      <th>Training Loss</th>\n",
              "      <th>Validation Loss</th>\n",
              "      <th>Accuracy</th>\n",
              "    </tr>\n",
              "  </thead>\n",
              "  <tbody>\n",
              "    <tr>\n",
              "      <td>1</td>\n",
              "      <td>No log</td>\n",
              "      <td>0.641052</td>\n",
              "      <td>0.780000</td>\n",
              "    </tr>\n",
              "    <tr>\n",
              "      <td>2</td>\n",
              "      <td>No log</td>\n",
              "      <td>0.401679</td>\n",
              "      <td>0.820000</td>\n",
              "    </tr>\n",
              "    <tr>\n",
              "      <td>3</td>\n",
              "      <td>0.538400</td>\n",
              "      <td>0.374228</td>\n",
              "      <td>0.833333</td>\n",
              "    </tr>\n",
              "    <tr>\n",
              "      <td>4</td>\n",
              "      <td>0.538400</td>\n",
              "      <td>0.364604</td>\n",
              "      <td>0.833333</td>\n",
              "    </tr>\n",
              "    <tr>\n",
              "      <td>5</td>\n",
              "      <td>0.538400</td>\n",
              "      <td>0.362106</td>\n",
              "      <td>0.833333</td>\n",
              "    </tr>\n",
              "    <tr>\n",
              "      <td>6</td>\n",
              "      <td>0.308600</td>\n",
              "      <td>0.362688</td>\n",
              "      <td>0.830000</td>\n",
              "    </tr>\n",
              "    <tr>\n",
              "      <td>7</td>\n",
              "      <td>0.308600</td>\n",
              "      <td>0.359308</td>\n",
              "      <td>0.833333</td>\n",
              "    </tr>\n",
              "    <tr>\n",
              "      <td>8</td>\n",
              "      <td>0.286700</td>\n",
              "      <td>0.358353</td>\n",
              "      <td>0.833333</td>\n",
              "    </tr>\n",
              "    <tr>\n",
              "      <td>9</td>\n",
              "      <td>0.286700</td>\n",
              "      <td>0.357634</td>\n",
              "      <td>0.833333</td>\n",
              "    </tr>\n",
              "    <tr>\n",
              "      <td>10</td>\n",
              "      <td>0.286700</td>\n",
              "      <td>0.359594</td>\n",
              "      <td>0.833333</td>\n",
              "    </tr>\n",
              "  </tbody>\n",
              "</table><p>"
            ],
            "text/plain": [
              "<IPython.core.display.HTML object>"
            ]
          },
          "metadata": {},
          "output_type": "display_data"
        },
        {
          "data": {
            "application/vnd.jupyter.widget-view+json": {
              "model_id": "fab0e3c249004f0899d965d10cec4abd",
              "version_major": 2,
              "version_minor": 0
            },
            "text/plain": [
              "Downloading builder script:   0%|          | 0.00/4.20k [00:00<?, ?B/s]"
            ]
          },
          "metadata": {},
          "output_type": "display_data"
        },
        {
          "data": {
            "text/plain": [
              "TrainOutput(global_step=1880, training_loss=0.3586841015105552, metrics={'train_runtime': 1098.9461, 'train_samples_per_second': 27.299, 'train_steps_per_second': 1.711, 'total_flos': 4048976977920000.0, 'train_loss': 0.3586841015105552, 'epoch': 10.0})"
            ]
          },
          "execution_count": 25,
          "metadata": {},
          "output_type": "execute_result"
        }
      ],
      "source": [
        "trainer_qlora = Trainer(\n",
        "    model=peft_model_qlora,\n",
        "    args=training_args,\n",
        "    train_dataset=medium_tokenized_train,\n",
        "    eval_dataset=medium_tokenized_test,\n",
        "    tokenizer=tokenizer,\n",
        "    compute_metrics=compute_metrics)\n",
        "\n",
        "\n",
        "trainer_qlora.train()"
      ]
    },
    {
      "cell_type": "markdown",
      "id": "66abdc6d-a495-4848-bb26-ac0b404228df",
      "metadata": {},
      "source": [
        "Training on a V100 GPU results in the following table:\n",
        "\n",
        "![Training table](https://cf-courses-data.s3.us.cloud-object-storage.appdomain.cloud/r4Xq0iBAkaIC1UNg7S5w0Q/Screenshot%202024-07-08%20at%2010-48-20%E2%80%AFAM.png)\n"
      ]
    },
    {
      "cell_type": "markdown",
      "id": "0b451367-2393-49ac-a36b-7a43cd791f48",
      "metadata": {},
      "source": [
        "As you can see, training the 1.2% of parameters on a V100 takes just under 10 minutes and results in a validation accuracy of 84.3%. This is comparable to the accuracy we can expect to get from LoRA.\n"
      ]
    },
    {
      "cell_type": "markdown",
      "id": "609d6cec-eff7-4ce4-8cc6-1476f88f2593",
      "metadata": {},
      "source": [
        "You can save a trained QLoRA model using the following:\n"
      ]
    },
    {
      "cell_type": "code",
      "execution_count": 26,
      "id": "79fdc154-f0c5-4331-9a08-6835342a0c50",
      "metadata": {},
      "outputs": [],
      "source": [
        "trainer_qlora.save_model(\"./qlora_final_model\")"
      ]
    },
    {
      "cell_type": "markdown",
      "id": "d559cc44-43d8-4102-af62-9d389bec4a5a",
      "metadata": {},
      "source": [
        "# Results\n"
      ]
    },
    {
      "cell_type": "markdown",
      "id": "3fea93c6-57c1-4b66-b35b-6e0394b9032a",
      "metadata": {},
      "source": [
        "To analyze how training progresses with each epoch, you can also extract the log history:\n"
      ]
    },
    {
      "cell_type": "code",
      "execution_count": 27,
      "id": "60506207-f39a-4c38-8980-415ace1e04d3",
      "metadata": {},
      "outputs": [],
      "source": [
        "log_history_qlora = trainer_qlora.state.log_history"
      ]
    },
    {
      "cell_type": "markdown",
      "id": "5af8ed18-d513-4a3f-a6fd-131c87709afc",
      "metadata": {},
      "source": [
        "This log history can be used to calculate our accuracy metric using the following `lambda` function:\n"
      ]
    },
    {
      "cell_type": "code",
      "execution_count": 28,
      "id": "b503395b-4ef8-4850-905b-2d9513e7b402",
      "metadata": {},
      "outputs": [],
      "source": [
        "get_metric_qlora = lambda metric, log_history_qlora: [log[metric] for log in log_history_qlora if metric in log]"
      ]
    },
    {
      "cell_type": "markdown",
      "id": "bd7bb9af-45ea-4a82-b6c9-9a98a27767ab",
      "metadata": {},
      "source": [
        "And this function can, in turn, be used to plot what happens to the evaluation loss and accuracy during training:\n"
      ]
    },
    {
      "cell_type": "code",
      "execution_count": 29,
      "id": "f7fc3387-acc5-4539-82dc-216c345e375c",
      "metadata": {},
      "outputs": [
        {
          "data": {
            "text/plain": [
              "<matplotlib.legend.Legend at 0x78853dfc2ab0>"
            ]
          },
          "execution_count": 29,
          "metadata": {},
          "output_type": "execute_result"
        },
        {
          "data": {
            "image/png": "[encoded data removed]",
            "text/plain": [
              "<Figure size 640x480 with 1 Axes>"
            ]
          },
          "metadata": {},
          "output_type": "display_data"
        }
      ],
      "source": [
        "eval_accuracy_qlora=get_metric_qlora('eval_accuracy',log_history_qlora)\n",
        "eval_loss_qlora=get_metric_qlora('eval_loss',log_history_qlora)\n",
        "plt.plot(eval_accuracy_qlora,label='eval_accuracy')\n",
        "plt.plot(eval_loss_qlora,label='eval_loss')\n",
        "plt.xlabel(\"epoch\")\n",
        "plt.legend()"
      ]
    },
    {
      "cell_type": "markdown",
      "id": "dc138865-d9cd-423b-b626-511f4ed76809",
      "metadata": {},
      "source": [
        "The above code results in the following plot:\n",
        "\n",
        "![qlora_training_plot](https://cf-courses-data.s3.us.cloud-object-storage.appdomain.cloud/wzMMj73IuM6fKmPZtKtQNA/qlora-training-plot.png)\n"
      ]
    },
    {
      "cell_type": "markdown",
      "id": "16ed79ea-fb3b-4e27-9178-3849cb168bd3",
      "metadata": {},
      "source": [
        "The above code indicates that, in this particular instance, the bulk of the benefits from fine-tuning were gained within the first 3 epochs.\n"
      ]
    },
    {
      "cell_type": "markdown",
      "id": "4ed20092-50b1-4edb-b1ba-e57cf0dde90d",
      "metadata": {},
      "source": [
        "---\n"
      ]
    },
    {
      "cell_type": "markdown",
      "id": "32ff5c93-ed81-4424-bef0-f1a101950993",
      "metadata": {},
      "source": [
        "## Congratulations! You have completed the lab\n"
      ]
    },
    {
      "cell_type": "markdown",
      "id": "0be854a9-1628-498c-bceb-9a814d27e408",
      "metadata": {},
      "source": [
        "## Authors\n"
      ]
    },
    {
      "cell_type": "markdown",
      "id": "4413f81c-981b-4b75-a82a-52bdc6e1641e",
      "metadata": {},
      "source": [
        "[Wojciech \"Victor\" Fulmyk](https://www.linkedin.com/in/wfulmyk) is a Data Scientist and a PhD Candidate in Economics at the University of Calgary.\n"
      ]
    },
    {
      "cell_type": "markdown",
      "id": "31730739-42ad-4bce-8649-23b50f8f2f25",
      "metadata": {},
      "source": [
        "[Fateme Akbari](https://www.linkedin.com/in/fatemeakbari/) is a Ph.D. candidate in Information Systems at McMaster University with demonstrated research experience in Machine Learning and NLP.\n"
      ]
    },
    {
      "cell_type": "markdown",
      "id": "6ec5a7d5-e013-4949-b657-237e232fbcad",
      "metadata": {},
      "source": [
        "[Joseph Santarcangelo](https://author.skills.network/instructors/joseph_santarcangelo) has a Ph.D. in Electrical Engineering, his research focused on using machine learning, signal processing, and computer vision to determine how videos impact human cognition. Joseph has been working for IBM since he completed his PhD.\n"
      ]
    },
    {
      "cell_type": "markdown",
      "id": "35a887ec-59bc-4631-b730-453efc6adfd1",
      "metadata": {},
      "source": [
        "## References\n",
        "\n",
        "[Finetuning with LoRA -- A Hands-On Example](https://lightning.ai/lightning-ai/studios/code-lora-from-scratch)\n",
        "\n",
        "[QLORA: Efficient Finetuning of Quantized LLMs](https://arxiv.org/pdf/2305.14314)\n",
        "\n",
        "[Making LLMs even more accessible with bitsandbytes, 4-bit quantization and QLoRA](https://huggingface.co/blog/4bit-transformers-bitsandbytes)\n"
      ]
    },
    {
      "cell_type": "markdown",
      "id": "c4c29be2-9e2e-4c13-b853-0b5de6904938",
      "metadata": {},
      "source": [
        "## Change Log\n"
      ]
    },
    {
      "cell_type": "markdown",
      "id": "f4c75d10-318d-41a3-86d6-7a10616740bb",
      "metadata": {},
      "source": [
        "|Date (YYYY-MM-DD)|Version|Changed By|Change Description|\n",
        "|-|-|-|-|\n",
        "|2024-07-09|0.99|Victor|Lab written|\n"
      ]
    },
    {
      "cell_type": "markdown",
      "id": "2e716424-ffeb-4ed9-b829-4bd10f2a9985",
      "metadata": {},
      "source": [
        "Copyright © 2024 IBM Corporation. All rights reserved.\n"
      ]
    }
  ],
  "metadata": {
    "kernelspec": {
      "display_name": ".ai-env",
      "language": "python",
      "name": "python3"
    },
    "language_info": {
      "codemirror_mode": {
        "name": "ipython",
        "version": 3
      },
      "file_extension": ".py",
      "mimetype": "text/x-python",
      "name": "python",
      "nbconvert_exporter": "python",
      "pygments_lexer": "ipython3",
      "version": "3.12.3"
    },
    "prev_pub_hash": "856043195c4f7d96c767c084082c1b6e5e7de2222404f63f3e209d4961071444"
  },
  "nbformat": 4,
  "nbformat_minor": 4
}

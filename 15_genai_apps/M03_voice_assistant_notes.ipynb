{
 "cells": [
  {
   "cell_type": "markdown",
   "id": "4c3aab89",
   "metadata": {},
   "source": [
    "# Voice assistant w/ IBM Watson and OpenAI GPT\n",
    "\n",
    "* Components\n",
    "    * FE\n",
    "        * HTML, CSS, JavaScript\n",
    "    * BE\n",
    "        * Python & Flask\n",
    "        * STT -> IBM Watson\n",
    "        * Intelligence -> GPT\n",
    "        * TTS -> IBM Watson\n",
    "\n",
    "# Docker\n",
    "\n",
    "* open platform/engine for developing, shipping & running apps as containers\n",
    "* adopted due to simple architecture, scalability, easy portability\n",
    "* separates apps from infrastructure (runtime, operating system, hardware)\n",
    "* uses kernel features, manages namespaces to isolate workspaces and governing the access\n",
    "* related tech -> tools & tech (kubernetes, swarm) & development methodology (serverless)\n",
    "* speeds up CI/CD\n",
    "* not great when\n",
    "    * high performance or security is needed\n",
    "    * monolith design is in place\n",
    "    * app with a lots of GUI features\n",
    "    * standard desktop apps"
   ]
  }
 ],
 "metadata": {
  "language_info": {
   "name": "python"
  }
 },
 "nbformat": 4,
 "nbformat_minor": 5
}

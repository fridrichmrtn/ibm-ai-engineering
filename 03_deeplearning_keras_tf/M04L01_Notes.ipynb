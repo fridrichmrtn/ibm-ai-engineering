{
 "cells": [
  {
   "cell_type": "markdown",
   "metadata": {},
   "source": [
    "# Unsupervised learning, autoencoders, and diffusion models\n",
    "* unsupervised learning\n",
    "    * clustering, association, dimensionality reduction\n",
    "* autoencoders\n",
    "    * dimensionality reduction or feature learning\n",
    "    * encoder-decoder, minimize distance between input and reconstructed output\n",
    "* generative adversarial networks\n",
    "    * generator, generates new data\n",
    "    * discriminator, evaluates the authenticity of the generated data\n",
    "\n",
    "## Autoencoders\n",
    "* unsupervised task such as feature learning, data denoising, dimension reduction\n",
    "* minimizes difference between input and reconstructed output of the network\n",
    "* architecture\n",
    "    * encoder\n",
    "        * compresses data into smaller representation\n",
    "    * bottleneck\n",
    "        * compressed representation\n",
    "    * decoder\n",
    "        * reconstructing data from compressed representation to the original form\n",
    "* different types\n",
    "    * basic ae, a hidden layer in both encoder and decoder\n",
    "    * variational ae, probabilistic elements used for generating new data\n",
    "    * conv ae, conv layers and image data\n"
   ]
  }
 ],
 "metadata": {
  "language_info": {
   "name": "python"
  }
 },
 "nbformat": 4,
 "nbformat_minor": 2
}

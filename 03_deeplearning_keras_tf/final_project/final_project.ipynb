{
 "cells": [
  {
   "cell_type": "markdown",
   "metadata": {},
   "source": [
    "> Martin Fridrich 01/2025"
   ]
  },
  {
   "cell_type": "markdown",
   "metadata": {},
   "source": [
    "# Waste product classification"
   ]
  },
  {
   "cell_type": "markdown",
   "metadata": {},
   "source": [
    "## Data"
   ]
  },
  {
   "cell_type": "code",
   "execution_count": 1,
   "metadata": {},
   "outputs": [],
   "source": [
    "#%pip install -q -r dl-env-requirements.txt"
   ]
  },
  {
   "cell_type": "code",
   "execution_count": 2,
   "metadata": {},
   "outputs": [
    {
     "name": "stderr",
     "output_type": "stream",
     "text": [
      "2025-01-11 15:03:55.340256: E external/local_xla/xla/stream_executor/cuda/cuda_fft.cc:477] Unable to register cuFFT factory: Attempting to register factory for plugin cuFFT when one has already been registered\n",
      "WARNING: All log messages before absl::InitializeLog() is called are written to STDERR\n",
      "E0000 00:00:1736604235.351133   44206 cuda_dnn.cc:8310] Unable to register cuDNN factory: Attempting to register factory for plugin cuDNN when one has already been registered\n",
      "E0000 00:00:1736604235.354587   44206 cuda_blas.cc:1418] Unable to register cuBLAS factory: Attempting to register factory for plugin cuBLAS when one has already been registered\n",
      "2025-01-11 15:03:55.367094: I tensorflow/core/platform/cpu_feature_guard.cc:210] This TensorFlow binary is optimized to use available CPU instructions in performance-critical operations.\n",
      "To enable the following instructions: AVX2 FMA, in other operations, rebuild TensorFlow with the appropriate compiler flags.\n"
     ]
    },
    {
     "name": "stdout",
     "output_type": "stream",
     "text": [
      "Installed tensorflow version: 2.18.0\n"
     ]
    }
   ],
   "source": [
    "# print out tf version\n",
    "import tensorflow as tf\n",
    "print(f\"Installed tensorflow version: {tf.__version__}\")"
   ]
  },
  {
   "cell_type": "code",
   "execution_count": 3,
   "metadata": {},
   "outputs": [
    {
     "name": "stdout",
     "output_type": "stream",
     "text": [
      "Data already exists.\n",
      "Found 800 images belonging to 2 classes.\n",
      "Found 200 images belonging to 2 classes.\n",
      "Found 200 images belonging to 2 classes.\n",
      "Train data generator consists of  25 batches.\n"
     ]
    }
   ],
   "source": [
    "import os\n",
    "import zipfile\n",
    "import requests\n",
    "\n",
    "class DataUtils():\n",
    "\n",
    "    # Data download and extraction\n",
    "\n",
    "    def __init__(self):\n",
    "        self.data_dir = \"data\"\n",
    "        self.data_url = \"https://cf-courses-data.s3.us.cloud-object-storage.appdomain.cloud/kd6057VPpABQ2FqCbgu9YQ/o-vs-r-split-reduced-1200.zip\"\n",
    "        self.data_file = \"o-vs-r-split-reduced-1200.zip\"\n",
    "        self.validation_split = 0.2\n",
    "        self.img_size = (150, 150)\n",
    "        self.batch_size = 32\n",
    "\n",
    "    def download_data(self):\n",
    "        if not os.path.exists(self.data_dir):\n",
    "            os.makedirs(self.data_dir)\n",
    "            \n",
    "        data_path = os.path.join(self.data_dir, self.data_file)\n",
    "        \n",
    "        if not os.path.exists(data_path):\n",
    "            print(\"Downloading data...\")\n",
    "            response = requests.get(self.data_url)\n",
    "            with open(data_path, 'wb') as f:\n",
    "                f.write(response.content)\n",
    "            \n",
    "            print(\"Extracting data...\")\n",
    "            with zipfile.ZipFile(data_path, 'r') as zip_ref:\n",
    "                zip_ref.extractall(self.data_dir)\n",
    "            \n",
    "            #print(\"Removing zip file...\")\n",
    "            #os.remove(data_path)\n",
    "            \n",
    "            print(\"Data download and extraction completed.\")\n",
    "        else:\n",
    "            print(\"Data already exists.\")\n",
    "        \n",
    "        return self\n",
    "    # Data generators\n",
    "\n",
    "    def _get_train_augmentation(self):\n",
    "        return tf.keras.preprocessing.image.ImageDataGenerator(\n",
    "            validation_split=self.validation_split,\n",
    "            rescale=1.0/255.0,\n",
    "            width_shift_range=0.1,\n",
    "            height_shift_range=0.1,\n",
    "            horizontal_flip=True\n",
    "        )\n",
    "    \n",
    "    def _get_validation_augmentation(self):\n",
    "        return tf.keras.preprocessing.image.ImageDataGenerator(\n",
    "            validation_split=self.validation_split,\n",
    "            rescale=1.0/255.0)\n",
    "\n",
    "    def _get_test_augmentation(self):\n",
    "        return tf.keras.preprocessing.image.ImageDataGenerator(rescale=1.0/255.0)\n",
    "\n",
    "    def initialize_data_generators(self):\n",
    "        train_datagen = self._get_train_augmentation()\n",
    "        validation_datagen = self._get_validation_augmentation()\n",
    "        test_datagen = self._get_test_augmentation()\n",
    "\n",
    "        common_params = {\n",
    "            'target_size': self.img_size,\n",
    "            'batch_size': self.batch_size,\n",
    "            'class_mode': 'binary'\n",
    "        }\n",
    "\n",
    "        self.train_generator = train_datagen.flow_from_directory(\n",
    "            os.path.join(self.data_dir, \"o-vs-r-split/train/\"),\n",
    "            subset=\"training\",\n",
    "            **common_params)\n",
    "        \n",
    "        self.validation_generator = validation_datagen.flow_from_directory(\n",
    "            os.path.join(self.data_dir, \"o-vs-r-split/train/\"),\n",
    "            subset=\"validation\",\n",
    "            **common_params)\n",
    "        \n",
    "        self.test_generator = test_datagen.flow_from_directory(\n",
    "            os.path.join(self.data_dir, \"o-vs-r-split/test/\"),\n",
    "            **common_params)\n",
    "        \n",
    "        return self\n",
    "\n",
    "data = DataUtils().download_data().initialize_data_generators()\n",
    "print(f\"Train data generator consists of  {len(data.train_generator)} batches.\")"
   ]
  },
  {
   "cell_type": "markdown",
   "metadata": {},
   "source": [
    "## Modeling"
   ]
  },
  {
   "cell_type": "code",
   "execution_count": 12,
   "metadata": {},
   "outputs": [],
   "source": [
    "import matplotlib.pyplot as plt\n",
    "\n",
    "class Modeling():\n",
    "    def __init__(self, data):\n",
    "        self.data = data\n",
    "        self.model = None\n",
    "        self.history = None\n",
    "        self.feature_extractor = None\n",
    "\n",
    "    def load_feature_extractor(self):\n",
    "        vgg = tf.keras.applications.VGG16(\n",
    "            include_top=False,\n",
    "            weights='imagenet',\n",
    "            input_shape = data.img_size + (3,))\n",
    "        vgg.trainable = False\n",
    "\n",
    "        output = vgg.layers[-1].output\n",
    "        output = tf.keras.layers.Flatten()(output)\n",
    "        self.feature_extractor = tf.keras.Model(vgg.input, output)\n",
    "        return self\n",
    "    \n",
    "    def build_model(self):\n",
    "        inputs = tf.keras.layers.Input(shape=data.img_size + (3,))\n",
    "        x = self.feature_extractor(inputs, training=False)\n",
    "        x = tf.keras.layers.Dense(512, activation='relu')(x)\n",
    "        x = tf.keras.layers.Dropout(0.5)(x)\n",
    "        x = tf.keras.layers.BatchNormalization()(x)\n",
    "        x = tf.keras.layers.Dense(512, activation='relu')(x)\n",
    "        x = tf.keras.layers.Dropout(0.5)(x)\n",
    "        x = tf.keras.layers.BatchNormalization()(x)\n",
    "        outputs = tf.keras.layers.Dense(1, activation='sigmoid')(x)\n",
    "        self.model = tf.keras.Model(inputs, outputs)\n",
    "        return self\n",
    "    \n",
    "    def compile_model(self):\n",
    "        self.model.compile(\n",
    "            optimizer=tf.keras.optimizers.RMSprop(learning_rate=0.0001),\n",
    "            loss='binary_crossentropy',\n",
    "            metrics=['accuracy'])\n",
    "        return self\n",
    "    \n",
    "    def train_model(self, epochs=10):\n",
    "        self.history = self.model.fit(\n",
    "            self.data.train_generator,\n",
    "            validation_data=self.data.validation_generator,\n",
    "            epochs=epochs,\n",
    "            verbose=1)\n",
    "        return self\n",
    "    \n",
    "    def plot_history(self):\n",
    "        \n",
    "        acc = self.history.history['accuracy']\n",
    "        val_acc = self.history.history['val_accuracy']\n",
    "        loss = self.history.history['loss']\n",
    "        val_loss = self.history.history['val_loss']\n",
    "\n",
    "        epochs = range(len(acc))\n",
    "\n",
    "        plt.plot(epochs, acc, 'r', label='Training accuracy')\n",
    "        plt.plot(epochs, val_acc, 'b', label='Validation accuracy')\n",
    "        plt.title('Training and validation accuracy')\n",
    "        plt.figure()\n",
    "        plt.plot(epochs, loss, 'r', label='Training Loss')\n",
    "        plt.plot(epochs, val_loss, 'b', label='Validation Loss')\n",
    "        plt.title('Training and validation loss')\n",
    "        plt.legend()\n",
    "        plt.show()\n",
    "        return self"
   ]
  },
  {
   "cell_type": "code",
   "execution_count": null,
   "metadata": {},
   "outputs": [
    {
     "name": "stderr",
     "output_type": "stream",
     "text": [
      "/mnt/Data/git_root/ibm-ai-engineering/.dl-env/lib/python3.12/site-packages/keras/src/trainers/data_adapters/py_dataset_adapter.py:121: UserWarning: Your `PyDataset` class should call `super().__init__(**kwargs)` in its constructor. `**kwargs` can include `workers`, `use_multiprocessing`, `max_queue_size`. Do not pass these arguments to `fit()`, as they will be ignored.\n",
      "  self._warn_if_super_not_called()\n"
     ]
    },
    {
     "name": "stdout",
     "output_type": "stream",
     "text": [
      "Epoch 1/10\n"
     ]
    },
    {
     "name": "stderr",
     "output_type": "stream",
     "text": [
      "WARNING: All log messages before absl::InitializeLog() is called are written to STDERR\n",
      "I0000 00:00:1736604295.624917   44424 service.cc:148] XLA service 0x78167c012550 initialized for platform CUDA (this does not guarantee that XLA will be used). Devices:\n",
      "I0000 00:00:1736604295.625008   44424 service.cc:156]   StreamExecutor device (0): NVIDIA GeForce RTX 3060, Compute Capability 8.6\n",
      "2025-01-11 15:04:55.872013: I tensorflow/compiler/mlir/tensorflow/utils/dump_mlir_util.cc:268] disabling MLIR crash reproducer, set env var `MLIR_CRASH_REPRODUCER_DIRECTORY` to enable.\n",
      "I0000 00:00:1736604296.295551   44424 cuda_dnn.cc:529] Loaded cuDNN version 90300\n"
     ]
    },
    {
     "name": "stdout",
     "output_type": "stream",
     "text": [
      "\u001b[1m 1/25\u001b[0m \u001b[37m━━━━━━━━━━━━━━━━━━━━\u001b[0m \u001b[1m3:36\u001b[0m 9s/step - accuracy: 0.4062 - loss: 1.1974"
     ]
    },
    {
     "name": "stderr",
     "output_type": "stream",
     "text": [
      "I0000 00:00:1736604303.325510   44424 device_compiler.h:188] Compiled cluster using XLA!  This line is logged at most once for the lifetime of the process.\n"
     ]
    },
    {
     "name": "stdout",
     "output_type": "stream",
     "text": [
      "\u001b[1m25/25\u001b[0m \u001b[32m━━━━━━━━━━━━━━━━━━━━\u001b[0m\u001b[37m\u001b[0m \u001b[1m0s\u001b[0m 86ms/step - accuracy: 0.5808 - loss: 0.8408"
     ]
    },
    {
     "name": "stderr",
     "output_type": "stream",
     "text": [
      "/mnt/Data/git_root/ibm-ai-engineering/.dl-env/lib/python3.12/site-packages/keras/src/trainers/data_adapters/py_dataset_adapter.py:121: UserWarning: Your `PyDataset` class should call `super().__init__(**kwargs)` in its constructor. `**kwargs` can include `workers`, `use_multiprocessing`, `max_queue_size`. Do not pass these arguments to `fit()`, as they will be ignored.\n",
      "  self._warn_if_super_not_called()\n"
     ]
    },
    {
     "name": "stdout",
     "output_type": "stream",
     "text": [
      "\u001b[1m25/25\u001b[0m \u001b[32m━━━━━━━━━━━━━━━━━━━━\u001b[0m\u001b[37m\u001b[0m \u001b[1m13s\u001b[0m 182ms/step - accuracy: 0.5831 - loss: 0.8363 - val_accuracy: 0.6700 - val_loss: 0.5685\n",
      "Epoch 2/10\n",
      "\u001b[1m25/25\u001b[0m \u001b[32m━━━━━━━━━━━━━━━━━━━━\u001b[0m\u001b[37m\u001b[0m \u001b[1m2s\u001b[0m 91ms/step - accuracy: 0.7435 - loss: 0.5510 - val_accuracy: 0.7900 - val_loss: 0.4467\n",
      "Epoch 3/10\n",
      "\u001b[1m25/25\u001b[0m \u001b[32m━━━━━━━━━━━━━━━━━━━━\u001b[0m\u001b[37m\u001b[0m \u001b[1m2s\u001b[0m 94ms/step - accuracy: 0.7760 - loss: 0.4522 - val_accuracy: 0.8400 - val_loss: 0.3982\n",
      "Epoch 4/10\n",
      "\u001b[1m25/25\u001b[0m \u001b[32m━━━━━━━━━━━━━━━━━━━━\u001b[0m\u001b[37m\u001b[0m \u001b[1m3s\u001b[0m 104ms/step - accuracy: 0.8182 - loss: 0.4079 - val_accuracy: 0.8550 - val_loss: 0.3501\n",
      "Epoch 5/10\n",
      "\u001b[1m25/25\u001b[0m \u001b[32m━━━━━━━━━━━━━━━━━━━━\u001b[0m\u001b[37m\u001b[0m \u001b[1m2s\u001b[0m 95ms/step - accuracy: 0.8182 - loss: 0.4031 - val_accuracy: 0.8900 - val_loss: 0.3356\n",
      "Epoch 6/10\n",
      "\u001b[1m25/25\u001b[0m \u001b[32m━━━━━━━━━━━━━━━━━━━━\u001b[0m\u001b[37m\u001b[0m \u001b[1m2s\u001b[0m 96ms/step - accuracy: 0.8092 - loss: 0.4092 - val_accuracy: 0.9000 - val_loss: 0.2804\n",
      "Epoch 7/10\n",
      "\u001b[1m25/25\u001b[0m \u001b[32m━━━━━━━━━━━━━━━━━━━━\u001b[0m\u001b[37m\u001b[0m \u001b[1m3s\u001b[0m 99ms/step - accuracy: 0.8380 - loss: 0.3433 - val_accuracy: 0.8900 - val_loss: 0.2771\n",
      "Epoch 8/10\n",
      "\u001b[1m25/25\u001b[0m \u001b[32m━━━━━━━━━━━━━━━━━━━━\u001b[0m\u001b[37m\u001b[0m \u001b[1m3s\u001b[0m 105ms/step - accuracy: 0.8575 - loss: 0.3428 - val_accuracy: 0.8950 - val_loss: 0.2725\n",
      "Epoch 9/10\n",
      "\u001b[1m25/25\u001b[0m \u001b[32m━━━━━━━━━━━━━━━━━━━━\u001b[0m\u001b[37m\u001b[0m \u001b[1m2s\u001b[0m 96ms/step - accuracy: 0.8457 - loss: 0.3487 - val_accuracy: 0.8950 - val_loss: 0.2639\n",
      "Epoch 10/10\n",
      "\u001b[1m25/25\u001b[0m \u001b[32m━━━━━━━━━━━━━━━━━━━━\u001b[0m\u001b[37m\u001b[0m \u001b[1m2s\u001b[0m 96ms/step - accuracy: 0.8832 - loss: 0.2716 - val_accuracy: 0.8800 - val_loss: 0.2655\n"
     ]
    },
    {
     "data": {
      "image/png": "[encoded data removed]",
      "text/plain": [
       "<Figure size 640x480 with 1 Axes>"
      ]
     },
     "metadata": {},
     "output_type": "display_data"
    },
    {
     "data": {
      "image/png": "[encoded data removed]",
      "text/plain": [
       "<Figure size 640x480 with 1 Axes>"
      ]
     },
     "metadata": {},
     "output_type": "display_data"
    }
   ],
   "source": [
    "freezed_model = Modeling(data).load_feature_extractor()\\\n",
    "    .build_model().compile_model().train_model(epochs=10).plot_history()"
   ]
  },
  {
   "cell_type": "code",
   "execution_count": null,
   "metadata": {},
   "outputs": [],
   "source": [
    "# tbd - callbacks\n",
    "# finetuning and generalization of the current approach\n",
    "# evaluation on the test set\n",
    "# plotting examples of correct and incorrect predictions"
   ]
  },
  {
   "cell_type": "markdown",
   "metadata": {},
   "source": [
    "#"
   ]
  }
 ],
 "metadata": {
  "kernelspec": {
   "display_name": ".dl-env",
   "language": "python",
   "name": "python3"
  },
  "language_info": {
   "codemirror_mode": {
    "name": "ipython",
    "version": 3
   },
   "file_extension": ".py",
   "mimetype": "text/x-python",
   "name": "python",
   "nbconvert_exporter": "python",
   "pygments_lexer": "ipython3",
   "version": "3.12.3"
  }
 },
 "nbformat": 4,
 "nbformat_minor": 2
}

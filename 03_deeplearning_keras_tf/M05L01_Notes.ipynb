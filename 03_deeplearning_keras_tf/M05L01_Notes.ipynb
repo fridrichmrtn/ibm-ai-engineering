{
 "cells": [
  {
   "cell_type": "markdown",
   "metadata": {},
   "source": [
    "# Advanced Keras techniques\n",
    "* custom training loops\n",
    "    * customize training process,\n",
    "    * complex training strategies,\n",
    "    * custom loss functions.\n",
    "* custom layers\n",
    "    * dense and lambda layers\n",
    "    * custom activation functions\n",
    "* custom callbacks\n",
    "    * monitor training\n",
    "    * early stopping\n",
    "    * model checkpoints\n",
    "    * custom callbacks\n",
    "* model optimization\n",
    "    * mixed-precision training (reduce memory footprint)\n",
    "    * optimization toolkit\n",
    "\n",
    "## Custom training loops\n",
    "* components > dataset, model, optimizer, loss\n",
    "* tape records the operations in the forward pass for autodiff for the back pass\n",
    "* more control over the process, logging and monitoring, flexibility, other custom artifacts (loss & metrics)\n"
   ]
  }
 ],
 "metadata": {
  "language_info": {
   "name": "python"
  }
 },
 "nbformat": 4,
 "nbformat_minor": 2
}
